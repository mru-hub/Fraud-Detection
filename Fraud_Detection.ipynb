{
 "cells": [
  {
   "cell_type": "code",
   "execution_count": 1,
   "id": "c28e05c4",
   "metadata": {},
   "outputs": [],
   "source": [
    "import pandas as pd\n",
    "import numpy as np\n",
    "import seaborn as sns\n",
    "import matplotlib.pyplot as plt\n",
    "\n",
    "# ignore the warnings\n",
    "import warnings\n",
    "warnings.filterwarnings('ignore')"
   ]
  },
  {
   "cell_type": "code",
   "execution_count": 2,
   "id": "30129def",
   "metadata": {},
   "outputs": [],
   "source": [
    "from sklearn.ensemble import ExtraTreesClassifier\n",
    "from sklearn.model_selection import train_test_split\n",
    "from xgboost import XGBClassifier\n",
    "from sklearn.ensemble import RandomForestClassifier\n",
    "from sklearn.ensemble import IsolationForest\n",
    "from sklearn.svm import SVC\n",
    "from sklearn.model_selection import cross_val_score\n",
    "from sklearn.metrics import confusion_matrix, classification_report, plot_confusion_matrix, accuracy_score, auc,ConfusionMatrixDisplay, RocCurveDisplay\n",
    "from sklearn.metrics import roc_curve, auc,recall_score,precision_score, f1_score\n"
   ]
  },
  {
   "cell_type": "code",
   "execution_count": 3,
   "id": "06ce65c7",
   "metadata": {},
   "outputs": [],
   "source": [
    "def plot_roc_curve(y_test, y_prediction):\n",
    "    fpr, tpr, _ = roc_curve(y_test, y_prediction)\n",
    "    roc_auc = auc(fpr, tpr)\n",
    "    plt.figure()\n",
    "\n",
    "    lw = 2\n",
    "    plt.plot(fpr, tpr, color='darkorange',\n",
    "             lw=lw, label='ROC curve (area = %0.2f)' % roc_auc)\n",
    "    plt.plot([0, 1], [0, 1], color='navy', lw=lw, linestyle='--')\n",
    "    plt.xlim([-0.02, 1.0])\n",
    "    plt.ylim([0.0, 1.05])\n",
    "    plt.xlabel('False Positive Rate')\n",
    "    plt.ylabel('True Positive Rate')\n",
    "    plt.title('ROC curve')\n",
    "    plt.legend(loc=\"lower right\")\n",
    "    plt.show()"
   ]
  },
  {
   "cell_type": "markdown",
   "id": "9b9415db",
   "metadata": {},
   "source": [
    "# Data "
   ]
  },
  {
   "cell_type": "code",
   "execution_count": 4,
   "id": "dab328b2",
   "metadata": {},
   "outputs": [],
   "source": [
    "#Loading Data\n",
    "data1=pd.read_csv(\"transactions_obf.csv\")\n",
    "data2=pd.read_csv(\"labels_obf.csv\")"
   ]
  },
  {
   "cell_type": "code",
   "execution_count": 5,
   "id": "cac7fdce",
   "metadata": {},
   "outputs": [
    {
     "data": {
      "text/plain": [
       "transactionTime          0\n",
       "eventId                  0\n",
       "accountNumber            0\n",
       "merchantId               0\n",
       "mcc                      0\n",
       "merchantCountry          0\n",
       "merchantZip          23005\n",
       "posEntryMode             0\n",
       "transactionAmount        0\n",
       "availableCash            0\n",
       "dtype: int64"
      ]
     },
     "execution_count": 5,
     "metadata": {},
     "output_type": "execute_result"
    }
   ],
   "source": [
    "data1.isnull().sum()"
   ]
  },
  {
   "cell_type": "code",
   "execution_count": 6,
   "id": "ef4c8baa",
   "metadata": {},
   "outputs": [
    {
     "data": {
      "text/html": [
       "<div>\n",
       "<style scoped>\n",
       "    .dataframe tbody tr th:only-of-type {\n",
       "        vertical-align: middle;\n",
       "    }\n",
       "\n",
       "    .dataframe tbody tr th {\n",
       "        vertical-align: top;\n",
       "    }\n",
       "\n",
       "    .dataframe thead th {\n",
       "        text-align: right;\n",
       "    }\n",
       "</style>\n",
       "<table border=\"1\" class=\"dataframe\">\n",
       "  <thead>\n",
       "    <tr style=\"text-align: right;\">\n",
       "      <th></th>\n",
       "      <th>transactionTime</th>\n",
       "      <th>eventId</th>\n",
       "      <th>accountNumber</th>\n",
       "      <th>merchantId</th>\n",
       "      <th>mcc</th>\n",
       "      <th>merchantCountry</th>\n",
       "      <th>merchantZip</th>\n",
       "      <th>posEntryMode</th>\n",
       "      <th>transactionAmount</th>\n",
       "      <th>availableCash</th>\n",
       "    </tr>\n",
       "  </thead>\n",
       "  <tbody>\n",
       "    <tr>\n",
       "      <th>0</th>\n",
       "      <td>2017-01-01T00:00:00Z</td>\n",
       "      <td>18688431A1</td>\n",
       "      <td>94f9b4e7</td>\n",
       "      <td>b76d06</td>\n",
       "      <td>5968</td>\n",
       "      <td>826</td>\n",
       "      <td>CR0</td>\n",
       "      <td>1</td>\n",
       "      <td>10.72</td>\n",
       "      <td>7500</td>\n",
       "    </tr>\n",
       "    <tr>\n",
       "      <th>1</th>\n",
       "      <td>2017-01-01T00:49:03Z</td>\n",
       "      <td>2164986A1</td>\n",
       "      <td>648e19cf</td>\n",
       "      <td>718cc6</td>\n",
       "      <td>5499</td>\n",
       "      <td>826</td>\n",
       "      <td>DE14</td>\n",
       "      <td>81</td>\n",
       "      <td>21.19</td>\n",
       "      <td>4500</td>\n",
       "    </tr>\n",
       "    <tr>\n",
       "      <th>2</th>\n",
       "      <td>2017-01-01T00:43:17Z</td>\n",
       "      <td>31294145A1</td>\n",
       "      <td>c0ffab1b</td>\n",
       "      <td>94cafc</td>\n",
       "      <td>5735</td>\n",
       "      <td>442</td>\n",
       "      <td>NaN</td>\n",
       "      <td>81</td>\n",
       "      <td>5.04</td>\n",
       "      <td>9500</td>\n",
       "    </tr>\n",
       "    <tr>\n",
       "      <th>3</th>\n",
       "      <td>2017-01-01T00:15:07Z</td>\n",
       "      <td>11162049A1</td>\n",
       "      <td>038099dd</td>\n",
       "      <td>7d5803</td>\n",
       "      <td>5499</td>\n",
       "      <td>826</td>\n",
       "      <td>NR1</td>\n",
       "      <td>81</td>\n",
       "      <td>21.00</td>\n",
       "      <td>7500</td>\n",
       "    </tr>\n",
       "    <tr>\n",
       "      <th>4</th>\n",
       "      <td>2017-01-01T00:37:09Z</td>\n",
       "      <td>17067235A1</td>\n",
       "      <td>3130363b</td>\n",
       "      <td>12ca76</td>\n",
       "      <td>5411</td>\n",
       "      <td>826</td>\n",
       "      <td>M50</td>\n",
       "      <td>81</td>\n",
       "      <td>47.00</td>\n",
       "      <td>10500</td>\n",
       "    </tr>\n",
       "  </tbody>\n",
       "</table>\n",
       "</div>"
      ],
      "text/plain": [
       "        transactionTime     eventId accountNumber merchantId   mcc  \\\n",
       "0  2017-01-01T00:00:00Z  18688431A1      94f9b4e7     b76d06  5968   \n",
       "1  2017-01-01T00:49:03Z   2164986A1      648e19cf     718cc6  5499   \n",
       "2  2017-01-01T00:43:17Z  31294145A1      c0ffab1b     94cafc  5735   \n",
       "3  2017-01-01T00:15:07Z  11162049A1      038099dd     7d5803  5499   \n",
       "4  2017-01-01T00:37:09Z  17067235A1      3130363b     12ca76  5411   \n",
       "\n",
       "   merchantCountry merchantZip  posEntryMode  transactionAmount  availableCash  \n",
       "0              826         CR0             1              10.72           7500  \n",
       "1              826        DE14            81              21.19           4500  \n",
       "2              442         NaN            81               5.04           9500  \n",
       "3              826         NR1            81              21.00           7500  \n",
       "4              826         M50            81              47.00          10500  "
      ]
     },
     "execution_count": 6,
     "metadata": {},
     "output_type": "execute_result"
    }
   ],
   "source": [
    "data1.head()"
   ]
  },
  {
   "cell_type": "code",
   "execution_count": 7,
   "id": "26f0c060",
   "metadata": {},
   "outputs": [
    {
     "data": {
      "text/html": [
       "<div>\n",
       "<style scoped>\n",
       "    .dataframe tbody tr th:only-of-type {\n",
       "        vertical-align: middle;\n",
       "    }\n",
       "\n",
       "    .dataframe tbody tr th {\n",
       "        vertical-align: top;\n",
       "    }\n",
       "\n",
       "    .dataframe thead th {\n",
       "        text-align: right;\n",
       "    }\n",
       "</style>\n",
       "<table border=\"1\" class=\"dataframe\">\n",
       "  <thead>\n",
       "    <tr style=\"text-align: right;\">\n",
       "      <th></th>\n",
       "      <th>reportedTime</th>\n",
       "      <th>eventId</th>\n",
       "    </tr>\n",
       "  </thead>\n",
       "  <tbody>\n",
       "    <tr>\n",
       "      <th>0</th>\n",
       "      <td>2017-01-04T00:00:00Z</td>\n",
       "      <td>101536329A1</td>\n",
       "    </tr>\n",
       "    <tr>\n",
       "      <th>1</th>\n",
       "      <td>2017-01-04T00:00:00Z</td>\n",
       "      <td>101536425A1</td>\n",
       "    </tr>\n",
       "    <tr>\n",
       "      <th>2</th>\n",
       "      <td>2017-01-04T00:00:00Z</td>\n",
       "      <td>101536473A1</td>\n",
       "    </tr>\n",
       "    <tr>\n",
       "      <th>3</th>\n",
       "      <td>2017-01-04T00:00:00Z</td>\n",
       "      <td>101536617A1</td>\n",
       "    </tr>\n",
       "    <tr>\n",
       "      <th>4</th>\n",
       "      <td>2017-01-04T00:00:00Z</td>\n",
       "      <td>101536761A1</td>\n",
       "    </tr>\n",
       "  </tbody>\n",
       "</table>\n",
       "</div>"
      ],
      "text/plain": [
       "           reportedTime      eventId\n",
       "0  2017-01-04T00:00:00Z  101536329A1\n",
       "1  2017-01-04T00:00:00Z  101536425A1\n",
       "2  2017-01-04T00:00:00Z  101536473A1\n",
       "3  2017-01-04T00:00:00Z  101536617A1\n",
       "4  2017-01-04T00:00:00Z  101536761A1"
      ]
     },
     "execution_count": 7,
     "metadata": {},
     "output_type": "execute_result"
    }
   ],
   "source": [
    "data2.head()"
   ]
  },
  {
   "cell_type": "code",
   "execution_count": 8,
   "id": "5d2aedad",
   "metadata": {},
   "outputs": [
    {
     "data": {
      "text/plain": [
       "(118621, 10)"
      ]
     },
     "execution_count": 8,
     "metadata": {},
     "output_type": "execute_result"
    }
   ],
   "source": [
    "data1.shape"
   ]
  },
  {
   "cell_type": "code",
   "execution_count": 9,
   "id": "4b31ae32",
   "metadata": {},
   "outputs": [
    {
     "data": {
      "text/plain": [
       "(875, 2)"
      ]
     },
     "execution_count": 9,
     "metadata": {},
     "output_type": "execute_result"
    }
   ],
   "source": [
    "data2.shape"
   ]
  },
  {
   "cell_type": "code",
   "execution_count": 10,
   "id": "9ad26b07",
   "metadata": {},
   "outputs": [],
   "source": [
    "data=data1.copy()"
   ]
  },
  {
   "cell_type": "code",
   "execution_count": 11,
   "id": "8a01961b",
   "metadata": {},
   "outputs": [],
   "source": [
    "#merging two dataframes to flag fraud transcations \n",
    "values = set(data2['eventId'])\n",
    "\n",
    "data['fraudEvent'] = data['eventId'].isin(values).astype(int)"
   ]
  },
  {
   "cell_type": "code",
   "execution_count": 12,
   "id": "6a31667a",
   "metadata": {},
   "outputs": [
    {
     "data": {
      "text/plain": [
       "0    117746\n",
       "1       875\n",
       "Name: fraudEvent, dtype: int64"
      ]
     },
     "execution_count": 12,
     "metadata": {},
     "output_type": "execute_result"
    }
   ],
   "source": [
    "data['fraudEvent'].value_counts()"
   ]
  },
  {
   "cell_type": "code",
   "execution_count": 13,
   "id": "8f723d39",
   "metadata": {},
   "outputs": [
    {
     "data": {
      "text/plain": [
       "(118621, 11)"
      ]
     },
     "execution_count": 13,
     "metadata": {},
     "output_type": "execute_result"
    }
   ],
   "source": [
    "#Data Dimension\n",
    "data.shape"
   ]
  },
  {
   "cell_type": "code",
   "execution_count": 14,
   "id": "664aa4cf",
   "metadata": {},
   "outputs": [
    {
     "data": {
      "text/plain": [
       "Index(['transactionTime', 'eventId', 'accountNumber', 'merchantId', 'mcc',\n",
       "       'merchantCountry', 'merchantZip', 'posEntryMode', 'transactionAmount',\n",
       "       'availableCash', 'fraudEvent'],\n",
       "      dtype='object')"
      ]
     },
     "execution_count": 14,
     "metadata": {},
     "output_type": "execute_result"
    }
   ],
   "source": [
    "data.columns"
   ]
  },
  {
   "cell_type": "markdown",
   "id": "15b172ee",
   "metadata": {},
   "source": [
    "## Data cleaning and evaluation"
   ]
  },
  {
   "cell_type": "code",
   "execution_count": 15,
   "id": "ed9b6af6",
   "metadata": {},
   "outputs": [
    {
     "data": {
      "text/plain": [
       "0"
      ]
     },
     "execution_count": 15,
     "metadata": {},
     "output_type": "execute_result"
    }
   ],
   "source": [
    "#Check for duplicate rows\n",
    "data.duplicated().sum()"
   ]
  },
  {
   "cell_type": "code",
   "execution_count": 16,
   "id": "482ba828",
   "metadata": {},
   "outputs": [
    {
     "data": {
      "text/plain": [
       "object     5\n",
       "int64      4\n",
       "float64    1\n",
       "int32      1\n",
       "dtype: int64"
      ]
     },
     "execution_count": 16,
     "metadata": {},
     "output_type": "execute_result"
    }
   ],
   "source": [
    "data.dtypes.value_counts()"
   ]
  },
  {
   "cell_type": "code",
   "execution_count": 17,
   "id": "4ec7f883",
   "metadata": {},
   "outputs": [
    {
     "data": {
      "text/plain": [
       "transactionTime      118105\n",
       "eventId              118621\n",
       "accountNumber           766\n",
       "merchantId            33327\n",
       "mcc                     361\n",
       "merchantCountry          82\n",
       "merchantZip            3260\n",
       "posEntryMode             10\n",
       "transactionAmount     16431\n",
       "availableCash            19\n",
       "fraudEvent                2\n",
       "dtype: int64"
      ]
     },
     "execution_count": 17,
     "metadata": {},
     "output_type": "execute_result"
    }
   ],
   "source": [
    "data.nunique()"
   ]
  },
  {
   "cell_type": "code",
   "execution_count": 18,
   "id": "523c3fae",
   "metadata": {},
   "outputs": [
    {
     "data": {
      "text/plain": [
       "Index(['merchantZip'], dtype='object')"
      ]
     },
     "execution_count": 18,
     "metadata": {},
     "output_type": "execute_result"
    }
   ],
   "source": [
    "#Check out the object columns, number of uniques and number of NaNs\n",
    "data.columns[data.isna().any()]"
   ]
  },
  {
   "cell_type": "code",
   "execution_count": 19,
   "id": "dc910fba",
   "metadata": {},
   "outputs": [
    {
     "data": {
      "text/plain": [
       "NaN      19.393699\n",
       "0        12.201887\n",
       "E12       0.964416\n",
       "SL4       0.549650\n",
       "LS11      0.515086\n",
       "           ...    \n",
       "LL59      0.000843\n",
       "E79HL     0.000843\n",
       "B54US     0.000843\n",
       "LE35      0.000843\n",
       "W84PT     0.000843\n",
       "Name: merchantZip, Length: 3261, dtype: float64"
      ]
     },
     "execution_count": 19,
     "metadata": {},
     "output_type": "execute_result"
    }
   ],
   "source": [
    "data['merchantZip'].value_counts(dropna=False, normalize=True)*100\n",
    "#Drop this column "
   ]
  },
  {
   "cell_type": "code",
   "execution_count": 20,
   "id": "180ea3de",
   "metadata": {},
   "outputs": [],
   "source": [
    "data.drop('merchantZip', axis=1, inplace=True)"
   ]
  },
  {
   "cell_type": "code",
   "execution_count": 21,
   "id": "f37fca4b",
   "metadata": {},
   "outputs": [
    {
     "data": {
      "text/plain": [
       "0   2017-01-01 00:00:00+00:00\n",
       "1   2017-01-01 00:49:03+00:00\n",
       "2   2017-01-01 00:43:17+00:00\n",
       "3   2017-01-01 00:15:07+00:00\n",
       "4   2017-01-01 00:37:09+00:00\n",
       "Name: transactionTime, dtype: datetime64[ns, UTC]"
      ]
     },
     "execution_count": 21,
     "metadata": {},
     "output_type": "execute_result"
    }
   ],
   "source": [
    "data['transactionTime']=pd.to_datetime(data['transactionTime'])\n",
    "data['transactionTime'].head()"
   ]
  },
  {
   "cell_type": "code",
   "execution_count": 22,
   "id": "5f77eb05",
   "metadata": {},
   "outputs": [
    {
     "data": {
      "text/plain": [
       "0          0\n",
       "1          0\n",
       "2          0\n",
       "3          0\n",
       "4          0\n",
       "          ..\n",
       "118616    23\n",
       "118617    23\n",
       "118618    23\n",
       "118619     0\n",
       "118620    23\n",
       "Name: time, Length: 118621, dtype: int64"
      ]
     },
     "execution_count": 22,
     "metadata": {},
     "output_type": "execute_result"
    }
   ],
   "source": [
    "#df['transactionTime']\n",
    "data['year']=pd.DatetimeIndex(data['transactionTime']).year\n",
    "data['day']=pd.DatetimeIndex(data['transactionTime']).day\n",
    "data['time']=pd.DatetimeIndex(data['transactionTime']).hour\n",
    "\n",
    "data['time']"
   ]
  },
  {
   "cell_type": "code",
   "execution_count": 23,
   "id": "a8d24d30",
   "metadata": {},
   "outputs": [
    {
     "data": {
      "text/html": [
       "<div>\n",
       "<style scoped>\n",
       "    .dataframe tbody tr th:only-of-type {\n",
       "        vertical-align: middle;\n",
       "    }\n",
       "\n",
       "    .dataframe tbody tr th {\n",
       "        vertical-align: top;\n",
       "    }\n",
       "\n",
       "    .dataframe thead th {\n",
       "        text-align: right;\n",
       "    }\n",
       "</style>\n",
       "<table border=\"1\" class=\"dataframe\">\n",
       "  <thead>\n",
       "    <tr style=\"text-align: right;\">\n",
       "      <th></th>\n",
       "      <th>eventId</th>\n",
       "      <th>accountNumber</th>\n",
       "      <th>merchantId</th>\n",
       "    </tr>\n",
       "  </thead>\n",
       "  <tbody>\n",
       "    <tr>\n",
       "      <th>0</th>\n",
       "      <td>18688431A1</td>\n",
       "      <td>94f9b4e7</td>\n",
       "      <td>b76d06</td>\n",
       "    </tr>\n",
       "    <tr>\n",
       "      <th>1</th>\n",
       "      <td>2164986A1</td>\n",
       "      <td>648e19cf</td>\n",
       "      <td>718cc6</td>\n",
       "    </tr>\n",
       "    <tr>\n",
       "      <th>2</th>\n",
       "      <td>31294145A1</td>\n",
       "      <td>c0ffab1b</td>\n",
       "      <td>94cafc</td>\n",
       "    </tr>\n",
       "    <tr>\n",
       "      <th>3</th>\n",
       "      <td>11162049A1</td>\n",
       "      <td>038099dd</td>\n",
       "      <td>7d5803</td>\n",
       "    </tr>\n",
       "    <tr>\n",
       "      <th>4</th>\n",
       "      <td>17067235A1</td>\n",
       "      <td>3130363b</td>\n",
       "      <td>12ca76</td>\n",
       "    </tr>\n",
       "  </tbody>\n",
       "</table>\n",
       "</div>"
      ],
      "text/plain": [
       "      eventId accountNumber merchantId\n",
       "0  18688431A1      94f9b4e7     b76d06\n",
       "1   2164986A1      648e19cf     718cc6\n",
       "2  31294145A1      c0ffab1b     94cafc\n",
       "3  11162049A1      038099dd     7d5803\n",
       "4  17067235A1      3130363b     12ca76"
      ]
     },
     "execution_count": 23,
     "metadata": {},
     "output_type": "execute_result"
    }
   ],
   "source": [
    "df_cat=data.select_dtypes(include=['object'])\n",
    "df_cat.head()\n",
    "#Non of categorical columns are useful- no need to encode "
   ]
  },
  {
   "cell_type": "code",
   "execution_count": null,
   "id": "c7fb0c83",
   "metadata": {},
   "outputs": [],
   "source": []
  },
  {
   "cell_type": "code",
   "execution_count": 24,
   "id": "05f1d72f",
   "metadata": {},
   "outputs": [
    {
     "data": {
      "text/html": [
       "<div>\n",
       "<style scoped>\n",
       "    .dataframe tbody tr th:only-of-type {\n",
       "        vertical-align: middle;\n",
       "    }\n",
       "\n",
       "    .dataframe tbody tr th {\n",
       "        vertical-align: top;\n",
       "    }\n",
       "\n",
       "    .dataframe thead th {\n",
       "        text-align: right;\n",
       "    }\n",
       "</style>\n",
       "<table border=\"1\" class=\"dataframe\">\n",
       "  <thead>\n",
       "    <tr style=\"text-align: right;\">\n",
       "      <th></th>\n",
       "      <th>count</th>\n",
       "      <th>mean</th>\n",
       "      <th>std</th>\n",
       "      <th>min</th>\n",
       "      <th>25%</th>\n",
       "      <th>50%</th>\n",
       "      <th>75%</th>\n",
       "      <th>max</th>\n",
       "      <th>range</th>\n",
       "      <th>variation coefficient</th>\n",
       "      <th>skew</th>\n",
       "      <th>kurtosis</th>\n",
       "    </tr>\n",
       "  </thead>\n",
       "  <tbody>\n",
       "    <tr>\n",
       "      <th>mcc</th>\n",
       "      <td>118621.0</td>\n",
       "      <td>5834.407272</td>\n",
       "      <td>976.183515</td>\n",
       "      <td>742.00</td>\n",
       "      <td>5411.00</td>\n",
       "      <td>5691.00</td>\n",
       "      <td>5967.0</td>\n",
       "      <td>9405.0</td>\n",
       "      <td>8663.00</td>\n",
       "      <td>0.167315</td>\n",
       "      <td>0.800649</td>\n",
       "      <td>4.969162</td>\n",
       "    </tr>\n",
       "    <tr>\n",
       "      <th>merchantCountry</th>\n",
       "      <td>118621.0</td>\n",
       "      <td>759.124388</td>\n",
       "      <td>154.070084</td>\n",
       "      <td>31.00</td>\n",
       "      <td>826.00</td>\n",
       "      <td>826.00</td>\n",
       "      <td>826.0</td>\n",
       "      <td>840.0</td>\n",
       "      <td>809.00</td>\n",
       "      <td>0.202958</td>\n",
       "      <td>-2.020270</td>\n",
       "      <td>2.687052</td>\n",
       "    </tr>\n",
       "    <tr>\n",
       "      <th>posEntryMode</th>\n",
       "      <td>118621.0</td>\n",
       "      <td>28.552651</td>\n",
       "      <td>35.647616</td>\n",
       "      <td>0.00</td>\n",
       "      <td>5.00</td>\n",
       "      <td>5.00</td>\n",
       "      <td>81.0</td>\n",
       "      <td>91.0</td>\n",
       "      <td>91.00</td>\n",
       "      <td>1.248487</td>\n",
       "      <td>0.804020</td>\n",
       "      <td>-1.344966</td>\n",
       "    </tr>\n",
       "    <tr>\n",
       "      <th>transactionAmount</th>\n",
       "      <td>118621.0</td>\n",
       "      <td>53.674774</td>\n",
       "      <td>183.665315</td>\n",
       "      <td>-0.15</td>\n",
       "      <td>8.03</td>\n",
       "      <td>20.25</td>\n",
       "      <td>49.0</td>\n",
       "      <td>13348.0</td>\n",
       "      <td>13348.15</td>\n",
       "      <td>3.421818</td>\n",
       "      <td>28.405271</td>\n",
       "      <td>1503.445956</td>\n",
       "    </tr>\n",
       "    <tr>\n",
       "      <th>availableCash</th>\n",
       "      <td>118621.0</td>\n",
       "      <td>6625.508974</td>\n",
       "      <td>3410.289486</td>\n",
       "      <td>500.00</td>\n",
       "      <td>4500.00</td>\n",
       "      <td>7500.00</td>\n",
       "      <td>8500.0</td>\n",
       "      <td>18500.0</td>\n",
       "      <td>18000.00</td>\n",
       "      <td>0.514721</td>\n",
       "      <td>-0.182784</td>\n",
       "      <td>-0.541319</td>\n",
       "    </tr>\n",
       "    <tr>\n",
       "      <th>time</th>\n",
       "      <td>118621.0</td>\n",
       "      <td>12.026960</td>\n",
       "      <td>6.832199</td>\n",
       "      <td>0.00</td>\n",
       "      <td>6.00</td>\n",
       "      <td>12.00</td>\n",
       "      <td>18.0</td>\n",
       "      <td>23.0</td>\n",
       "      <td>23.00</td>\n",
       "      <td>0.568074</td>\n",
       "      <td>-0.120168</td>\n",
       "      <td>-1.151825</td>\n",
       "    </tr>\n",
       "    <tr>\n",
       "      <th>day</th>\n",
       "      <td>118621.0</td>\n",
       "      <td>15.788790</td>\n",
       "      <td>8.717295</td>\n",
       "      <td>1.00</td>\n",
       "      <td>8.00</td>\n",
       "      <td>16.00</td>\n",
       "      <td>23.0</td>\n",
       "      <td>31.0</td>\n",
       "      <td>30.00</td>\n",
       "      <td>0.552119</td>\n",
       "      <td>0.004820</td>\n",
       "      <td>-1.173557</td>\n",
       "    </tr>\n",
       "    <tr>\n",
       "      <th>year</th>\n",
       "      <td>118621.0</td>\n",
       "      <td>2017.071918</td>\n",
       "      <td>0.258353</td>\n",
       "      <td>2017.00</td>\n",
       "      <td>2017.00</td>\n",
       "      <td>2017.00</td>\n",
       "      <td>2017.0</td>\n",
       "      <td>2018.0</td>\n",
       "      <td>1.00</td>\n",
       "      <td>0.000128</td>\n",
       "      <td>3.313981</td>\n",
       "      <td>8.982621</td>\n",
       "    </tr>\n",
       "  </tbody>\n",
       "</table>\n",
       "</div>"
      ],
      "text/plain": [
       "                      count         mean          std      min      25%  \\\n",
       "mcc                118621.0  5834.407272   976.183515   742.00  5411.00   \n",
       "merchantCountry    118621.0   759.124388   154.070084    31.00   826.00   \n",
       "posEntryMode       118621.0    28.552651    35.647616     0.00     5.00   \n",
       "transactionAmount  118621.0    53.674774   183.665315    -0.15     8.03   \n",
       "availableCash      118621.0  6625.508974  3410.289486   500.00  4500.00   \n",
       "time               118621.0    12.026960     6.832199     0.00     6.00   \n",
       "day                118621.0    15.788790     8.717295     1.00     8.00   \n",
       "year               118621.0  2017.071918     0.258353  2017.00  2017.00   \n",
       "\n",
       "                       50%     75%      max     range  variation coefficient  \\\n",
       "mcc                5691.00  5967.0   9405.0   8663.00               0.167315   \n",
       "merchantCountry     826.00   826.0    840.0    809.00               0.202958   \n",
       "posEntryMode          5.00    81.0     91.0     91.00               1.248487   \n",
       "transactionAmount    20.25    49.0  13348.0  13348.15               3.421818   \n",
       "availableCash      7500.00  8500.0  18500.0  18000.00               0.514721   \n",
       "time                 12.00    18.0     23.0     23.00               0.568074   \n",
       "day                  16.00    23.0     31.0     30.00               0.552119   \n",
       "year               2017.00  2017.0   2018.0      1.00               0.000128   \n",
       "\n",
       "                        skew     kurtosis  \n",
       "mcc                 0.800649     4.969162  \n",
       "merchantCountry    -2.020270     2.687052  \n",
       "posEntryMode        0.804020    -1.344966  \n",
       "transactionAmount  28.405271  1503.445956  \n",
       "availableCash      -0.182784    -0.541319  \n",
       "time               -0.120168    -1.151825  \n",
       "day                 0.004820    -1.173557  \n",
       "year                3.313981     8.982621  "
      ]
     },
     "execution_count": 24,
     "metadata": {},
     "output_type": "execute_result"
    }
   ],
   "source": [
    "#num_attributes=df.select_dtypes(exclude=['object'])\n",
    "num_attributes=data[['mcc','merchantCountry', 'posEntryMode', 'transactionAmount',\n",
    "       'availableCash','time','day', 'year']]\n",
    "\n",
    "describe = num_attributes.describe().T\n",
    "describe['range'] = (num_attributes.max() - num_attributes.min()).tolist()\n",
    "describe['variation coefficient'] = (num_attributes.std() / num_attributes.mean()).tolist()\n",
    "describe['skew'] = num_attributes.skew().tolist()\n",
    "describe['kurtosis'] = num_attributes.kurtosis().tolist()\n",
    "\n",
    "\n",
    "describe"
   ]
  },
  {
   "cell_type": "code",
   "execution_count": 25,
   "id": "e1933cdc",
   "metadata": {},
   "outputs": [],
   "source": [
    "from sklearn.preprocessing import RobustScaler\n",
    "df = data.copy()\n",
    "df['transactionAmount'] = RobustScaler().fit_transform(df['transactionAmount'].to_numpy().reshape(-1, 1))"
   ]
  },
  {
   "cell_type": "code",
   "execution_count": 26,
   "id": "017ea1d1",
   "metadata": {},
   "outputs": [
    {
     "data": {
      "text/html": [
       "<div>\n",
       "<style scoped>\n",
       "    .dataframe tbody tr th:only-of-type {\n",
       "        vertical-align: middle;\n",
       "    }\n",
       "\n",
       "    .dataframe tbody tr th {\n",
       "        vertical-align: top;\n",
       "    }\n",
       "\n",
       "    .dataframe thead th {\n",
       "        text-align: right;\n",
       "    }\n",
       "</style>\n",
       "<table border=\"1\" class=\"dataframe\">\n",
       "  <thead>\n",
       "    <tr style=\"text-align: right;\">\n",
       "      <th></th>\n",
       "      <th>count</th>\n",
       "      <th>mean</th>\n",
       "      <th>std</th>\n",
       "      <th>min</th>\n",
       "      <th>25%</th>\n",
       "      <th>50%</th>\n",
       "      <th>75%</th>\n",
       "      <th>max</th>\n",
       "      <th>range</th>\n",
       "      <th>variation coefficient</th>\n",
       "      <th>skew</th>\n",
       "      <th>kurtosis</th>\n",
       "    </tr>\n",
       "  </thead>\n",
       "  <tbody>\n",
       "    <tr>\n",
       "      <th>mcc</th>\n",
       "      <td>118621.0</td>\n",
       "      <td>5834.407272</td>\n",
       "      <td>976.183515</td>\n",
       "      <td>742.000000</td>\n",
       "      <td>5411.000000</td>\n",
       "      <td>5691.0</td>\n",
       "      <td>5967.000000</td>\n",
       "      <td>9405.000000</td>\n",
       "      <td>8663.000000</td>\n",
       "      <td>0.167315</td>\n",
       "      <td>0.800649</td>\n",
       "      <td>4.969162</td>\n",
       "    </tr>\n",
       "    <tr>\n",
       "      <th>merchantCountry</th>\n",
       "      <td>118621.0</td>\n",
       "      <td>759.124388</td>\n",
       "      <td>154.070084</td>\n",
       "      <td>31.000000</td>\n",
       "      <td>826.000000</td>\n",
       "      <td>826.0</td>\n",
       "      <td>826.000000</td>\n",
       "      <td>840.000000</td>\n",
       "      <td>809.000000</td>\n",
       "      <td>0.202958</td>\n",
       "      <td>-2.020270</td>\n",
       "      <td>2.687052</td>\n",
       "    </tr>\n",
       "    <tr>\n",
       "      <th>posEntryMode</th>\n",
       "      <td>118621.0</td>\n",
       "      <td>28.552651</td>\n",
       "      <td>35.647616</td>\n",
       "      <td>0.000000</td>\n",
       "      <td>5.000000</td>\n",
       "      <td>5.0</td>\n",
       "      <td>81.000000</td>\n",
       "      <td>91.000000</td>\n",
       "      <td>91.000000</td>\n",
       "      <td>1.248487</td>\n",
       "      <td>0.804020</td>\n",
       "      <td>-1.344966</td>\n",
       "    </tr>\n",
       "    <tr>\n",
       "      <th>transactionAmount</th>\n",
       "      <td>118621.0</td>\n",
       "      <td>0.815835</td>\n",
       "      <td>4.482922</td>\n",
       "      <td>-0.497925</td>\n",
       "      <td>-0.298267</td>\n",
       "      <td>0.0</td>\n",
       "      <td>0.701733</td>\n",
       "      <td>325.305101</td>\n",
       "      <td>325.803027</td>\n",
       "      <td>5.494886</td>\n",
       "      <td>28.405271</td>\n",
       "      <td>1503.445956</td>\n",
       "    </tr>\n",
       "    <tr>\n",
       "      <th>availableCash</th>\n",
       "      <td>118621.0</td>\n",
       "      <td>6625.508974</td>\n",
       "      <td>3410.289486</td>\n",
       "      <td>500.000000</td>\n",
       "      <td>4500.000000</td>\n",
       "      <td>7500.0</td>\n",
       "      <td>8500.000000</td>\n",
       "      <td>18500.000000</td>\n",
       "      <td>18000.000000</td>\n",
       "      <td>0.514721</td>\n",
       "      <td>-0.182784</td>\n",
       "      <td>-0.541319</td>\n",
       "    </tr>\n",
       "    <tr>\n",
       "      <th>time</th>\n",
       "      <td>118621.0</td>\n",
       "      <td>12.026960</td>\n",
       "      <td>6.832199</td>\n",
       "      <td>0.000000</td>\n",
       "      <td>6.000000</td>\n",
       "      <td>12.0</td>\n",
       "      <td>18.000000</td>\n",
       "      <td>23.000000</td>\n",
       "      <td>23.000000</td>\n",
       "      <td>0.568074</td>\n",
       "      <td>-0.120168</td>\n",
       "      <td>-1.151825</td>\n",
       "    </tr>\n",
       "    <tr>\n",
       "      <th>day</th>\n",
       "      <td>118621.0</td>\n",
       "      <td>15.788790</td>\n",
       "      <td>8.717295</td>\n",
       "      <td>1.000000</td>\n",
       "      <td>8.000000</td>\n",
       "      <td>16.0</td>\n",
       "      <td>23.000000</td>\n",
       "      <td>31.000000</td>\n",
       "      <td>30.000000</td>\n",
       "      <td>0.552119</td>\n",
       "      <td>0.004820</td>\n",
       "      <td>-1.173557</td>\n",
       "    </tr>\n",
       "    <tr>\n",
       "      <th>year</th>\n",
       "      <td>118621.0</td>\n",
       "      <td>2017.071918</td>\n",
       "      <td>0.258353</td>\n",
       "      <td>2017.000000</td>\n",
       "      <td>2017.000000</td>\n",
       "      <td>2017.0</td>\n",
       "      <td>2017.000000</td>\n",
       "      <td>2018.000000</td>\n",
       "      <td>1.000000</td>\n",
       "      <td>0.000128</td>\n",
       "      <td>3.313981</td>\n",
       "      <td>8.982621</td>\n",
       "    </tr>\n",
       "  </tbody>\n",
       "</table>\n",
       "</div>"
      ],
      "text/plain": [
       "                      count         mean          std          min  \\\n",
       "mcc                118621.0  5834.407272   976.183515   742.000000   \n",
       "merchantCountry    118621.0   759.124388   154.070084    31.000000   \n",
       "posEntryMode       118621.0    28.552651    35.647616     0.000000   \n",
       "transactionAmount  118621.0     0.815835     4.482922    -0.497925   \n",
       "availableCash      118621.0  6625.508974  3410.289486   500.000000   \n",
       "time               118621.0    12.026960     6.832199     0.000000   \n",
       "day                118621.0    15.788790     8.717295     1.000000   \n",
       "year               118621.0  2017.071918     0.258353  2017.000000   \n",
       "\n",
       "                           25%     50%          75%           max  \\\n",
       "mcc                5411.000000  5691.0  5967.000000   9405.000000   \n",
       "merchantCountry     826.000000   826.0   826.000000    840.000000   \n",
       "posEntryMode          5.000000     5.0    81.000000     91.000000   \n",
       "transactionAmount    -0.298267     0.0     0.701733    325.305101   \n",
       "availableCash      4500.000000  7500.0  8500.000000  18500.000000   \n",
       "time                  6.000000    12.0    18.000000     23.000000   \n",
       "day                   8.000000    16.0    23.000000     31.000000   \n",
       "year               2017.000000  2017.0  2017.000000   2018.000000   \n",
       "\n",
       "                          range  variation coefficient       skew     kurtosis  \n",
       "mcc                 8663.000000               0.167315   0.800649     4.969162  \n",
       "merchantCountry      809.000000               0.202958  -2.020270     2.687052  \n",
       "posEntryMode          91.000000               1.248487   0.804020    -1.344966  \n",
       "transactionAmount    325.803027               5.494886  28.405271  1503.445956  \n",
       "availableCash      18000.000000               0.514721  -0.182784    -0.541319  \n",
       "time                  23.000000               0.568074  -0.120168    -1.151825  \n",
       "day                   30.000000               0.552119   0.004820    -1.173557  \n",
       "year                   1.000000               0.000128   3.313981     8.982621  "
      ]
     },
     "execution_count": 26,
     "metadata": {},
     "output_type": "execute_result"
    }
   ],
   "source": [
    "num_attributes1=df[['mcc','merchantCountry', 'posEntryMode', 'transactionAmount',\n",
    "       'availableCash','time','day', 'year']]\n",
    "\n",
    "describe1 = num_attributes1.describe().T\n",
    "describe1['range'] = (num_attributes1.max() - num_attributes1.min()).tolist()\n",
    "describe1['variation coefficient'] = (num_attributes1.std() / num_attributes1.mean()).tolist()\n",
    "describe1['skew'] = num_attributes1.skew().tolist()\n",
    "describe1['kurtosis'] = num_attributes1.kurtosis().tolist()\n",
    "\n",
    "\n",
    "describe1"
   ]
  },
  {
   "cell_type": "code",
   "execution_count": 27,
   "id": "1ef2feaf",
   "metadata": {
    "scrolled": true
   },
   "outputs": [
    {
     "data": {
      "text/html": [
       "<div>\n",
       "<style scoped>\n",
       "    .dataframe tbody tr th:only-of-type {\n",
       "        vertical-align: middle;\n",
       "    }\n",
       "\n",
       "    .dataframe tbody tr th {\n",
       "        vertical-align: top;\n",
       "    }\n",
       "\n",
       "    .dataframe thead th {\n",
       "        text-align: right;\n",
       "    }\n",
       "</style>\n",
       "<table border=\"1\" class=\"dataframe\">\n",
       "  <thead>\n",
       "    <tr style=\"text-align: right;\">\n",
       "      <th></th>\n",
       "      <th>transactionTime</th>\n",
       "      <th>eventId</th>\n",
       "      <th>accountNumber</th>\n",
       "      <th>merchantId</th>\n",
       "      <th>mcc</th>\n",
       "      <th>merchantCountry</th>\n",
       "      <th>posEntryMode</th>\n",
       "      <th>transactionAmount</th>\n",
       "      <th>availableCash</th>\n",
       "      <th>fraudEvent</th>\n",
       "      <th>year</th>\n",
       "      <th>day</th>\n",
       "      <th>time</th>\n",
       "    </tr>\n",
       "  </thead>\n",
       "  <tbody>\n",
       "    <tr>\n",
       "      <th>0</th>\n",
       "      <td>2017-01-01 00:00:00+00:00</td>\n",
       "      <td>18688431A1</td>\n",
       "      <td>94f9b4e7</td>\n",
       "      <td>b76d06</td>\n",
       "      <td>5968</td>\n",
       "      <td>826</td>\n",
       "      <td>1</td>\n",
       "      <td>-0.232609</td>\n",
       "      <td>7500</td>\n",
       "      <td>0</td>\n",
       "      <td>2017</td>\n",
       "      <td>1</td>\n",
       "      <td>0</td>\n",
       "    </tr>\n",
       "    <tr>\n",
       "      <th>1</th>\n",
       "      <td>2017-01-01 00:49:03+00:00</td>\n",
       "      <td>2164986A1</td>\n",
       "      <td>648e19cf</td>\n",
       "      <td>718cc6</td>\n",
       "      <td>5499</td>\n",
       "      <td>826</td>\n",
       "      <td>81</td>\n",
       "      <td>0.022944</td>\n",
       "      <td>4500</td>\n",
       "      <td>0</td>\n",
       "      <td>2017</td>\n",
       "      <td>1</td>\n",
       "      <td>0</td>\n",
       "    </tr>\n",
       "    <tr>\n",
       "      <th>2</th>\n",
       "      <td>2017-01-01 00:43:17+00:00</td>\n",
       "      <td>31294145A1</td>\n",
       "      <td>c0ffab1b</td>\n",
       "      <td>94cafc</td>\n",
       "      <td>5735</td>\n",
       "      <td>442</td>\n",
       "      <td>81</td>\n",
       "      <td>-0.371247</td>\n",
       "      <td>9500</td>\n",
       "      <td>0</td>\n",
       "      <td>2017</td>\n",
       "      <td>1</td>\n",
       "      <td>0</td>\n",
       "    </tr>\n",
       "    <tr>\n",
       "      <th>3</th>\n",
       "      <td>2017-01-01 00:15:07+00:00</td>\n",
       "      <td>11162049A1</td>\n",
       "      <td>038099dd</td>\n",
       "      <td>7d5803</td>\n",
       "      <td>5499</td>\n",
       "      <td>826</td>\n",
       "      <td>81</td>\n",
       "      <td>0.018306</td>\n",
       "      <td>7500</td>\n",
       "      <td>0</td>\n",
       "      <td>2017</td>\n",
       "      <td>1</td>\n",
       "      <td>0</td>\n",
       "    </tr>\n",
       "    <tr>\n",
       "      <th>4</th>\n",
       "      <td>2017-01-01 00:37:09+00:00</td>\n",
       "      <td>17067235A1</td>\n",
       "      <td>3130363b</td>\n",
       "      <td>12ca76</td>\n",
       "      <td>5411</td>\n",
       "      <td>826</td>\n",
       "      <td>81</td>\n",
       "      <td>0.652917</td>\n",
       "      <td>10500</td>\n",
       "      <td>0</td>\n",
       "      <td>2017</td>\n",
       "      <td>1</td>\n",
       "      <td>0</td>\n",
       "    </tr>\n",
       "  </tbody>\n",
       "</table>\n",
       "</div>"
      ],
      "text/plain": [
       "            transactionTime     eventId accountNumber merchantId   mcc  \\\n",
       "0 2017-01-01 00:00:00+00:00  18688431A1      94f9b4e7     b76d06  5968   \n",
       "1 2017-01-01 00:49:03+00:00   2164986A1      648e19cf     718cc6  5499   \n",
       "2 2017-01-01 00:43:17+00:00  31294145A1      c0ffab1b     94cafc  5735   \n",
       "3 2017-01-01 00:15:07+00:00  11162049A1      038099dd     7d5803  5499   \n",
       "4 2017-01-01 00:37:09+00:00  17067235A1      3130363b     12ca76  5411   \n",
       "\n",
       "   merchantCountry  posEntryMode  transactionAmount  availableCash  \\\n",
       "0              826             1          -0.232609           7500   \n",
       "1              826            81           0.022944           4500   \n",
       "2              442            81          -0.371247           9500   \n",
       "3              826            81           0.018306           7500   \n",
       "4              826            81           0.652917          10500   \n",
       "\n",
       "   fraudEvent  year  day  time  \n",
       "0           0  2017    1     0  \n",
       "1           0  2017    1     0  \n",
       "2           0  2017    1     0  \n",
       "3           0  2017    1     0  \n",
       "4           0  2017    1     0  "
      ]
     },
     "execution_count": 27,
     "metadata": {},
     "output_type": "execute_result"
    }
   ],
   "source": [
    "df.head()"
   ]
  },
  {
   "cell_type": "code",
   "execution_count": null,
   "id": "c6a5acab",
   "metadata": {},
   "outputs": [],
   "source": []
  },
  {
   "cell_type": "code",
   "execution_count": 28,
   "id": "c99c18ac",
   "metadata": {
    "scrolled": true
   },
   "outputs": [
    {
     "data": {
      "text/plain": [
       "<AxesSubplot:xlabel='fraudEvent', ylabel='count'>"
      ]
     },
     "execution_count": 28,
     "metadata": {},
     "output_type": "execute_result"
    },
    {
     "data": {
      "image/png": "[encoded data removed]",
      "text/plain": [
       "<Figure size 432x288 with 1 Axes>"
      ]
     },
     "metadata": {
      "needs_background": "light"
     },
     "output_type": "display_data"
    }
   ],
   "source": [
    "sns.countplot(data=df, x=\"fraudEvent\")"
   ]
  },
  {
   "cell_type": "markdown",
   "id": "3ff3ee37",
   "metadata": {},
   "source": [
    "Data is imbalance"
   ]
  },
  {
   "cell_type": "code",
   "execution_count": 29,
   "id": "4989f81a",
   "metadata": {
    "scrolled": true
   },
   "outputs": [
    {
     "data": {
      "image/png": "[encoded data removed]",
      "text/plain": [
       "<Figure size 2160x2160 with 12 Axes>"
      ]
     },
     "metadata": {
      "needs_background": "light"
     },
     "output_type": "display_data"
    }
   ],
   "source": [
    "df.hist(bins=30, figsize=(30, 30))\n",
    "plt.show()"
   ]
  },
  {
   "cell_type": "code",
   "execution_count": null,
   "id": "fd5d98ae",
   "metadata": {},
   "outputs": [],
   "source": []
  },
  {
   "cell_type": "code",
   "execution_count": 30,
   "id": "9d6c5510",
   "metadata": {},
   "outputs": [],
   "source": [
    "df_f=df[df['fraudEvent']==1]"
   ]
  },
  {
   "cell_type": "code",
   "execution_count": 31,
   "id": "ae6fdd89",
   "metadata": {},
   "outputs": [
    {
     "data": {
      "text/plain": [
       "8b9c15ea    97\n",
       "3ec9dda7    59\n",
       "6bab7602    48\n",
       "39219923    45\n",
       "1602df4e    41\n",
       "            ..\n",
       "7158941b     1\n",
       "94c39106     1\n",
       "cddc7d2e     1\n",
       "1c8df5be     1\n",
       "cf56ce28     1\n",
       "Name: accountNumber, Length: 167, dtype: int64"
      ]
     },
     "execution_count": 31,
     "metadata": {},
     "output_type": "execute_result"
    }
   ],
   "source": [
    "df_f[\"accountNumber\"].value_counts()\n"
   ]
  },
  {
   "cell_type": "code",
   "execution_count": 32,
   "id": "fc4a0dc7",
   "metadata": {},
   "outputs": [],
   "source": [
    "test=df[df[\"accountNumber\"]==\"8b9c15ea\"]\n"
   ]
  },
  {
   "cell_type": "code",
   "execution_count": 33,
   "id": "35f48f94",
   "metadata": {},
   "outputs": [
    {
     "data": {
      "image/png": "[encoded data removed]",
      "text/plain": [
       "<Figure size 1440x576 with 1 Axes>"
      ]
     },
     "metadata": {
      "needs_background": "light"
     },
     "output_type": "display_data"
    }
   ],
   "source": [
    "plt.figure(figsize=(20,8))\n",
    "chart=sns.countplot(y='posEntryMode', data=test, hue='fraudEvent',palette='Set2') \n",
    "chart.set_xticklabels(chart.get_xticklabels(),rotation=90)\n",
    "plt.show()"
   ]
  },
  {
   "cell_type": "markdown",
   "id": "9627856b",
   "metadata": {},
   "source": [
    "plt.figure(figsize=(20,25))\n",
    "chart=sns.countplot(y='merchantId', data=test, hue='fraudEvent',palette='Set2') \n",
    "chart.set_xticklabels(chart.get_xticklabels(),rotation=90)\n",
    "plt.show()"
   ]
  },
  {
   "cell_type": "code",
   "execution_count": 34,
   "id": "c58d08b1",
   "metadata": {},
   "outputs": [
    {
     "data": {
      "text/html": [
       "<div>\n",
       "<style scoped>\n",
       "    .dataframe tbody tr th:only-of-type {\n",
       "        vertical-align: middle;\n",
       "    }\n",
       "\n",
       "    .dataframe tbody tr th {\n",
       "        vertical-align: top;\n",
       "    }\n",
       "\n",
       "    .dataframe thead th {\n",
       "        text-align: right;\n",
       "    }\n",
       "</style>\n",
       "<table border=\"1\" class=\"dataframe\">\n",
       "  <thead>\n",
       "    <tr style=\"text-align: right;\">\n",
       "      <th></th>\n",
       "      <th>transactionTime</th>\n",
       "      <th>eventId</th>\n",
       "      <th>accountNumber</th>\n",
       "      <th>merchantId</th>\n",
       "      <th>mcc</th>\n",
       "      <th>merchantCountry</th>\n",
       "      <th>posEntryMode</th>\n",
       "      <th>transactionAmount</th>\n",
       "      <th>availableCash</th>\n",
       "      <th>fraudEvent</th>\n",
       "      <th>year</th>\n",
       "      <th>day</th>\n",
       "      <th>time</th>\n",
       "    </tr>\n",
       "  </thead>\n",
       "  <tbody>\n",
       "    <tr>\n",
       "      <th>14</th>\n",
       "      <td>2017-01-01 03:53:34+00:00</td>\n",
       "      <td>85602730A1</td>\n",
       "      <td>645c318d</td>\n",
       "      <td>66f14e</td>\n",
       "      <td>5541</td>\n",
       "      <td>36</td>\n",
       "      <td>5</td>\n",
       "      <td>-0.226995</td>\n",
       "      <td>1500</td>\n",
       "      <td>1</td>\n",
       "      <td>2017</td>\n",
       "      <td>1</td>\n",
       "      <td>3</td>\n",
       "    </tr>\n",
       "    <tr>\n",
       "      <th>740</th>\n",
       "      <td>2017-01-03 13:15:07+00:00</td>\n",
       "      <td>101536761A1</td>\n",
       "      <td>f42ba1f1</td>\n",
       "      <td>5f7cd4</td>\n",
       "      <td>5968</td>\n",
       "      <td>840</td>\n",
       "      <td>81</td>\n",
       "      <td>-0.053454</td>\n",
       "      <td>1500</td>\n",
       "      <td>1</td>\n",
       "      <td>2017</td>\n",
       "      <td>3</td>\n",
       "      <td>13</td>\n",
       "    </tr>\n",
       "    <tr>\n",
       "      <th>741</th>\n",
       "      <td>2017-01-03 13:27:22+00:00</td>\n",
       "      <td>101536857A1</td>\n",
       "      <td>f42ba1f1</td>\n",
       "      <td>aebafc</td>\n",
       "      <td>4814</td>\n",
       "      <td>826</td>\n",
       "      <td>1</td>\n",
       "      <td>-0.225775</td>\n",
       "      <td>1500</td>\n",
       "      <td>1</td>\n",
       "      <td>2017</td>\n",
       "      <td>3</td>\n",
       "      <td>13</td>\n",
       "    </tr>\n",
       "    <tr>\n",
       "      <th>743</th>\n",
       "      <td>2017-01-03 13:27:02+00:00</td>\n",
       "      <td>101536329A1</td>\n",
       "      <td>f42ba1f1</td>\n",
       "      <td>aebafc</td>\n",
       "      <td>4814</td>\n",
       "      <td>826</td>\n",
       "      <td>1</td>\n",
       "      <td>-0.274591</td>\n",
       "      <td>1500</td>\n",
       "      <td>1</td>\n",
       "      <td>2017</td>\n",
       "      <td>3</td>\n",
       "      <td>13</td>\n",
       "    </tr>\n",
       "    <tr>\n",
       "      <th>744</th>\n",
       "      <td>2017-01-03 13:38:15+00:00</td>\n",
       "      <td>101536953A1</td>\n",
       "      <td>f42ba1f1</td>\n",
       "      <td>7e57ae</td>\n",
       "      <td>4816</td>\n",
       "      <td>840</td>\n",
       "      <td>81</td>\n",
       "      <td>-0.494264</td>\n",
       "      <td>1500</td>\n",
       "      <td>1</td>\n",
       "      <td>2017</td>\n",
       "      <td>3</td>\n",
       "      <td>13</td>\n",
       "    </tr>\n",
       "  </tbody>\n",
       "</table>\n",
       "</div>"
      ],
      "text/plain": [
       "              transactionTime      eventId accountNumber merchantId   mcc  \\\n",
       "14  2017-01-01 03:53:34+00:00   85602730A1      645c318d     66f14e  5541   \n",
       "740 2017-01-03 13:15:07+00:00  101536761A1      f42ba1f1     5f7cd4  5968   \n",
       "741 2017-01-03 13:27:22+00:00  101536857A1      f42ba1f1     aebafc  4814   \n",
       "743 2017-01-03 13:27:02+00:00  101536329A1      f42ba1f1     aebafc  4814   \n",
       "744 2017-01-03 13:38:15+00:00  101536953A1      f42ba1f1     7e57ae  4816   \n",
       "\n",
       "     merchantCountry  posEntryMode  transactionAmount  availableCash  \\\n",
       "14                36             5          -0.226995           1500   \n",
       "740              840            81          -0.053454           1500   \n",
       "741              826             1          -0.225775           1500   \n",
       "743              826             1          -0.274591           1500   \n",
       "744              840            81          -0.494264           1500   \n",
       "\n",
       "     fraudEvent  year  day  time  \n",
       "14            1  2017    1     3  \n",
       "740           1  2017    3    13  \n",
       "741           1  2017    3    13  \n",
       "743           1  2017    3    13  \n",
       "744           1  2017    3    13  "
      ]
     },
     "execution_count": 34,
     "metadata": {},
     "output_type": "execute_result"
    }
   ],
   "source": [
    "df_f.head()"
   ]
  },
  {
   "cell_type": "code",
   "execution_count": 35,
   "id": "b89e3296",
   "metadata": {},
   "outputs": [
    {
     "data": {
      "text/plain": [
       "4fd0ff    49\n",
       "2be1cd    48\n",
       "707b6c    19\n",
       "6a5933    17\n",
       "e57467    14\n",
       "          ..\n",
       "2c3fc4     1\n",
       "cb180a     1\n",
       "45d79b     1\n",
       "da5585     1\n",
       "1a0510     1\n",
       "Name: merchantId, Length: 438, dtype: int64"
      ]
     },
     "execution_count": 35,
     "metadata": {},
     "output_type": "execute_result"
    }
   ],
   "source": [
    "df_f[\"merchantId\"].value_counts()"
   ]
  },
  {
   "cell_type": "code",
   "execution_count": 36,
   "id": "e165a260",
   "metadata": {},
   "outputs": [
    {
     "data": {
      "text/plain": [
       "96878e    3294\n",
       "243074    2281\n",
       "7f7cdb    1784\n",
       "4fd0ff    1554\n",
       "7c3a49    1143\n",
       "          ... \n",
       "9e60e2       1\n",
       "309150       1\n",
       "d95c39       1\n",
       "261643       1\n",
       "506a9b       1\n",
       "Name: merchantId, Length: 33327, dtype: int64"
      ]
     },
     "execution_count": 36,
     "metadata": {},
     "output_type": "execute_result"
    }
   ],
   "source": [
    "df[\"merchantId\"].value_counts()"
   ]
  },
  {
   "cell_type": "code",
   "execution_count": 37,
   "id": "303764cc",
   "metadata": {},
   "outputs": [
    {
     "data": {
      "text/plain": [
       "826    95616\n",
       "442    14929\n",
       "840     2873\n",
       "372     1414\n",
       "250      483\n",
       "       ...  \n",
       "703        1\n",
       "48         1\n",
       "566        1\n",
       "410        1\n",
       "32         1\n",
       "Name: merchantCountry, Length: 82, dtype: int64"
      ]
     },
     "execution_count": 37,
     "metadata": {},
     "output_type": "execute_result"
    }
   ],
   "source": [
    "df[\"merchantCountry\"].value_counts()\n"
   ]
  },
  {
   "cell_type": "code",
   "execution_count": 38,
   "id": "e4a317d5",
   "metadata": {
    "scrolled": true
   },
   "outputs": [
    {
     "data": {
      "image/png": "[encoded data removed]",
      "text/plain": [
       "<Figure size 1440x720 with 1 Axes>"
      ]
     },
     "metadata": {
      "needs_background": "light"
     },
     "output_type": "display_data"
    }
   ],
   "source": [
    "plt.figure(figsize=(20,10))\n",
    "chart=sns.countplot(y='availableCash', data=df, hue='fraudEvent',palette='Set2') \n",
    "chart.set_xticklabels(chart.get_xticklabels(),rotation=90)\n",
    "plt.show()"
   ]
  },
  {
   "cell_type": "code",
   "execution_count": 39,
   "id": "9b4fbdd5",
   "metadata": {},
   "outputs": [
    {
     "data": {
      "image/png": "[encoded data removed]",
      "text/plain": [
       "<Figure size 432x288 with 1 Axes>"
      ]
     },
     "metadata": {
      "needs_background": "light"
     },
     "output_type": "display_data"
    }
   ],
   "source": [
    "#plt.figure(figsize=(20,10))\n",
    "chart=sns.countplot(y='availableCash', data=df_f, hue='fraudEvent',palette='Set2') \n",
    "chart.set_xticklabels(chart.get_xticklabels(),rotation=90)\n",
    "plt.show()"
   ]
  },
  {
   "cell_type": "code",
   "execution_count": 40,
   "id": "9a1c82df",
   "metadata": {},
   "outputs": [
    {
     "data": {
      "image/png": "[encoded data removed]",
      "text/plain": [
       "<Figure size 783.125x360 with 1 Axes>"
      ]
     },
     "metadata": {
      "needs_background": "light"
     },
     "output_type": "display_data"
    }
   ],
   "source": [
    "sns.displot(x='transactionAmount', data=df_f, hue='fraudEvent', aspect=2)\n",
    "plt.show()"
   ]
  },
  {
   "cell_type": "code",
   "execution_count": 41,
   "id": "bb1e0b31",
   "metadata": {},
   "outputs": [
    {
     "data": {
      "image/png": "[encoded data removed]",
      "text/plain": [
       "<Figure size 720x360 with 1 Axes>"
      ]
     },
     "metadata": {
      "needs_background": "light"
     },
     "output_type": "display_data"
    }
   ],
   "source": [
    "# Outliers\n",
    "plt.figure(figsize=(10,5))\n",
    "sns.boxplot(data=df_f, x='transactionAmount')\n",
    "\n",
    "plt.show()"
   ]
  },
  {
   "cell_type": "code",
   "execution_count": 42,
   "id": "360d3433",
   "metadata": {},
   "outputs": [
    {
     "data": {
      "text/plain": [
       "<Figure size 1080x540 with 0 Axes>"
      ]
     },
     "metadata": {},
     "output_type": "display_data"
    },
    {
     "data": {
      "image/png": "[encoded data removed]",
      "text/plain": [
       "<Figure size 495.125x360 with 1 Axes>"
      ]
     },
     "metadata": {
      "needs_background": "light"
     },
     "output_type": "display_data"
    }
   ],
   "source": [
    "plt.figure(figsize=(12,6), dpi=90)\n",
    "sns.displot(x='time', data=df_f, hue='fraudEvent',palette='Set2', aspect=1.2)\n",
    "plt.show()"
   ]
  },
  {
   "cell_type": "code",
   "execution_count": 43,
   "id": "ea822702",
   "metadata": {
    "scrolled": true
   },
   "outputs": [
    {
     "data": {
      "text/plain": [
       "<Figure size 1080x540 with 0 Axes>"
      ]
     },
     "metadata": {},
     "output_type": "display_data"
    },
    {
     "data": {
      "image/png": "[encoded data removed]",
      "text/plain": [
       "<Figure size 495.125x360 with 1 Axes>"
      ]
     },
     "metadata": {
      "needs_background": "light"
     },
     "output_type": "display_data"
    }
   ],
   "source": [
    "plt.figure(figsize=(12,6), dpi=90)\n",
    "sns.displot(x='day', data=df_f, hue='fraudEvent',palette='Set2', aspect=1.2)\n",
    "plt.show()"
   ]
  },
  {
   "cell_type": "code",
   "execution_count": 44,
   "id": "614ede1a",
   "metadata": {},
   "outputs": [
    {
     "data": {
      "text/plain": [
       "<Figure size 1080x540 with 0 Axes>"
      ]
     },
     "metadata": {},
     "output_type": "display_data"
    },
    {
     "data": {
      "image/png": "[encoded data removed]",
      "text/plain": [
       "<Figure size 495.125x360 with 1 Axes>"
      ]
     },
     "metadata": {
      "needs_background": "light"
     },
     "output_type": "display_data"
    }
   ],
   "source": [
    "plt.figure(figsize=(12,6), dpi=90)\n",
    "sns.displot(x='day', data=df, hue='fraudEvent',palette='Set2', aspect=1.2)\n",
    "plt.show()"
   ]
  },
  {
   "cell_type": "code",
   "execution_count": 45,
   "id": "790cb77b",
   "metadata": {},
   "outputs": [
    {
     "data": {
      "text/plain": [
       "<Figure size 1080x540 with 0 Axes>"
      ]
     },
     "metadata": {},
     "output_type": "display_data"
    },
    {
     "data": {
      "image/png": "[encoded data removed]",
      "text/plain": [
       "<Figure size 783.125x360 with 1 Axes>"
      ]
     },
     "metadata": {
      "needs_background": "light"
     },
     "output_type": "display_data"
    }
   ],
   "source": [
    "plt.figure(figsize=(12,6), dpi=90)\n",
    "sns.displot(x='time', data=df, hue='fraudEvent', aspect=2)\n",
    "plt.show()"
   ]
  },
  {
   "cell_type": "code",
   "execution_count": 46,
   "id": "ce647b59",
   "metadata": {
    "scrolled": true
   },
   "outputs": [
    {
     "name": "stdout",
     "output_type": "stream",
     "text": [
      "81    630\n",
      "1     210\n",
      "5      18\n",
      "90     13\n",
      "0       2\n",
      "2       2\n",
      "Name: posEntryMode, dtype: int64 5     70210\n",
      "81    35202\n",
      "1     10358\n",
      "90     1189\n",
      "7       637\n",
      "80       92\n",
      "79       31\n",
      "2        14\n",
      "0         9\n",
      "91        4\n",
      "Name: posEntryMode, dtype: int64\n"
     ]
    }
   ],
   "source": [
    "list_fe=df[df[\"fraudEvent\"]==1][\"posEntryMode\"].value_counts()\n",
    "list_nfe= df[df[\"fraudEvent\"]==0][\"posEntryMode\"].value_counts()\n",
    "print(list_fe, list_nfe)"
   ]
  },
  {
   "cell_type": "code",
   "execution_count": 47,
   "id": "7edb2265",
   "metadata": {},
   "outputs": [
    {
     "data": {
      "image/png": "[encoded data removed]",
      "text/plain": [
       "<Figure size 720x360 with 1 Axes>"
      ]
     },
     "metadata": {
      "needs_background": "light"
     },
     "output_type": "display_data"
    }
   ],
   "source": [
    "plt.figure(figsize=(10,5))\n",
    "chart=sns.countplot(y='posEntryMode', data=df, hue='fraudEvent',palette='Set2') \n",
    "chart.set_xticklabels(chart.get_xticklabels(),rotation=90)\n",
    "plt.show()"
   ]
  },
  {
   "cell_type": "code",
   "execution_count": 48,
   "id": "e411924b",
   "metadata": {
    "scrolled": true
   },
   "outputs": [
    {
     "data": {
      "text/plain": [
       "<AxesSubplot:xlabel='posEntryMode', ylabel='transactionAmount'>"
      ]
     },
     "execution_count": 48,
     "metadata": {},
     "output_type": "execute_result"
    },
    {
     "data": {
      "image/png": "[encoded data removed]",
      "text/plain": [
       "<Figure size 432x288 with 1 Axes>"
      ]
     },
     "metadata": {
      "needs_background": "light"
     },
     "output_type": "display_data"
    }
   ],
   "source": [
    "sns.scatterplot(data=df, y=\"transactionAmount\", x=\"posEntryMode\", hue='fraudEvent')\n"
   ]
  },
  {
   "cell_type": "code",
   "execution_count": 49,
   "id": "85951508",
   "metadata": {},
   "outputs": [
    {
     "data": {
      "text/plain": [
       "<AxesSubplot:xlabel='availableCash', ylabel='transactionAmount'>"
      ]
     },
     "execution_count": 49,
     "metadata": {},
     "output_type": "execute_result"
    },
    {
     "data": {
      "image/png": "[encoded data removed]",
      "text/plain": [
       "<Figure size 432x288 with 1 Axes>"
      ]
     },
     "metadata": {
      "needs_background": "light"
     },
     "output_type": "display_data"
    }
   ],
   "source": [
    "sns.scatterplot(data=df, y=\"transactionAmount\", x=\"availableCash\", hue='fraudEvent')\n"
   ]
  },
  {
   "cell_type": "code",
   "execution_count": 50,
   "id": "4d79ce78",
   "metadata": {},
   "outputs": [
    {
     "data": {
      "image/png": "[encoded data removed]",
      "text/plain": [
       "<Figure size 500x500 with 2 Axes>"
      ]
     },
     "metadata": {
      "needs_background": "light"
     },
     "output_type": "display_data"
    }
   ],
   "source": [
    "plt.figure(figsize=(5,5), dpi=100)\n",
    "sns.heatmap(df.corr(), annot=True, fmt=\".2f\")\n",
    "plt.show()"
   ]
  },
  {
   "cell_type": "code",
   "execution_count": 51,
   "id": "32b37d4e",
   "metadata": {},
   "outputs": [
    {
     "data": {
      "text/plain": [
       "Index(['transactionTime', 'eventId', 'accountNumber', 'merchantId', 'mcc',\n",
       "       'merchantCountry', 'posEntryMode', 'transactionAmount', 'availableCash',\n",
       "       'fraudEvent', 'year', 'day', 'time'],\n",
       "      dtype='object')"
      ]
     },
     "execution_count": 51,
     "metadata": {},
     "output_type": "execute_result"
    }
   ],
   "source": [
    "df.columns"
   ]
  },
  {
   "cell_type": "code",
   "execution_count": 52,
   "id": "be7b48de",
   "metadata": {},
   "outputs": [],
   "source": [
    "df_final=df[['mcc','merchantCountry', 'posEntryMode', 'transactionAmount',\n",
    "       'availableCash', 'fraudEvent']]"
   ]
  },
  {
   "cell_type": "code",
   "execution_count": 53,
   "id": "ffd272bc",
   "metadata": {
    "scrolled": true
   },
   "outputs": [
    {
     "name": "stdout",
     "output_type": "stream",
     "text": [
      "<class 'pandas.core.frame.DataFrame'>\n",
      "RangeIndex: 118621 entries, 0 to 118620\n",
      "Data columns (total 6 columns):\n",
      " #   Column             Non-Null Count   Dtype  \n",
      "---  ------             --------------   -----  \n",
      " 0   mcc                118621 non-null  int64  \n",
      " 1   merchantCountry    118621 non-null  int64  \n",
      " 2   posEntryMode       118621 non-null  int64  \n",
      " 3   transactionAmount  118621 non-null  float64\n",
      " 4   availableCash      118621 non-null  int64  \n",
      " 5   fraudEvent         118621 non-null  int32  \n",
      "dtypes: float64(1), int32(1), int64(4)\n",
      "memory usage: 5.0 MB\n"
     ]
    }
   ],
   "source": [
    "df_final.info()"
   ]
  },
  {
   "cell_type": "code",
   "execution_count": 54,
   "id": "c506ae79",
   "metadata": {},
   "outputs": [],
   "source": [
    "# separating X and y variables\n",
    "X =df_final.drop(\"fraudEvent\", axis=1)\n",
    "y = df_final.loc[:,\"fraudEvent\"].values.ravel()"
   ]
  },
  {
   "cell_type": "markdown",
   "id": "88d2ef68",
   "metadata": {},
   "source": [
    "### ExtraTreesClassifier for feature importance"
   ]
  },
  {
   "cell_type": "code",
   "execution_count": 55,
   "id": "a6e696fa",
   "metadata": {},
   "outputs": [
    {
     "data": {
      "text/plain": [
       "ExtraTreesClassifier()"
      ]
     },
     "execution_count": 55,
     "metadata": {},
     "output_type": "execute_result"
    }
   ],
   "source": [
    "m=ExtraTreesClassifier()\n",
    "m.fit(X,y)"
   ]
  },
  {
   "cell_type": "code",
   "execution_count": 56,
   "id": "1b84c89b",
   "metadata": {},
   "outputs": [],
   "source": [
    "# imp_featrs= pd.Series(m.feature_importances_, index=X.columns)\n",
    "# imp_featrs.nlargest(10).plot(kind='barh')\n",
    "# plt.show()"
   ]
  },
  {
   "cell_type": "code",
   "execution_count": 57,
   "id": "fee4d0a9",
   "metadata": {},
   "outputs": [],
   "source": [
    "#Sampling\n",
    "random_stat=20\n",
    "X_train, X_test, y_train, y_test = train_test_split(X, y, test_size = 0.2, random_state=20)"
   ]
  },
  {
   "cell_type": "code",
   "execution_count": 58,
   "id": "4a310f8a",
   "metadata": {},
   "outputs": [],
   "source": [
    "# print(\"training data :\", y_train[y_train['fraudEvent']==1],y_train[y_train['fraudEvent']==0])\n",
    "# print(\"testing data :\",y_test[y_test['fraudEvent']==1], y_test[y_test['fraudEvent']==0])\n",
    "\n"
   ]
  },
  {
   "cell_type": "markdown",
   "id": "6a19a5ae",
   "metadata": {},
   "source": [
    "# Random Forest "
   ]
  },
  {
   "cell_type": "code",
   "execution_count": 59,
   "id": "f93b207e",
   "metadata": {},
   "outputs": [
    {
     "data": {
      "text/plain": [
       "RandomForestClassifier(class_weight='balanced', max_depth=2)"
      ]
     },
     "execution_count": 59,
     "metadata": {},
     "output_type": "execute_result"
    }
   ],
   "source": [
    "rf = RandomForestClassifier(max_depth=2,class_weight=\"balanced\")\n",
    "rf.fit(X_train, y_train)"
   ]
  },
  {
   "cell_type": "code",
   "execution_count": 60,
   "id": "f832e05a",
   "metadata": {},
   "outputs": [
    {
     "name": "stdout",
     "output_type": "stream",
     "text": [
      "0.8509420839656044\n",
      "0.8504952581664911\n"
     ]
    }
   ],
   "source": [
    "print(rf.score(X_train, y_train)) # train accu\n",
    "print(rf.score(X_test, y_test)) # test accu"
   ]
  },
  {
   "cell_type": "code",
   "execution_count": 61,
   "id": "ac198efd",
   "metadata": {},
   "outputs": [],
   "source": [
    "rf_predictions = rf.predict(X_test)"
   ]
  },
  {
   "cell_type": "code",
   "execution_count": 62,
   "id": "1961c8ea",
   "metadata": {},
   "outputs": [
    {
     "name": "stdout",
     "output_type": "stream",
     "text": [
      "[[20057  3501]\n",
      " [   46   121]] \n",
      "\n",
      "              precision    recall  f1-score   support\n",
      "\n",
      "           0       1.00      0.85      0.92     23558\n",
      "           1       0.03      0.72      0.06       167\n",
      "\n",
      "    accuracy                           0.85     23725\n",
      "   macro avg       0.52      0.79      0.49     23725\n",
      "weighted avg       0.99      0.85      0.91     23725\n",
      "\n"
     ]
    }
   ],
   "source": [
    "# Evaluation \n",
    "cm = confusion_matrix(y_test, rf_predictions)\n",
    "cr = classification_report(y_test, rf_predictions)\n",
    "print(cm,\"\\n\")\n",
    "print(cr)\n"
   ]
  },
  {
   "cell_type": "code",
   "execution_count": 63,
   "id": "a59fbfa0",
   "metadata": {
    "scrolled": true
   },
   "outputs": [
    {
     "data": {
      "image/png": "[encoded data removed]",
      "text/plain": [
       "<Figure size 540x540 with 2 Axes>"
      ]
     },
     "metadata": {
      "needs_background": "light"
     },
     "output_type": "display_data"
    }
   ],
   "source": [
    "# plotting confusion metrix\n",
    "plt.figure(figsize=(6,6), dpi=90)\n",
    "sns.heatmap(cm, annot=True, fmt=\".1f\")\n",
    "plt.title(\"Confusion Metrix\")\n",
    "plt.ylabel(\"Actual Values\")\n",
    "plt.xlabel(\"predict Values\")\n",
    "plt.show()"
   ]
  },
  {
   "cell_type": "code",
   "execution_count": 64,
   "id": "0f89b1f8",
   "metadata": {
    "scrolled": false
   },
   "outputs": [
    {
     "data": {
      "image/png": "[encoded data removed]",
      "text/plain": [
       "<Figure size 432x288 with 1 Axes>"
      ]
     },
     "metadata": {
      "needs_background": "light"
     },
     "output_type": "display_data"
    }
   ],
   "source": [
    "plot_roc_curve(y_test, rf_predictions)"
   ]
  },
  {
   "cell_type": "markdown",
   "id": "c2480f6f",
   "metadata": {},
   "source": [
    "# XG Boost"
   ]
  },
  {
   "cell_type": "code",
   "execution_count": 65,
   "id": "28ad5e97",
   "metadata": {},
   "outputs": [
    {
     "data": {
      "text/plain": [
       "134.56685714285715"
      ]
     },
     "execution_count": 65,
     "metadata": {},
     "output_type": "execute_result"
    }
   ],
   "source": [
    "df_final['fraudEvent'].value_counts()[0]/df_final['fraudEvent'].value_counts()[1]"
   ]
  },
  {
   "cell_type": "code",
   "execution_count": 66,
   "id": "7c732448",
   "metadata": {},
   "outputs": [
    {
     "data": {
      "text/plain": [
       "XGBClassifier(base_score=0.5, booster='gbtree', colsample_bylevel=1,\n",
       "              colsample_bynode=1, colsample_bytree=1, enable_categorical=False,\n",
       "              eta=0.05, eval_metric='mlogloss', gamma=2, gpu_id=-1,\n",
       "              importance_type=None, interaction_constraints='',\n",
       "              learning_rate=0.05, max_delta_step=0, max_depth=6,\n",
       "              min_child_weight=1, missing=nan, monotone_constraints='()',\n",
       "              n_estimators=100, n_jobs=8, num_parallel_tree=1, predictor='auto',\n",
       "              random_state=0, reg_alpha=0, reg_lambda=1, scale_pos_weight=135,\n",
       "              subsample=1, tree_method='exact', validate_parameters=1,\n",
       "              verbosity=None)"
      ]
     },
     "execution_count": 66,
     "metadata": {},
     "output_type": "execute_result"
    }
   ],
   "source": [
    "xgb = XGBClassifier(eta=0.05, gamma=2,learning_rate=0.05, scale_pos_weight=135,  eval_metric='mlogloss')\n",
    "xgb.fit(X_train, y_train)"
   ]
  },
  {
   "cell_type": "code",
   "execution_count": 67,
   "id": "fbb7b0c8",
   "metadata": {},
   "outputs": [
    {
     "name": "stdout",
     "output_type": "stream",
     "text": [
      "0.8957384926656551\n",
      "0.893277133825079\n"
     ]
    }
   ],
   "source": [
    "print(xgb.score(X_train, y_train)) # train accu\n",
    "print(xgb.score(X_test, y_test)) # test accu"
   ]
  },
  {
   "cell_type": "code",
   "execution_count": 68,
   "id": "178f2f67",
   "metadata": {},
   "outputs": [
    {
     "name": "stdout",
     "output_type": "stream",
     "text": [
      "[0 0 0 ... 0 0 0] [0 0 0 ... 0 0 0]\n"
     ]
    }
   ],
   "source": [
    "xgb_predictions = xgb.predict(X_test)\n",
    "print(y_test,xgb_predictions)"
   ]
  },
  {
   "cell_type": "code",
   "execution_count": 69,
   "id": "712ecdab",
   "metadata": {},
   "outputs": [
    {
     "name": "stdout",
     "output_type": "stream",
     "text": [
      "[[21045  2513]\n",
      " [   19   148]] \n",
      "\n",
      "              precision    recall  f1-score   support\n",
      "\n",
      "           0       1.00      0.89      0.94     23558\n",
      "           1       0.06      0.89      0.10       167\n",
      "\n",
      "    accuracy                           0.89     23725\n",
      "   macro avg       0.53      0.89      0.52     23725\n",
      "weighted avg       0.99      0.89      0.94     23725\n",
      "\n"
     ]
    }
   ],
   "source": [
    "# Evaluation \n",
    "xgb_cm = confusion_matrix(y_test, xgb_predictions)\n",
    "xgb_cr = classification_report(y_test, xgb_predictions)\n",
    "print(xgb_cm,\"\\n\")\n",
    "print(xgb_cr)"
   ]
  },
  {
   "cell_type": "code",
   "execution_count": 70,
   "id": "7a750f47",
   "metadata": {
    "scrolled": true
   },
   "outputs": [
    {
     "data": {
      "image/png": "[encoded data removed]",
      "text/plain": [
       "<Figure size 360x360 with 2 Axes>"
      ]
     },
     "metadata": {
      "needs_background": "light"
     },
     "output_type": "display_data"
    }
   ],
   "source": [
    "# plotting confusion metrix\n",
    "plt.figure(figsize=(4,4), dpi=90)\n",
    "sns.heatmap(xgb_cm, annot=True, fmt=\".1f\")\n",
    "plt.title(\"Confusion Metrix\")\n",
    "plt.ylabel(\"Actual Values\")\n",
    "plt.xlabel(\"predict Values\")\n",
    "plt.show()"
   ]
  },
  {
   "cell_type": "code",
   "execution_count": 71,
   "id": "a2b9ebc0",
   "metadata": {},
   "outputs": [
    {
     "data": {
      "image/png": "[encoded data removed]",
      "text/plain": [
       "<Figure size 432x288 with 1 Axes>"
      ]
     },
     "metadata": {
      "needs_background": "light"
     },
     "output_type": "display_data"
    }
   ],
   "source": [
    "plot_roc_curve(y_test, xgb_predictions)"
   ]
  },
  {
   "cell_type": "code",
   "execution_count": 72,
   "id": "a8db4fa0",
   "metadata": {},
   "outputs": [],
   "source": [
    "# #Cross Validation\n",
    "# score=cross_val_score(xgb,X,y,cv=10)\n",
    "# score"
   ]
  },
  {
   "cell_type": "code",
   "execution_count": 73,
   "id": "b2795c8d",
   "metadata": {},
   "outputs": [],
   "source": [
    "#Cross Validation\n",
    "# score=cross_val_score(rf,X,y,cv=10)\n",
    "# score"
   ]
  },
  {
   "cell_type": "code",
   "execution_count": null,
   "id": "764a54d7",
   "metadata": {},
   "outputs": [],
   "source": []
  },
  {
   "cell_type": "markdown",
   "id": "945e5bc0",
   "metadata": {},
   "source": [
    "# IsolationForest"
   ]
  },
  {
   "cell_type": "code",
   "execution_count": 74,
   "id": "fd54c2f7",
   "metadata": {},
   "outputs": [
    {
     "data": {
      "text/plain": [
       "0.007431250318482157"
      ]
     },
     "execution_count": 74,
     "metadata": {},
     "output_type": "execute_result"
    }
   ],
   "source": [
    "fraud=df_final[df_final['fraudEvent']==1]\n",
    "valid=df_final[df_final['fraudEvent']==0]\n",
    "outlier_fraction = len(fraud)/float(len(valid))\n",
    "outlier_fraction"
   ]
  },
  {
   "cell_type": "code",
   "execution_count": 75,
   "id": "8cd540ff",
   "metadata": {},
   "outputs": [
    {
     "data": {
      "text/plain": [
       "IsolationForest(contamination=0.1, n_estimators=70, n_jobs=2)"
      ]
     },
     "execution_count": 75,
     "metadata": {},
     "output_type": "execute_result"
    }
   ],
   "source": [
    "isoFor=IsolationForest(n_estimators=70, max_samples='auto', contamination=float(0.1),max_features=1.0, n_jobs=2)\n",
    "isoFor.fit(X_train)"
   ]
  },
  {
   "cell_type": "code",
   "execution_count": 76,
   "id": "536fe85b",
   "metadata": {},
   "outputs": [
    {
     "data": {
      "text/html": [
       "<div>\n",
       "<style scoped>\n",
       "    .dataframe tbody tr th:only-of-type {\n",
       "        vertical-align: middle;\n",
       "    }\n",
       "\n",
       "    .dataframe tbody tr th {\n",
       "        vertical-align: top;\n",
       "    }\n",
       "\n",
       "    .dataframe thead th {\n",
       "        text-align: right;\n",
       "    }\n",
       "</style>\n",
       "<table border=\"1\" class=\"dataframe\">\n",
       "  <thead>\n",
       "    <tr style=\"text-align: right;\">\n",
       "      <th></th>\n",
       "      <th>mcc</th>\n",
       "      <th>merchantCountry</th>\n",
       "      <th>posEntryMode</th>\n",
       "      <th>transactionAmount</th>\n",
       "      <th>availableCash</th>\n",
       "      <th>score</th>\n",
       "      <th>anomaly</th>\n",
       "    </tr>\n",
       "  </thead>\n",
       "  <tbody>\n",
       "    <tr>\n",
       "      <th>98059</th>\n",
       "      <td>5969</td>\n",
       "      <td>442</td>\n",
       "      <td>81</td>\n",
       "      <td>0.091530</td>\n",
       "      <td>7500</td>\n",
       "      <td>0.101128</td>\n",
       "      <td>1</td>\n",
       "    </tr>\n",
       "    <tr>\n",
       "      <th>48317</th>\n",
       "      <td>5942</td>\n",
       "      <td>442</td>\n",
       "      <td>81</td>\n",
       "      <td>0.114230</td>\n",
       "      <td>4500</td>\n",
       "      <td>0.084750</td>\n",
       "      <td>1</td>\n",
       "    </tr>\n",
       "    <tr>\n",
       "      <th>105638</th>\n",
       "      <td>5411</td>\n",
       "      <td>826</td>\n",
       "      <td>81</td>\n",
       "      <td>-0.421040</td>\n",
       "      <td>12500</td>\n",
       "      <td>0.064513</td>\n",
       "      <td>1</td>\n",
       "    </tr>\n",
       "    <tr>\n",
       "      <th>100628</th>\n",
       "      <td>5541</td>\n",
       "      <td>826</td>\n",
       "      <td>5</td>\n",
       "      <td>1.579204</td>\n",
       "      <td>7500</td>\n",
       "      <td>0.166139</td>\n",
       "      <td>1</td>\n",
       "    </tr>\n",
       "    <tr>\n",
       "      <th>59046</th>\n",
       "      <td>5735</td>\n",
       "      <td>442</td>\n",
       "      <td>81</td>\n",
       "      <td>-0.295338</td>\n",
       "      <td>3500</td>\n",
       "      <td>0.078427</td>\n",
       "      <td>1</td>\n",
       "    </tr>\n",
       "  </tbody>\n",
       "</table>\n",
       "</div>"
      ],
      "text/plain": [
       "         mcc  merchantCountry  posEntryMode  transactionAmount  availableCash  \\\n",
       "98059   5969              442            81           0.091530           7500   \n",
       "48317   5942              442            81           0.114230           4500   \n",
       "105638  5411              826            81          -0.421040          12500   \n",
       "100628  5541              826             5           1.579204           7500   \n",
       "59046   5735              442            81          -0.295338           3500   \n",
       "\n",
       "           score  anomaly  \n",
       "98059   0.101128        1  \n",
       "48317   0.084750        1  \n",
       "105638  0.064513        1  \n",
       "100628  0.166139        1  \n",
       "59046   0.078427        1  "
      ]
     },
     "execution_count": 76,
     "metadata": {},
     "output_type": "execute_result"
    }
   ],
   "source": [
    "df1=X_test.copy()\n",
    "df1['score']=isoFor.decision_function(X_test)\n",
    "\n",
    "df1['anomaly']=isoFor.predict(X_test)\n",
    "df1.head()"
   ]
  },
  {
   "cell_type": "code",
   "execution_count": 77,
   "id": "044ef706",
   "metadata": {},
   "outputs": [
    {
     "data": {
      "text/html": [
       "<div>\n",
       "<style scoped>\n",
       "    .dataframe tbody tr th:only-of-type {\n",
       "        vertical-align: middle;\n",
       "    }\n",
       "\n",
       "    .dataframe tbody tr th {\n",
       "        vertical-align: top;\n",
       "    }\n",
       "\n",
       "    .dataframe thead th {\n",
       "        text-align: right;\n",
       "    }\n",
       "</style>\n",
       "<table border=\"1\" class=\"dataframe\">\n",
       "  <thead>\n",
       "    <tr style=\"text-align: right;\">\n",
       "      <th></th>\n",
       "      <th>score</th>\n",
       "      <th>anomaly</th>\n",
       "    </tr>\n",
       "  </thead>\n",
       "  <tbody>\n",
       "    <tr>\n",
       "      <th>98059</th>\n",
       "      <td>0.101128</td>\n",
       "      <td>1</td>\n",
       "    </tr>\n",
       "    <tr>\n",
       "      <th>48317</th>\n",
       "      <td>0.084750</td>\n",
       "      <td>1</td>\n",
       "    </tr>\n",
       "    <tr>\n",
       "      <th>105638</th>\n",
       "      <td>0.064513</td>\n",
       "      <td>1</td>\n",
       "    </tr>\n",
       "    <tr>\n",
       "      <th>100628</th>\n",
       "      <td>0.166139</td>\n",
       "      <td>1</td>\n",
       "    </tr>\n",
       "    <tr>\n",
       "      <th>59046</th>\n",
       "      <td>0.078427</td>\n",
       "      <td>1</td>\n",
       "    </tr>\n",
       "  </tbody>\n",
       "</table>\n",
       "</div>"
      ],
      "text/plain": [
       "           score  anomaly\n",
       "98059   0.101128        1\n",
       "48317   0.084750        1\n",
       "105638  0.064513        1\n",
       "100628  0.166139        1\n",
       "59046   0.078427        1"
      ]
     },
     "execution_count": 77,
     "metadata": {},
     "output_type": "execute_result"
    }
   ],
   "source": [
    "df1[['score','anomaly']].head()"
   ]
  },
  {
   "cell_type": "code",
   "execution_count": 78,
   "id": "ecc3239c",
   "metadata": {},
   "outputs": [],
   "source": [
    "y_pred = df1['anomaly'].copy()\n",
    "\n",
    "y_pred.values[y_pred.values == 1]=0\n",
    "y_pred.values[y_pred.values == -1]=1\n"
   ]
  },
  {
   "cell_type": "code",
   "execution_count": 79,
   "id": "1fea9e20",
   "metadata": {},
   "outputs": [],
   "source": [
    "iso_cmb=confusion_matrix(y_test, y_pred)"
   ]
  },
  {
   "cell_type": "code",
   "execution_count": 80,
   "id": "9ecae846",
   "metadata": {},
   "outputs": [
    {
     "name": "stdout",
     "output_type": "stream",
     "text": [
      "[[21104  2454]\n",
      " [  102    65]] \n",
      "\n",
      "              precision    recall  f1-score   support\n",
      "\n",
      "           0       1.00      0.90      0.94     23558\n",
      "           1       0.03      0.39      0.05       167\n",
      "\n",
      "    accuracy                           0.89     23725\n",
      "   macro avg       0.51      0.64      0.50     23725\n",
      "weighted avg       0.99      0.89      0.94     23725\n",
      "\n"
     ]
    }
   ],
   "source": [
    "# Evaluation \n",
    "iso_cmb = confusion_matrix(y_test, y_pred)\n",
    "iso_crb = classification_report(y_test, y_pred)\n",
    "print(iso_cmb,\"\\n\")\n",
    "print(iso_crb)\n",
    "\n"
   ]
  },
  {
   "cell_type": "code",
   "execution_count": null,
   "id": "93880506",
   "metadata": {},
   "outputs": [],
   "source": []
  },
  {
   "cell_type": "code",
   "execution_count": 81,
   "id": "4d6743c1",
   "metadata": {
    "scrolled": true
   },
   "outputs": [
    {
     "data": {
      "image/png": "[encoded data removed]",
      "text/plain": [
       "<Figure size 360x360 with 2 Axes>"
      ]
     },
     "metadata": {
      "needs_background": "light"
     },
     "output_type": "display_data"
    }
   ],
   "source": [
    "# plotting confusion metrix\n",
    "plt.figure(figsize=(4,4), dpi=90)\n",
    "sns.heatmap(iso_cmb, annot=True, fmt=\".1f\")\n",
    "plt.title(\"Confusion Metrix\")\n",
    "plt.ylabel(\"Actual Values\")\n",
    "plt.xlabel(\"predict Values\")\n",
    "plt.show()"
   ]
  },
  {
   "cell_type": "markdown",
   "id": "85743d8e",
   "metadata": {},
   "source": [
    "# Balanced data set"
   ]
  },
  {
   "cell_type": "code",
   "execution_count": 82,
   "id": "8ed5cba0",
   "metadata": {},
   "outputs": [
    {
     "data": {
      "text/plain": [
       "(0    117746\n",
       " Name: fraudEvent, dtype: int64,\n",
       " 1    875\n",
       " Name: fraudEvent, dtype: int64)"
      ]
     },
     "execution_count": 82,
     "metadata": {},
     "output_type": "execute_result"
    }
   ],
   "source": [
    "not_frauds = df_final.query('fraudEvent == 0')\n",
    "frauds = df_final.query('fraudEvent == 1')\n",
    "not_frauds['fraudEvent'].value_counts(), frauds['fraudEvent'].value_counts()"
   ]
  },
  {
   "cell_type": "code",
   "execution_count": 83,
   "id": "d4ea2944",
   "metadata": {},
   "outputs": [
    {
     "data": {
      "text/plain": [
       "1    875\n",
       "0    875\n",
       "Name: fraudEvent, dtype: int64"
      ]
     },
     "execution_count": 83,
     "metadata": {},
     "output_type": "execute_result"
    }
   ],
   "source": [
    "balanced_df = pd.concat([frauds, not_frauds.sample(len(frauds), random_state=20)])\n",
    "balanced_df['fraudEvent'].value_counts()"
   ]
  },
  {
   "cell_type": "code",
   "execution_count": 84,
   "id": "afdb5bca",
   "metadata": {},
   "outputs": [
    {
     "data": {
      "text/html": [
       "<div>\n",
       "<style scoped>\n",
       "    .dataframe tbody tr th:only-of-type {\n",
       "        vertical-align: middle;\n",
       "    }\n",
       "\n",
       "    .dataframe tbody tr th {\n",
       "        vertical-align: top;\n",
       "    }\n",
       "\n",
       "    .dataframe thead th {\n",
       "        text-align: right;\n",
       "    }\n",
       "</style>\n",
       "<table border=\"1\" class=\"dataframe\">\n",
       "  <thead>\n",
       "    <tr style=\"text-align: right;\">\n",
       "      <th></th>\n",
       "      <th>mcc</th>\n",
       "      <th>merchantCountry</th>\n",
       "      <th>posEntryMode</th>\n",
       "      <th>transactionAmount</th>\n",
       "      <th>availableCash</th>\n",
       "      <th>fraudEvent</th>\n",
       "    </tr>\n",
       "  </thead>\n",
       "  <tbody>\n",
       "    <tr>\n",
       "      <th>37865</th>\n",
       "      <td>5411</td>\n",
       "      <td>826</td>\n",
       "      <td>5</td>\n",
       "      <td>0.632902</td>\n",
       "      <td>7500</td>\n",
       "      <td>0</td>\n",
       "    </tr>\n",
       "    <tr>\n",
       "      <th>70712</th>\n",
       "      <td>4814</td>\n",
       "      <td>826</td>\n",
       "      <td>1</td>\n",
       "      <td>-0.445448</td>\n",
       "      <td>7500</td>\n",
       "      <td>0</td>\n",
       "    </tr>\n",
       "    <tr>\n",
       "      <th>15051</th>\n",
       "      <td>5735</td>\n",
       "      <td>442</td>\n",
       "      <td>81</td>\n",
       "      <td>-0.284598</td>\n",
       "      <td>1500</td>\n",
       "      <td>1</td>\n",
       "    </tr>\n",
       "  </tbody>\n",
       "</table>\n",
       "</div>"
      ],
      "text/plain": [
       "        mcc  merchantCountry  posEntryMode  transactionAmount  availableCash  \\\n",
       "37865  5411              826             5           0.632902           7500   \n",
       "70712  4814              826             1          -0.445448           7500   \n",
       "15051  5735              442            81          -0.284598           1500   \n",
       "\n",
       "       fraudEvent  \n",
       "37865           0  \n",
       "70712           0  \n",
       "15051           1  "
      ]
     },
     "execution_count": 84,
     "metadata": {},
     "output_type": "execute_result"
    }
   ],
   "source": [
    "balanced_df = balanced_df.sample(frac=1, random_state=1)\n",
    "balanced_df.head(3)"
   ]
  },
  {
   "cell_type": "code",
   "execution_count": 85,
   "id": "3fb32812",
   "metadata": {},
   "outputs": [],
   "source": [
    "# separating X and y variables\n",
    "X_b =balanced_df.drop(\"fraudEvent\", axis=1)\n",
    "y_b = balanced_df.loc[:,\"fraudEvent\"].values.ravel()"
   ]
  },
  {
   "cell_type": "code",
   "execution_count": 86,
   "id": "55cbb11e",
   "metadata": {},
   "outputs": [],
   "source": [
    "#Sampling\n",
    "random_stat=20\n",
    "Xb_train, Xb_test, yb_train, yb_test = train_test_split(X_b, y_b, test_size = 0.2, random_state=20)"
   ]
  },
  {
   "cell_type": "markdown",
   "id": "135e60b5",
   "metadata": {},
   "source": [
    "## Random Forest - balanced data set"
   ]
  },
  {
   "cell_type": "code",
   "execution_count": 87,
   "id": "01bffb3b",
   "metadata": {},
   "outputs": [
    {
     "name": "stdout",
     "output_type": "stream",
     "text": [
      "0.7878571428571428\n",
      "0.8\n"
     ]
    }
   ],
   "source": [
    "rf_b= RandomForestClassifier(max_depth=2,class_weight=\"balanced\")\n",
    "rf_b.fit(Xb_train, yb_train)\n",
    "print(rf_b.score(Xb_train, yb_train)) # train accu\n",
    "print(rf_b.score(Xb_test, yb_test))  #test accu\n"
   ]
  },
  {
   "cell_type": "code",
   "execution_count": 88,
   "id": "e6e26ee0",
   "metadata": {},
   "outputs": [],
   "source": [
    "rf_b_predictions = rf_b.predict(Xb_test)"
   ]
  },
  {
   "cell_type": "code",
   "execution_count": 89,
   "id": "e5e0ce50",
   "metadata": {},
   "outputs": [
    {
     "name": "stdout",
     "output_type": "stream",
     "text": [
      "[[167  31]\n",
      " [ 39 113]] \n",
      "\n",
      "              precision    recall  f1-score   support\n",
      "\n",
      "           0       0.81      0.84      0.83       198\n",
      "           1       0.78      0.74      0.76       152\n",
      "\n",
      "    accuracy                           0.80       350\n",
      "   macro avg       0.80      0.79      0.80       350\n",
      "weighted avg       0.80      0.80      0.80       350\n",
      "\n"
     ]
    }
   ],
   "source": [
    "# Evaluation \n",
    "cmb = confusion_matrix(yb_test, rf_b_predictions)\n",
    "crb = classification_report(yb_test, rf_b_predictions)\n",
    "print(cmb,\"\\n\")\n",
    "print(crb)\n"
   ]
  },
  {
   "cell_type": "code",
   "execution_count": 90,
   "id": "6e84dc5f",
   "metadata": {
    "scrolled": true
   },
   "outputs": [
    {
     "data": {
      "image/png": "[encoded data removed]",
      "text/plain": [
       "<Figure size 360x360 with 2 Axes>"
      ]
     },
     "metadata": {
      "needs_background": "light"
     },
     "output_type": "display_data"
    }
   ],
   "source": [
    "# plotting confusion metrix\n",
    "plt.figure(figsize=(4,4), dpi=90)\n",
    "sns.heatmap(cmb, annot=True, fmt=\".1f\")\n",
    "plt.title(\"Confusion Metrix\")\n",
    "plt.ylabel(\"Actual Values\")\n",
    "plt.xlabel(\"predict Values\")\n",
    "plt.show()"
   ]
  },
  {
   "cell_type": "code",
   "execution_count": 91,
   "id": "a7592d28",
   "metadata": {},
   "outputs": [
    {
     "data": {
      "image/png": "[encoded data removed]",
      "text/plain": [
       "<Figure size 432x288 with 1 Axes>"
      ]
     },
     "metadata": {
      "needs_background": "light"
     },
     "output_type": "display_data"
    }
   ],
   "source": [
    "plot_roc_curve(yb_test, rf_b_predictions)"
   ]
  },
  {
   "cell_type": "markdown",
   "id": "feddc3cb",
   "metadata": {},
   "source": [
    "## XG Boost - balanced data set"
   ]
  },
  {
   "cell_type": "code",
   "execution_count": 92,
   "id": "caabadee",
   "metadata": {
    "scrolled": true
   },
   "outputs": [
    {
     "data": {
      "text/plain": [
       "XGBClassifier(base_score=0.5, booster='gbtree', colsample_bylevel=1,\n",
       "              colsample_bynode=1, colsample_bytree=1, enable_categorical=False,\n",
       "              eta=0.5, eval_metric='mlogloss', gamma=2, gpu_id=-1,\n",
       "              importance_type=None, interaction_constraints='',\n",
       "              learning_rate=0.01, max_delta_step=0, max_depth=3,\n",
       "              min_child_weight=1, missing=nan, monotone_constraints='()',\n",
       "              n_estimators=100, n_jobs=8, num_parallel_tree=1, predictor='auto',\n",
       "              random_state=0, reg_alpha=0, reg_lambda=1, scale_pos_weight=1,\n",
       "              subsample=1, tree_method='exact', validate_parameters=1,\n",
       "              verbosity=None)"
      ]
     },
     "execution_count": 92,
     "metadata": {},
     "output_type": "execute_result"
    }
   ],
   "source": [
    "xgb_b = XGBClassifier (gamma=2,learning_rate=0.01, eta=0.5,  eval_metric='mlogloss', max_depth=3)\n",
    "xgb_b.fit(Xb_train, yb_train)\n"
   ]
  },
  {
   "cell_type": "code",
   "execution_count": 93,
   "id": "18a35edf",
   "metadata": {},
   "outputs": [
    {
     "name": "stdout",
     "output_type": "stream",
     "text": [
      "0.8378571428571429\n",
      "0.8142857142857143\n"
     ]
    }
   ],
   "source": [
    "print(xgb_b.score(Xb_train, yb_train)) # train accu\n",
    "print(xgb_b.score(Xb_test, yb_test)) # test accu\n",
    "\n"
   ]
  },
  {
   "cell_type": "code",
   "execution_count": 94,
   "id": "2e74e42d",
   "metadata": {},
   "outputs": [],
   "source": [
    "xgb_b_predictions = xgb_b.predict(Xb_test)\n",
    "#print(yb_test,xgb_b_predictions)"
   ]
  },
  {
   "cell_type": "code",
   "execution_count": 95,
   "id": "7b76354a",
   "metadata": {},
   "outputs": [
    {
     "name": "stdout",
     "output_type": "stream",
     "text": [
      "[[155  43]\n",
      " [ 22 130]] \n",
      "\n",
      "              precision    recall  f1-score   support\n",
      "\n",
      "           0       0.88      0.78      0.83       198\n",
      "           1       0.75      0.86      0.80       152\n",
      "\n",
      "    accuracy                           0.81       350\n",
      "   macro avg       0.81      0.82      0.81       350\n",
      "weighted avg       0.82      0.81      0.82       350\n",
      "\n"
     ]
    }
   ],
   "source": [
    "# Evaluation \n",
    "xgb_b_cm = confusion_matrix(yb_test, xgb_b_predictions)\n",
    "xgb_b_cr = classification_report(yb_test, xgb_b_predictions)\n",
    "print(xgb_b_cm,\"\\n\")\n",
    "print(xgb_b_cr)\n"
   ]
  },
  {
   "cell_type": "code",
   "execution_count": 96,
   "id": "b54d08f4",
   "metadata": {},
   "outputs": [
    {
     "data": {
      "image/png": "[encoded data removed]",
      "text/plain": [
       "<Figure size 360x360 with 2 Axes>"
      ]
     },
     "metadata": {
      "needs_background": "light"
     },
     "output_type": "display_data"
    }
   ],
   "source": [
    "# plotting confusion metrix\n",
    "plt.figure(figsize=(4,4), dpi=90)\n",
    "sns.heatmap(xgb_b_cm, annot=True, fmt=\".1f\")\n",
    "plt.title(\"Confusion Metrix\")\n",
    "plt.ylabel(\"Actual Values\")\n",
    "plt.xlabel(\"Predict Values\")\n",
    "plt.show()"
   ]
  },
  {
   "cell_type": "code",
   "execution_count": 97,
   "id": "b3b8c7af",
   "metadata": {},
   "outputs": [
    {
     "data": {
      "image/png": "[encoded data removed]",
      "text/plain": [
       "<Figure size 432x288 with 1 Axes>"
      ]
     },
     "metadata": {
      "needs_background": "light"
     },
     "output_type": "display_data"
    }
   ],
   "source": [
    "plot_roc_curve(yb_test, xgb_b_predictions)"
   ]
  },
  {
   "cell_type": "code",
   "execution_count": 98,
   "id": "11f43d8e",
   "metadata": {},
   "outputs": [
    {
     "data": {
      "text/plain": [
       "array([0.84      , 0.81142857, 0.85142857, 0.82857143, 0.80571429,\n",
       "       0.81142857, 0.83428571, 0.81142857, 0.81142857, 0.86285714])"
      ]
     },
     "execution_count": 98,
     "metadata": {},
     "output_type": "execute_result"
    }
   ],
   "source": [
    "#Cross Validation\n",
    "score=cross_val_score(xgb_b,X_b,y_b,cv=10)\n",
    "score"
   ]
  }
 ],
 "metadata": {
  "kernelspec": {
   "display_name": "Python 3 (ipykernel)",
   "language": "python",
   "name": "python3"
  },
  "language_info": {
   "codemirror_mode": {
    "name": "ipython",
    "version": 3
   },
   "file_extension": ".py",
   "mimetype": "text/x-python",
   "name": "python",
   "nbconvert_exporter": "python",
   "pygments_lexer": "ipython3",
   "version": "3.9.7"
  }
 },
 "nbformat": 4,
 "nbformat_minor": 5
}
