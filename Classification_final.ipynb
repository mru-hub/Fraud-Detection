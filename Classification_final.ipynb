{
 "cells": [
  {
   "cell_type": "code",
   "execution_count": 1,
   "id": "c6d111b8",
   "metadata": {},
   "outputs": [],
   "source": [
    "import pandas as pd\n",
    "import numpy as np\n",
    "import seaborn as sns\n",
    "import matplotlib.pyplot as plt\n",
    "\n",
    "\n",
    "from sklearn.preprocessing import StandardScaler\n",
    "from sklearn.preprocessing import PowerTransformer\n",
    "from sklearn.impute import SimpleImputer\n",
    "from sklearn.pipeline import make_pipeline, Pipeline\n",
    "from sklearn.compose import ColumnTransformer, make_column_transformer\n",
    "from sklearn.preprocessing import FunctionTransformer\n",
    "from sklearn.preprocessing import OneHotEncoder\n",
    "\n",
    "\n",
    "from sklearn.linear_model import LogisticRegression\n",
    "from xgboost import XGBClassifier\n",
    "from sklearn.metrics import auc, accuracy_score, confusion_matrix, classification_report\n",
    "from sklearn.model_selection import cross_val_score, GridSearchCV, KFold, RandomizedSearchCV, train_test_split\n",
    "from sklearn.metrics import roc_curve, auc,recall_score,precision_score, f1_score\n",
    "\n",
    "\n",
    "# ignore the warnings\n",
    "import warnings\n",
    "warnings.filterwarnings('ignore')\n"
   ]
  },
  {
   "cell_type": "markdown",
   "id": "e5c4c2c2",
   "metadata": {},
   "source": [
    "Classification model with 100 features.\n",
    "ASK: Create predictions on the data in test.csv using each of your trained models (using train.csv). The predictions should be the class probabilities for belonging to the positive class (labeled '1').\n",
    "\n",
    "Approch: \n",
    "Step1: Clean and prepare data \n",
    "Step2: Build ml models using ml pipeline\n",
    "step3: Compare the modeling approaches\n",
    "step4: Present the results"
   ]
  },
  {
   "cell_type": "code",
   "execution_count": 2,
   "id": "29442dcc",
   "metadata": {},
   "outputs": [],
   "source": [
    "#Function ROC curve\n",
    "def plot_roc_curve(y_test, y_prediction):\n",
    "    fpr, tpr, _ = roc_curve(y_test, y_prediction)\n",
    "    roc_auc = auc(fpr, tpr)\n",
    "    plt.figure()\n",
    "\n",
    "    lw = 2\n",
    "    plt.plot(fpr, tpr, color='darkorange',\n",
    "             lw=lw, label='ROC curve (area = %0.2f)' % roc_auc)\n",
    "    plt.plot([0, 1], [0, 1], color='navy', lw=lw, linestyle='--')\n",
    "    plt.xlim([-0.02, 1.0])\n",
    "    plt.ylim([0.0, 1.05])\n",
    "    plt.xlabel('False Positive Rate')\n",
    "    plt.ylabel('True Positive Rate')\n",
    "    plt.title('ROC curve')\n",
    "    plt.legend(loc=\"lower right\")\n",
    "    plt.show()"
   ]
  },
  {
   "cell_type": "code",
   "execution_count": 3,
   "id": "09c9de77",
   "metadata": {},
   "outputs": [],
   "source": [
    "#Loading the data \n",
    "data_int=pd.read_csv(\"train.csv\")"
   ]
  },
  {
   "cell_type": "code",
   "execution_count": 4,
   "id": "84547f06",
   "metadata": {},
   "outputs": [],
   "source": [
    "df=data_int.copy()"
   ]
  },
  {
   "cell_type": "markdown",
   "id": "a3f0c094",
   "metadata": {},
   "source": [
    "### Data Understanding "
   ]
  },
  {
   "cell_type": "code",
   "execution_count": 5,
   "id": "c43e3bcf",
   "metadata": {},
   "outputs": [
    {
     "data": {
      "text/html": [
       "<div>\n",
       "<style scoped>\n",
       "    .dataframe tbody tr th:only-of-type {\n",
       "        vertical-align: middle;\n",
       "    }\n",
       "\n",
       "    .dataframe tbody tr th {\n",
       "        vertical-align: top;\n",
       "    }\n",
       "\n",
       "    .dataframe thead th {\n",
       "        text-align: right;\n",
       "    }\n",
       "</style>\n",
       "<table border=\"1\" class=\"dataframe\">\n",
       "  <thead>\n",
       "    <tr style=\"text-align: right;\">\n",
       "      <th></th>\n",
       "      <th>y</th>\n",
       "      <th>x1</th>\n",
       "      <th>x2</th>\n",
       "      <th>x3</th>\n",
       "      <th>x4</th>\n",
       "      <th>x5</th>\n",
       "      <th>x6</th>\n",
       "      <th>x7</th>\n",
       "      <th>x8</th>\n",
       "      <th>x9</th>\n",
       "      <th>...</th>\n",
       "      <th>x91</th>\n",
       "      <th>x92</th>\n",
       "      <th>x93</th>\n",
       "      <th>x94</th>\n",
       "      <th>x95</th>\n",
       "      <th>x96</th>\n",
       "      <th>x97</th>\n",
       "      <th>x98</th>\n",
       "      <th>x99</th>\n",
       "      <th>x100</th>\n",
       "    </tr>\n",
       "  </thead>\n",
       "  <tbody>\n",
       "    <tr>\n",
       "      <th>0</th>\n",
       "      <td>0</td>\n",
       "      <td>0.165254</td>\n",
       "      <td>18.060003</td>\n",
       "      <td>Wed</td>\n",
       "      <td>1.077380</td>\n",
       "      <td>-1.339233</td>\n",
       "      <td>-1.584341</td>\n",
       "      <td>0.0062%</td>\n",
       "      <td>0.220784</td>\n",
       "      <td>1.816481</td>\n",
       "      <td>...</td>\n",
       "      <td>-0.397427</td>\n",
       "      <td>0.909479</td>\n",
       "      <td>no</td>\n",
       "      <td>5.492487</td>\n",
       "      <td>NaN</td>\n",
       "      <td>10.255579</td>\n",
       "      <td>7.627730</td>\n",
       "      <td>0</td>\n",
       "      <td>yes</td>\n",
       "      <td>104.251338</td>\n",
       "    </tr>\n",
       "    <tr>\n",
       "      <th>1</th>\n",
       "      <td>1</td>\n",
       "      <td>2.441471</td>\n",
       "      <td>18.416307</td>\n",
       "      <td>Friday</td>\n",
       "      <td>1.482586</td>\n",
       "      <td>0.920817</td>\n",
       "      <td>-0.759931</td>\n",
       "      <td>0.0064%</td>\n",
       "      <td>1.192441</td>\n",
       "      <td>3.513950</td>\n",
       "      <td>...</td>\n",
       "      <td>0.656651</td>\n",
       "      <td>9.093466</td>\n",
       "      <td>no</td>\n",
       "      <td>3.346429</td>\n",
       "      <td>4.321172</td>\n",
       "      <td>NaN</td>\n",
       "      <td>10.505284</td>\n",
       "      <td>1</td>\n",
       "      <td>yes</td>\n",
       "      <td>101.230645</td>\n",
       "    </tr>\n",
       "    <tr>\n",
       "      <th>2</th>\n",
       "      <td>1</td>\n",
       "      <td>4.427278</td>\n",
       "      <td>19.188092</td>\n",
       "      <td>Thursday</td>\n",
       "      <td>0.145652</td>\n",
       "      <td>0.366093</td>\n",
       "      <td>0.709962</td>\n",
       "      <td>-8e-04%</td>\n",
       "      <td>0.952323</td>\n",
       "      <td>0.782974</td>\n",
       "      <td>...</td>\n",
       "      <td>2.059615</td>\n",
       "      <td>0.305170</td>\n",
       "      <td>no</td>\n",
       "      <td>4.456565</td>\n",
       "      <td>NaN</td>\n",
       "      <td>8.754572</td>\n",
       "      <td>7.810979</td>\n",
       "      <td>0</td>\n",
       "      <td>yes</td>\n",
       "      <td>109.345215</td>\n",
       "    </tr>\n",
       "    <tr>\n",
       "      <th>3</th>\n",
       "      <td>0</td>\n",
       "      <td>3.925235</td>\n",
       "      <td>19.901257</td>\n",
       "      <td>Tuesday</td>\n",
       "      <td>1.763602</td>\n",
       "      <td>-0.251926</td>\n",
       "      <td>-0.827461</td>\n",
       "      <td>-0.0057%</td>\n",
       "      <td>-0.520756</td>\n",
       "      <td>1.825586</td>\n",
       "      <td>...</td>\n",
       "      <td>0.899392</td>\n",
       "      <td>5.971782</td>\n",
       "      <td>no</td>\n",
       "      <td>4.100022</td>\n",
       "      <td>1.151085</td>\n",
       "      <td>NaN</td>\n",
       "      <td>9.178325</td>\n",
       "      <td>1</td>\n",
       "      <td>yes</td>\n",
       "      <td>103.021970</td>\n",
       "    </tr>\n",
       "    <tr>\n",
       "      <th>4</th>\n",
       "      <td>0</td>\n",
       "      <td>2.868802</td>\n",
       "      <td>22.202473</td>\n",
       "      <td>Sunday</td>\n",
       "      <td>3.405119</td>\n",
       "      <td>0.083162</td>\n",
       "      <td>1.381504</td>\n",
       "      <td>0.0109%</td>\n",
       "      <td>-0.732739</td>\n",
       "      <td>2.151990</td>\n",
       "      <td>...</td>\n",
       "      <td>3.003595</td>\n",
       "      <td>1.046096</td>\n",
       "      <td>yes</td>\n",
       "      <td>3.234033</td>\n",
       "      <td>2.074927</td>\n",
       "      <td>9.987006</td>\n",
       "      <td>11.702664</td>\n",
       "      <td>0</td>\n",
       "      <td>yes</td>\n",
       "      <td>92.925935</td>\n",
       "    </tr>\n",
       "  </tbody>\n",
       "</table>\n",
       "<p>5 rows × 101 columns</p>\n",
       "</div>"
      ],
      "text/plain": [
       "   y        x1         x2        x3        x4        x5        x6        x7  \\\n",
       "0  0  0.165254  18.060003       Wed  1.077380 -1.339233 -1.584341   0.0062%   \n",
       "1  1  2.441471  18.416307    Friday  1.482586  0.920817 -0.759931   0.0064%   \n",
       "2  1  4.427278  19.188092  Thursday  0.145652  0.366093  0.709962   -8e-04%   \n",
       "3  0  3.925235  19.901257   Tuesday  1.763602 -0.251926 -0.827461  -0.0057%   \n",
       "4  0  2.868802  22.202473    Sunday  3.405119  0.083162  1.381504   0.0109%   \n",
       "\n",
       "         x8        x9  ...       x91       x92  x93       x94       x95  \\\n",
       "0  0.220784  1.816481  ... -0.397427  0.909479   no  5.492487       NaN   \n",
       "1  1.192441  3.513950  ...  0.656651  9.093466   no  3.346429  4.321172   \n",
       "2  0.952323  0.782974  ...  2.059615  0.305170   no  4.456565       NaN   \n",
       "3 -0.520756  1.825586  ...  0.899392  5.971782   no  4.100022  1.151085   \n",
       "4 -0.732739  2.151990  ...  3.003595  1.046096  yes  3.234033  2.074927   \n",
       "\n",
       "         x96        x97  x98  x99        x100  \n",
       "0  10.255579   7.627730    0  yes  104.251338  \n",
       "1        NaN  10.505284    1  yes  101.230645  \n",
       "2   8.754572   7.810979    0  yes  109.345215  \n",
       "3        NaN   9.178325    1  yes  103.021970  \n",
       "4   9.987006  11.702664    0  yes   92.925935  \n",
       "\n",
       "[5 rows x 101 columns]"
      ]
     },
     "execution_count": 5,
     "metadata": {},
     "output_type": "execute_result"
    }
   ],
   "source": [
    "df.head()"
   ]
  },
  {
   "cell_type": "code",
   "execution_count": 6,
   "id": "c74e0dad",
   "metadata": {},
   "outputs": [
    {
     "data": {
      "text/plain": [
       "(40000, 101)"
      ]
     },
     "execution_count": 6,
     "metadata": {},
     "output_type": "execute_result"
    }
   ],
   "source": [
    "df.shape"
   ]
  },
  {
   "cell_type": "code",
   "execution_count": 7,
   "id": "2dd45695",
   "metadata": {},
   "outputs": [
    {
     "data": {
      "text/plain": [
       "Index(['y', 'x1', 'x2', 'x3', 'x4', 'x5', 'x6', 'x7', 'x8', 'x9',\n",
       "       ...\n",
       "       'x91', 'x92', 'x93', 'x94', 'x95', 'x96', 'x97', 'x98', 'x99', 'x100'],\n",
       "      dtype='object', length=101)"
      ]
     },
     "execution_count": 7,
     "metadata": {},
     "output_type": "execute_result"
    }
   ],
   "source": [
    "df.columns"
   ]
  },
  {
   "cell_type": "code",
   "execution_count": 8,
   "id": "a3638e71",
   "metadata": {},
   "outputs": [
    {
     "name": "stdout",
     "output_type": "stream",
     "text": [
      "<class 'pandas.core.frame.DataFrame'>\n",
      "RangeIndex: 40000 entries, 0 to 39999\n",
      "Columns: 101 entries, y to x100\n",
      "dtypes: float64(86), int64(3), object(12)\n",
      "memory usage: 30.8+ MB\n"
     ]
    }
   ],
   "source": [
    "df.info()"
   ]
  },
  {
   "cell_type": "code",
   "execution_count": 9,
   "id": "01189dda",
   "metadata": {
    "scrolled": true
   },
   "outputs": [
    {
     "data": {
      "text/html": [
       "<div>\n",
       "<style scoped>\n",
       "    .dataframe tbody tr th:only-of-type {\n",
       "        vertical-align: middle;\n",
       "    }\n",
       "\n",
       "    .dataframe tbody tr th {\n",
       "        vertical-align: top;\n",
       "    }\n",
       "\n",
       "    .dataframe thead th {\n",
       "        text-align: right;\n",
       "    }\n",
       "</style>\n",
       "<table border=\"1\" class=\"dataframe\">\n",
       "  <thead>\n",
       "    <tr style=\"text-align: right;\">\n",
       "      <th></th>\n",
       "      <th>y</th>\n",
       "      <th>x1</th>\n",
       "      <th>x2</th>\n",
       "      <th>x4</th>\n",
       "      <th>x5</th>\n",
       "      <th>x6</th>\n",
       "      <th>x8</th>\n",
       "      <th>x9</th>\n",
       "      <th>x10</th>\n",
       "      <th>x11</th>\n",
       "      <th>...</th>\n",
       "      <th>x89</th>\n",
       "      <th>x90</th>\n",
       "      <th>x91</th>\n",
       "      <th>x92</th>\n",
       "      <th>x94</th>\n",
       "      <th>x95</th>\n",
       "      <th>x96</th>\n",
       "      <th>x97</th>\n",
       "      <th>x98</th>\n",
       "      <th>x100</th>\n",
       "    </tr>\n",
       "  </thead>\n",
       "  <tbody>\n",
       "    <tr>\n",
       "      <th>count</th>\n",
       "      <td>40000.000000</td>\n",
       "      <td>40000.000000</td>\n",
       "      <td>40000.000000</td>\n",
       "      <td>40000.000000</td>\n",
       "      <td>37572.000000</td>\n",
       "      <td>40000.000000</td>\n",
       "      <td>40000.000000</td>\n",
       "      <td>40000.000000</td>\n",
       "      <td>40000.000000</td>\n",
       "      <td>34890.000000</td>\n",
       "      <td>...</td>\n",
       "      <td>29309.000000</td>\n",
       "      <td>40000.000000</td>\n",
       "      <td>34741.000000</td>\n",
       "      <td>37565.000000</td>\n",
       "      <td>37660.000000</td>\n",
       "      <td>27396.000000</td>\n",
       "      <td>33362.000000</td>\n",
       "      <td>40000.000000</td>\n",
       "      <td>40000.000000</td>\n",
       "      <td>40000.000000</td>\n",
       "    </tr>\n",
       "    <tr>\n",
       "      <th>mean</th>\n",
       "      <td>0.145075</td>\n",
       "      <td>2.999958</td>\n",
       "      <td>20.004865</td>\n",
       "      <td>0.002950</td>\n",
       "      <td>0.005396</td>\n",
       "      <td>0.007234</td>\n",
       "      <td>0.004371</td>\n",
       "      <td>2.722334</td>\n",
       "      <td>0.490339</td>\n",
       "      <td>100.008988</td>\n",
       "      <td>...</td>\n",
       "      <td>10.767838</td>\n",
       "      <td>3.000166</td>\n",
       "      <td>0.001636</td>\n",
       "      <td>4.002896</td>\n",
       "      <td>3.969385</td>\n",
       "      <td>0.031886</td>\n",
       "      <td>10.525530</td>\n",
       "      <td>10.002814</td>\n",
       "      <td>0.497650</td>\n",
       "      <td>100.024743</td>\n",
       "    </tr>\n",
       "    <tr>\n",
       "      <th>std</th>\n",
       "      <td>0.352181</td>\n",
       "      <td>1.994490</td>\n",
       "      <td>1.604291</td>\n",
       "      <td>1.462185</td>\n",
       "      <td>1.297952</td>\n",
       "      <td>1.358551</td>\n",
       "      <td>1.447223</td>\n",
       "      <td>1.966828</td>\n",
       "      <td>1.029863</td>\n",
       "      <td>13.343010</td>\n",
       "      <td>...</td>\n",
       "      <td>3.732763</td>\n",
       "      <td>1.164411</td>\n",
       "      <td>1.468790</td>\n",
       "      <td>3.017420</td>\n",
       "      <td>1.473939</td>\n",
       "      <td>1.823091</td>\n",
       "      <td>1.437581</td>\n",
       "      <td>1.986984</td>\n",
       "      <td>0.500001</td>\n",
       "      <td>5.247514</td>\n",
       "    </tr>\n",
       "    <tr>\n",
       "      <th>min</th>\n",
       "      <td>0.000000</td>\n",
       "      <td>-3.648431</td>\n",
       "      <td>13.714945</td>\n",
       "      <td>-5.137161</td>\n",
       "      <td>-5.616412</td>\n",
       "      <td>-6.113153</td>\n",
       "      <td>-6.376810</td>\n",
       "      <td>-3.143438</td>\n",
       "      <td>-3.538129</td>\n",
       "      <td>50.526543</td>\n",
       "      <td>...</td>\n",
       "      <td>6.106024</td>\n",
       "      <td>-2.173310</td>\n",
       "      <td>-6.328126</td>\n",
       "      <td>-3.384399</td>\n",
       "      <td>-1.663063</td>\n",
       "      <td>-6.885150</td>\n",
       "      <td>8.210456</td>\n",
       "      <td>1.911272</td>\n",
       "      <td>0.000000</td>\n",
       "      <td>78.340735</td>\n",
       "    </tr>\n",
       "    <tr>\n",
       "      <th>25%</th>\n",
       "      <td>0.000000</td>\n",
       "      <td>1.592714</td>\n",
       "      <td>18.921388</td>\n",
       "      <td>-1.026798</td>\n",
       "      <td>-0.872354</td>\n",
       "      <td>-0.909831</td>\n",
       "      <td>-0.971167</td>\n",
       "      <td>1.340450</td>\n",
       "      <td>-0.207833</td>\n",
       "      <td>91.056682</td>\n",
       "      <td>...</td>\n",
       "      <td>7.927605</td>\n",
       "      <td>2.211125</td>\n",
       "      <td>-0.982679</td>\n",
       "      <td>1.610899</td>\n",
       "      <td>2.943758</td>\n",
       "      <td>-1.190682</td>\n",
       "      <td>9.397548</td>\n",
       "      <td>8.665103</td>\n",
       "      <td>0.000000</td>\n",
       "      <td>96.516856</td>\n",
       "    </tr>\n",
       "    <tr>\n",
       "      <th>50%</th>\n",
       "      <td>0.000000</td>\n",
       "      <td>2.875892</td>\n",
       "      <td>20.005944</td>\n",
       "      <td>0.002263</td>\n",
       "      <td>0.008822</td>\n",
       "      <td>0.007335</td>\n",
       "      <td>0.002226</td>\n",
       "      <td>2.498876</td>\n",
       "      <td>0.486926</td>\n",
       "      <td>100.020965</td>\n",
       "      <td>...</td>\n",
       "      <td>9.931831</td>\n",
       "      <td>2.998776</td>\n",
       "      <td>0.005664</td>\n",
       "      <td>4.099763</td>\n",
       "      <td>3.912526</td>\n",
       "      <td>0.001523</td>\n",
       "      <td>10.358355</td>\n",
       "      <td>9.994318</td>\n",
       "      <td>0.000000</td>\n",
       "      <td>100.024977</td>\n",
       "    </tr>\n",
       "    <tr>\n",
       "      <th>75%</th>\n",
       "      <td>0.000000</td>\n",
       "      <td>4.270295</td>\n",
       "      <td>21.083465</td>\n",
       "      <td>1.043354</td>\n",
       "      <td>0.892467</td>\n",
       "      <td>0.926222</td>\n",
       "      <td>0.985023</td>\n",
       "      <td>3.827712</td>\n",
       "      <td>1.182994</td>\n",
       "      <td>109.025025</td>\n",
       "      <td>...</td>\n",
       "      <td>12.710543</td>\n",
       "      <td>3.786751</td>\n",
       "      <td>0.989632</td>\n",
       "      <td>6.113157</td>\n",
       "      <td>4.930563</td>\n",
       "      <td>1.248742</td>\n",
       "      <td>11.448559</td>\n",
       "      <td>11.342574</td>\n",
       "      <td>1.000000</td>\n",
       "      <td>103.558762</td>\n",
       "    </tr>\n",
       "    <tr>\n",
       "      <th>max</th>\n",
       "      <td>1.000000</td>\n",
       "      <td>13.837591</td>\n",
       "      <td>27.086468</td>\n",
       "      <td>5.150153</td>\n",
       "      <td>5.698128</td>\n",
       "      <td>5.639372</td>\n",
       "      <td>5.869889</td>\n",
       "      <td>18.006669</td>\n",
       "      <td>4.724186</td>\n",
       "      <td>148.784484</td>\n",
       "      <td>...</td>\n",
       "      <td>38.566041</td>\n",
       "      <td>7.130058</td>\n",
       "      <td>6.868747</td>\n",
       "      <td>16.734658</td>\n",
       "      <td>11.669024</td>\n",
       "      <td>7.631773</td>\n",
       "      <td>18.725468</td>\n",
       "      <td>17.861580</td>\n",
       "      <td>1.000000</td>\n",
       "      <td>122.406809</td>\n",
       "    </tr>\n",
       "  </tbody>\n",
       "</table>\n",
       "<p>8 rows × 89 columns</p>\n",
       "</div>"
      ],
      "text/plain": [
       "                  y            x1            x2            x4            x5  \\\n",
       "count  40000.000000  40000.000000  40000.000000  40000.000000  37572.000000   \n",
       "mean       0.145075      2.999958     20.004865      0.002950      0.005396   \n",
       "std        0.352181      1.994490      1.604291      1.462185      1.297952   \n",
       "min        0.000000     -3.648431     13.714945     -5.137161     -5.616412   \n",
       "25%        0.000000      1.592714     18.921388     -1.026798     -0.872354   \n",
       "50%        0.000000      2.875892     20.005944      0.002263      0.008822   \n",
       "75%        0.000000      4.270295     21.083465      1.043354      0.892467   \n",
       "max        1.000000     13.837591     27.086468      5.150153      5.698128   \n",
       "\n",
       "                 x6            x8            x9           x10           x11  \\\n",
       "count  40000.000000  40000.000000  40000.000000  40000.000000  34890.000000   \n",
       "mean       0.007234      0.004371      2.722334      0.490339    100.008988   \n",
       "std        1.358551      1.447223      1.966828      1.029863     13.343010   \n",
       "min       -6.113153     -6.376810     -3.143438     -3.538129     50.526543   \n",
       "25%       -0.909831     -0.971167      1.340450     -0.207833     91.056682   \n",
       "50%        0.007335      0.002226      2.498876      0.486926    100.020965   \n",
       "75%        0.926222      0.985023      3.827712      1.182994    109.025025   \n",
       "max        5.639372      5.869889     18.006669      4.724186    148.784484   \n",
       "\n",
       "       ...           x89           x90           x91           x92  \\\n",
       "count  ...  29309.000000  40000.000000  34741.000000  37565.000000   \n",
       "mean   ...     10.767838      3.000166      0.001636      4.002896   \n",
       "std    ...      3.732763      1.164411      1.468790      3.017420   \n",
       "min    ...      6.106024     -2.173310     -6.328126     -3.384399   \n",
       "25%    ...      7.927605      2.211125     -0.982679      1.610899   \n",
       "50%    ...      9.931831      2.998776      0.005664      4.099763   \n",
       "75%    ...     12.710543      3.786751      0.989632      6.113157   \n",
       "max    ...     38.566041      7.130058      6.868747     16.734658   \n",
       "\n",
       "                x94           x95           x96           x97           x98  \\\n",
       "count  37660.000000  27396.000000  33362.000000  40000.000000  40000.000000   \n",
       "mean       3.969385      0.031886     10.525530     10.002814      0.497650   \n",
       "std        1.473939      1.823091      1.437581      1.986984      0.500001   \n",
       "min       -1.663063     -6.885150      8.210456      1.911272      0.000000   \n",
       "25%        2.943758     -1.190682      9.397548      8.665103      0.000000   \n",
       "50%        3.912526      0.001523     10.358355      9.994318      0.000000   \n",
       "75%        4.930563      1.248742     11.448559     11.342574      1.000000   \n",
       "max       11.669024      7.631773     18.725468     17.861580      1.000000   \n",
       "\n",
       "               x100  \n",
       "count  40000.000000  \n",
       "mean     100.024743  \n",
       "std        5.247514  \n",
       "min       78.340735  \n",
       "25%       96.516856  \n",
       "50%      100.024977  \n",
       "75%      103.558762  \n",
       "max      122.406809  \n",
       "\n",
       "[8 rows x 89 columns]"
      ]
     },
     "execution_count": 9,
     "metadata": {},
     "output_type": "execute_result"
    }
   ],
   "source": [
    "df.describe()\n"
   ]
  },
  {
   "cell_type": "code",
   "execution_count": 10,
   "id": "642b6c72",
   "metadata": {},
   "outputs": [],
   "source": [
    "#Categorical and Numeric variable list\n",
    "category_list=[]\n",
    "num_list=[]\n",
    "for col in df.columns:\n",
    "    if df[col].dtype=='object':\n",
    "        category_list.append(col)\n",
    "    else:\n",
    "        num_list.append(col)\n",
    "        \n",
    "        \n",
    "        "
   ]
  },
  {
   "cell_type": "code",
   "execution_count": 11,
   "id": "17d3c5de",
   "metadata": {
    "scrolled": true
   },
   "outputs": [
    {
     "data": {
      "text/html": [
       "<div>\n",
       "<style scoped>\n",
       "    .dataframe tbody tr th:only-of-type {\n",
       "        vertical-align: middle;\n",
       "    }\n",
       "\n",
       "    .dataframe tbody tr th {\n",
       "        vertical-align: top;\n",
       "    }\n",
       "\n",
       "    .dataframe thead th {\n",
       "        text-align: right;\n",
       "    }\n",
       "</style>\n",
       "<table border=\"1\" class=\"dataframe\">\n",
       "  <thead>\n",
       "    <tr style=\"text-align: right;\">\n",
       "      <th></th>\n",
       "      <th>count</th>\n",
       "      <th>mean</th>\n",
       "      <th>std</th>\n",
       "      <th>min</th>\n",
       "      <th>25%</th>\n",
       "      <th>50%</th>\n",
       "      <th>75%</th>\n",
       "      <th>max</th>\n",
       "      <th>range</th>\n",
       "      <th>variation coefficient</th>\n",
       "      <th>skew</th>\n",
       "      <th>kurtosis</th>\n",
       "    </tr>\n",
       "  </thead>\n",
       "  <tbody>\n",
       "    <tr>\n",
       "      <th>y</th>\n",
       "      <td>40000.0</td>\n",
       "      <td>0.145075</td>\n",
       "      <td>0.352181</td>\n",
       "      <td>0.000000</td>\n",
       "      <td>0.000000</td>\n",
       "      <td>0.000000</td>\n",
       "      <td>0.000000</td>\n",
       "      <td>1.000000</td>\n",
       "      <td>1.000000</td>\n",
       "      <td>2.427578</td>\n",
       "      <td>2.015685</td>\n",
       "      <td>2.063088</td>\n",
       "    </tr>\n",
       "    <tr>\n",
       "      <th>x1</th>\n",
       "      <td>40000.0</td>\n",
       "      <td>2.999958</td>\n",
       "      <td>1.994490</td>\n",
       "      <td>-3.648431</td>\n",
       "      <td>1.592714</td>\n",
       "      <td>2.875892</td>\n",
       "      <td>4.270295</td>\n",
       "      <td>13.837591</td>\n",
       "      <td>17.486022</td>\n",
       "      <td>0.664839</td>\n",
       "      <td>0.382880</td>\n",
       "      <td>0.198652</td>\n",
       "    </tr>\n",
       "    <tr>\n",
       "      <th>x2</th>\n",
       "      <td>40000.0</td>\n",
       "      <td>20.004865</td>\n",
       "      <td>1.604291</td>\n",
       "      <td>13.714945</td>\n",
       "      <td>18.921388</td>\n",
       "      <td>20.005944</td>\n",
       "      <td>21.083465</td>\n",
       "      <td>27.086468</td>\n",
       "      <td>13.371523</td>\n",
       "      <td>0.080195</td>\n",
       "      <td>0.010218</td>\n",
       "      <td>-0.005302</td>\n",
       "    </tr>\n",
       "    <tr>\n",
       "      <th>x4</th>\n",
       "      <td>40000.0</td>\n",
       "      <td>0.002950</td>\n",
       "      <td>1.462185</td>\n",
       "      <td>-5.137161</td>\n",
       "      <td>-1.026798</td>\n",
       "      <td>0.002263</td>\n",
       "      <td>1.043354</td>\n",
       "      <td>5.150153</td>\n",
       "      <td>10.287314</td>\n",
       "      <td>495.650951</td>\n",
       "      <td>0.007023</td>\n",
       "      <td>-0.328269</td>\n",
       "    </tr>\n",
       "    <tr>\n",
       "      <th>x5</th>\n",
       "      <td>37572.0</td>\n",
       "      <td>0.005396</td>\n",
       "      <td>1.297952</td>\n",
       "      <td>-5.616412</td>\n",
       "      <td>-0.872354</td>\n",
       "      <td>0.008822</td>\n",
       "      <td>0.892467</td>\n",
       "      <td>5.698128</td>\n",
       "      <td>11.314540</td>\n",
       "      <td>240.536141</td>\n",
       "      <td>-0.005447</td>\n",
       "      <td>-0.001788</td>\n",
       "    </tr>\n",
       "    <tr>\n",
       "      <th>...</th>\n",
       "      <td>...</td>\n",
       "      <td>...</td>\n",
       "      <td>...</td>\n",
       "      <td>...</td>\n",
       "      <td>...</td>\n",
       "      <td>...</td>\n",
       "      <td>...</td>\n",
       "      <td>...</td>\n",
       "      <td>...</td>\n",
       "      <td>...</td>\n",
       "      <td>...</td>\n",
       "      <td>...</td>\n",
       "    </tr>\n",
       "    <tr>\n",
       "      <th>x95</th>\n",
       "      <td>27396.0</td>\n",
       "      <td>0.031886</td>\n",
       "      <td>1.823091</td>\n",
       "      <td>-6.885150</td>\n",
       "      <td>-1.190682</td>\n",
       "      <td>0.001523</td>\n",
       "      <td>1.248742</td>\n",
       "      <td>7.631773</td>\n",
       "      <td>14.516923</td>\n",
       "      <td>57.175635</td>\n",
       "      <td>0.049023</td>\n",
       "      <td>0.009103</td>\n",
       "    </tr>\n",
       "    <tr>\n",
       "      <th>x96</th>\n",
       "      <td>33362.0</td>\n",
       "      <td>10.525530</td>\n",
       "      <td>1.437581</td>\n",
       "      <td>8.210456</td>\n",
       "      <td>9.397548</td>\n",
       "      <td>10.358355</td>\n",
       "      <td>11.448559</td>\n",
       "      <td>18.725468</td>\n",
       "      <td>10.515012</td>\n",
       "      <td>0.136580</td>\n",
       "      <td>0.632746</td>\n",
       "      <td>0.118909</td>\n",
       "    </tr>\n",
       "    <tr>\n",
       "      <th>x97</th>\n",
       "      <td>40000.0</td>\n",
       "      <td>10.002814</td>\n",
       "      <td>1.986984</td>\n",
       "      <td>1.911272</td>\n",
       "      <td>8.665103</td>\n",
       "      <td>9.994318</td>\n",
       "      <td>11.342574</td>\n",
       "      <td>17.861580</td>\n",
       "      <td>15.950308</td>\n",
       "      <td>0.198642</td>\n",
       "      <td>0.019503</td>\n",
       "      <td>0.037706</td>\n",
       "    </tr>\n",
       "    <tr>\n",
       "      <th>x98</th>\n",
       "      <td>40000.0</td>\n",
       "      <td>0.497650</td>\n",
       "      <td>0.500001</td>\n",
       "      <td>0.000000</td>\n",
       "      <td>0.000000</td>\n",
       "      <td>0.000000</td>\n",
       "      <td>1.000000</td>\n",
       "      <td>1.000000</td>\n",
       "      <td>1.000000</td>\n",
       "      <td>1.004724</td>\n",
       "      <td>0.009400</td>\n",
       "      <td>-2.000012</td>\n",
       "    </tr>\n",
       "    <tr>\n",
       "      <th>x100</th>\n",
       "      <td>40000.0</td>\n",
       "      <td>100.024743</td>\n",
       "      <td>5.247514</td>\n",
       "      <td>78.340735</td>\n",
       "      <td>96.516856</td>\n",
       "      <td>100.024977</td>\n",
       "      <td>103.558762</td>\n",
       "      <td>122.406809</td>\n",
       "      <td>44.066074</td>\n",
       "      <td>0.052462</td>\n",
       "      <td>-0.010159</td>\n",
       "      <td>0.013053</td>\n",
       "    </tr>\n",
       "  </tbody>\n",
       "</table>\n",
       "<p>89 rows × 12 columns</p>\n",
       "</div>"
      ],
      "text/plain": [
       "        count        mean       std        min        25%         50%  \\\n",
       "y     40000.0    0.145075  0.352181   0.000000   0.000000    0.000000   \n",
       "x1    40000.0    2.999958  1.994490  -3.648431   1.592714    2.875892   \n",
       "x2    40000.0   20.004865  1.604291  13.714945  18.921388   20.005944   \n",
       "x4    40000.0    0.002950  1.462185  -5.137161  -1.026798    0.002263   \n",
       "x5    37572.0    0.005396  1.297952  -5.616412  -0.872354    0.008822   \n",
       "...       ...         ...       ...        ...        ...         ...   \n",
       "x95   27396.0    0.031886  1.823091  -6.885150  -1.190682    0.001523   \n",
       "x96   33362.0   10.525530  1.437581   8.210456   9.397548   10.358355   \n",
       "x97   40000.0   10.002814  1.986984   1.911272   8.665103    9.994318   \n",
       "x98   40000.0    0.497650  0.500001   0.000000   0.000000    0.000000   \n",
       "x100  40000.0  100.024743  5.247514  78.340735  96.516856  100.024977   \n",
       "\n",
       "             75%         max      range  variation coefficient      skew  \\\n",
       "y       0.000000    1.000000   1.000000               2.427578  2.015685   \n",
       "x1      4.270295   13.837591  17.486022               0.664839  0.382880   \n",
       "x2     21.083465   27.086468  13.371523               0.080195  0.010218   \n",
       "x4      1.043354    5.150153  10.287314             495.650951  0.007023   \n",
       "x5      0.892467    5.698128  11.314540             240.536141 -0.005447   \n",
       "...          ...         ...        ...                    ...       ...   \n",
       "x95     1.248742    7.631773  14.516923              57.175635  0.049023   \n",
       "x96    11.448559   18.725468  10.515012               0.136580  0.632746   \n",
       "x97    11.342574   17.861580  15.950308               0.198642  0.019503   \n",
       "x98     1.000000    1.000000   1.000000               1.004724  0.009400   \n",
       "x100  103.558762  122.406809  44.066074               0.052462 -0.010159   \n",
       "\n",
       "      kurtosis  \n",
       "y     2.063088  \n",
       "x1    0.198652  \n",
       "x2   -0.005302  \n",
       "x4   -0.328269  \n",
       "x5   -0.001788  \n",
       "...        ...  \n",
       "x95   0.009103  \n",
       "x96   0.118909  \n",
       "x97   0.037706  \n",
       "x98  -2.000012  \n",
       "x100  0.013053  \n",
       "\n",
       "[89 rows x 12 columns]"
      ]
     },
     "execution_count": 11,
     "metadata": {},
     "output_type": "execute_result"
    }
   ],
   "source": [
    "num_var=df[num_list]\n",
    "\n",
    "describe = num_var.describe().T\n",
    "describe['range'] = (num_var.max() - num_var.min()).tolist()\n",
    "describe['variation coefficient'] = (num_var.std() / num_var.mean()).tolist()\n",
    "describe['skew'] = num_var.skew().tolist()\n",
    "describe['kurtosis'] = num_var.kurtosis().tolist()\n",
    "describe"
   ]
  },
  {
   "cell_type": "code",
   "execution_count": 12,
   "id": "1564138d",
   "metadata": {},
   "outputs": [
    {
     "data": {
      "text/plain": [
       "0"
      ]
     },
     "execution_count": 12,
     "metadata": {},
     "output_type": "execute_result"
    }
   ],
   "source": [
    "#Check for duplicate rows\n",
    "df.duplicated().sum()"
   ]
  },
  {
   "cell_type": "code",
   "execution_count": 13,
   "id": "ca8c4c0c",
   "metadata": {},
   "outputs": [
    {
     "data": {
      "text/plain": [
       "373613"
      ]
     },
     "execution_count": 13,
     "metadata": {},
     "output_type": "execute_result"
    }
   ],
   "source": [
    "# Check for null Values\n",
    "df.isnull().sum().sum()"
   ]
  },
  {
   "cell_type": "code",
   "execution_count": null,
   "id": "a1cb11a2",
   "metadata": {},
   "outputs": [],
   "source": []
  },
  {
   "cell_type": "markdown",
   "id": "20f3bd6f",
   "metadata": {},
   "source": [
    "# Data cleaning and evaluation"
   ]
  },
  {
   "cell_type": "markdown",
   "id": "bc0c0e6f",
   "metadata": {},
   "source": [
    "### Null Value Columns analysis "
   ]
  },
  {
   "cell_type": "code",
   "execution_count": 14,
   "id": "d40fef67",
   "metadata": {},
   "outputs": [
    {
     "name": "stdout",
     "output_type": "stream",
     "text": [
      "float64 ---> x5 = 2428 and percent 6.07 %\n",
      "float64 ---> x11 = 5110 and percent 12.78 %\n",
      "float64 ---> x14 = 9864 and percent 24.66 %\n",
      "float64 ---> x16 = 11212 and percent 28.03 %\n",
      "float64 ---> x22 = 2387 and percent 5.97 %\n",
      "object ---> x24 = 3856 and percent 9.64 %\n",
      "float64 ---> x26 = 2433 and percent 6.08 %\n",
      "float64 ---> x30 = 32336 and percent 80.84 %\n",
      "object ---> x33 = 7171 and percent 17.93 %\n",
      "float64 ---> x38 = 2402 and percent 6.0 %\n",
      "float64 ---> x41 = 9503 and percent 23.76 %\n",
      "float64 ---> x42 = 9729 and percent 24.32 %\n",
      "float64 ---> x44 = 34247 and percent 85.62 %\n",
      "float64 ---> x45 = 8009 and percent 20.02 %\n",
      "float64 ---> x49 = 12823 and percent 32.06 %\n",
      "float64 ---> x52 = 16182 and percent 40.46 %\n",
      "float64 ---> x54 = 12728 and percent 31.82 %\n",
      "float64 ---> x55 = 17696 and percent 44.24 %\n",
      "float64 ---> x57 = 32464 and percent 81.16 %\n",
      "float64 ---> x61 = 7293 and percent 18.23 %\n",
      "float64 ---> x63 = 2420 and percent 6.05 %\n",
      "float64 ---> x64 = 5101 and percent 12.75 %\n",
      "float64 ---> x67 = 2425 and percent 6.06 %\n",
      "float64 ---> x68 = 2384 and percent 5.96 %\n",
      "float64 ---> x74 = 12916 and percent 32.29 %\n",
      "float64 ---> x75 = 5245 and percent 13.11 %\n",
      "float64 ---> x76 = 5249 and percent 13.12 %\n",
      "object ---> x77 = 9257 and percent 23.14 %\n",
      "float64 ---> x78 = 11373 and percent 28.43 %\n",
      "float64 ---> x79 = 2430 and percent 6.08 %\n",
      "float64 ---> x80 = 5256 and percent 13.14 %\n",
      "float64 ---> x83 = 2428 and percent 6.07 %\n",
      "float64 ---> x85 = 9715 and percent 24.29 %\n",
      "float64 ---> x86 = 2407 and percent 6.02 %\n",
      "float64 ---> x88 = 2331 and percent 5.83 %\n",
      "float64 ---> x89 = 10691 and percent 26.73 %\n",
      "float64 ---> x91 = 5259 and percent 13.15 %\n",
      "float64 ---> x92 = 2435 and percent 6.09 %\n",
      "float64 ---> x94 = 2340 and percent 5.85 %\n",
      "float64 ---> x95 = 12604 and percent 31.51 %\n",
      "float64 ---> x96 = 6638 and percent 16.6 %\n",
      "object ---> x99 = 12836 and percent 32.09 %\n"
     ]
    }
   ],
   "source": [
    "cols=df.columns[df.isna().any()]\n",
    "for col in cols:\n",
    "    miss_val=df[col].isnull().sum()\n",
    "    per_val=miss_val/len(df[col])\n",
    "    if per_val*100>0:\n",
    "        print( df[col].dtype, '--->',col,\"=\", miss_val , \"and percent\" ,round(per_val*100,2),\"%\" )\n",
    "    "
   ]
  },
  {
   "cell_type": "code",
   "execution_count": 15,
   "id": "1374be48",
   "metadata": {},
   "outputs": [],
   "source": [
    "# above 60% missing data in x30, x44,x57--drop the columns\n",
    "#df.drop(['x30','x44','x57'], axis=1, inplace=True)"
   ]
  },
  {
   "cell_type": "code",
   "execution_count": 16,
   "id": "55ee6c1b",
   "metadata": {},
   "outputs": [
    {
     "data": {
      "text/plain": [
       "Index(['x5', 'x11', 'x14', 'x16', 'x22', 'x24', 'x26', 'x30', 'x33', 'x38',\n",
       "       'x41', 'x42', 'x44', 'x45', 'x49', 'x52', 'x54', 'x55', 'x57', 'x61',\n",
       "       'x63', 'x64', 'x67', 'x68', 'x74', 'x75', 'x76', 'x77', 'x78', 'x79',\n",
       "       'x80', 'x83', 'x85', 'x86', 'x88', 'x89', 'x91', 'x92', 'x94', 'x95',\n",
       "       'x96', 'x99'],\n",
       "      dtype='object')"
      ]
     },
     "execution_count": 16,
     "metadata": {},
     "output_type": "execute_result"
    }
   ],
   "source": [
    "df.columns[df.isna().any()]"
   ]
  },
  {
   "cell_type": "code",
   "execution_count": 17,
   "id": "1aaa0e41",
   "metadata": {},
   "outputs": [
    {
     "data": {
      "text/plain": [
       "float64    86\n",
       "object     12\n",
       "int64       3\n",
       "dtype: int64"
      ]
     },
     "execution_count": 17,
     "metadata": {},
     "output_type": "execute_result"
    }
   ],
   "source": [
    "df.dtypes.value_counts()"
   ]
  },
  {
   "cell_type": "markdown",
   "id": "2a52d47b",
   "metadata": {},
   "source": [
    "#### Categorical Variables"
   ]
  },
  {
   "cell_type": "code",
   "execution_count": 18,
   "id": "faff4f0f",
   "metadata": {},
   "outputs": [
    {
     "data": {
      "text/plain": [
       "x3        14\n",
       "x7       663\n",
       "x19    40000\n",
       "x24        2\n",
       "x31        2\n",
       "x33       51\n",
       "x39        1\n",
       "x60       12\n",
       "x65        5\n",
       "x77        7\n",
       "x93        2\n",
       "x99        1\n",
       "dtype: int64"
      ]
     },
     "execution_count": 18,
     "metadata": {},
     "output_type": "execute_result"
    }
   ],
   "source": [
    "df_cat=df.select_dtypes(include=['object'])\n",
    "df_cat.nunique()"
   ]
  },
  {
   "cell_type": "code",
   "execution_count": 19,
   "id": "6e4b8b99",
   "metadata": {
    "scrolled": true
   },
   "outputs": [
    {
     "data": {
      "text/html": [
       "<div>\n",
       "<style scoped>\n",
       "    .dataframe tbody tr th:only-of-type {\n",
       "        vertical-align: middle;\n",
       "    }\n",
       "\n",
       "    .dataframe tbody tr th {\n",
       "        vertical-align: top;\n",
       "    }\n",
       "\n",
       "    .dataframe thead th {\n",
       "        text-align: right;\n",
       "    }\n",
       "</style>\n",
       "<table border=\"1\" class=\"dataframe\">\n",
       "  <thead>\n",
       "    <tr style=\"text-align: right;\">\n",
       "      <th></th>\n",
       "      <th>x3</th>\n",
       "      <th>x7</th>\n",
       "      <th>x19</th>\n",
       "      <th>x24</th>\n",
       "      <th>x31</th>\n",
       "      <th>x33</th>\n",
       "      <th>x39</th>\n",
       "      <th>x60</th>\n",
       "      <th>x65</th>\n",
       "      <th>x77</th>\n",
       "      <th>x93</th>\n",
       "      <th>x99</th>\n",
       "    </tr>\n",
       "  </thead>\n",
       "  <tbody>\n",
       "    <tr>\n",
       "      <th>0</th>\n",
       "      <td>Wed</td>\n",
       "      <td>0.0062%</td>\n",
       "      <td>$-908.650758424405</td>\n",
       "      <td>female</td>\n",
       "      <td>no</td>\n",
       "      <td>Colorado</td>\n",
       "      <td>5-10 miles</td>\n",
       "      <td>August</td>\n",
       "      <td>farmers</td>\n",
       "      <td>mercedes</td>\n",
       "      <td>no</td>\n",
       "      <td>yes</td>\n",
       "    </tr>\n",
       "    <tr>\n",
       "      <th>1</th>\n",
       "      <td>Friday</td>\n",
       "      <td>0.0064%</td>\n",
       "      <td>$-1864.9622875143</td>\n",
       "      <td>male</td>\n",
       "      <td>no</td>\n",
       "      <td>Tennessee</td>\n",
       "      <td>5-10 miles</td>\n",
       "      <td>April</td>\n",
       "      <td>allstate</td>\n",
       "      <td>mercedes</td>\n",
       "      <td>no</td>\n",
       "      <td>yes</td>\n",
       "    </tr>\n",
       "    <tr>\n",
       "      <th>2</th>\n",
       "      <td>Thursday</td>\n",
       "      <td>-8e-04%</td>\n",
       "      <td>$-543.187402955527</td>\n",
       "      <td>male</td>\n",
       "      <td>no</td>\n",
       "      <td>Texas</td>\n",
       "      <td>5-10 miles</td>\n",
       "      <td>September</td>\n",
       "      <td>geico</td>\n",
       "      <td>subaru</td>\n",
       "      <td>no</td>\n",
       "      <td>yes</td>\n",
       "    </tr>\n",
       "    <tr>\n",
       "      <th>3</th>\n",
       "      <td>Tuesday</td>\n",
       "      <td>-0.0057%</td>\n",
       "      <td>$-182.626380634258</td>\n",
       "      <td>male</td>\n",
       "      <td>no</td>\n",
       "      <td>Minnesota</td>\n",
       "      <td>5-10 miles</td>\n",
       "      <td>September</td>\n",
       "      <td>geico</td>\n",
       "      <td>nissan</td>\n",
       "      <td>no</td>\n",
       "      <td>yes</td>\n",
       "    </tr>\n",
       "    <tr>\n",
       "      <th>4</th>\n",
       "      <td>Sunday</td>\n",
       "      <td>0.0109%</td>\n",
       "      <td>$967.007090837503</td>\n",
       "      <td>male</td>\n",
       "      <td>yes</td>\n",
       "      <td>New York</td>\n",
       "      <td>5-10 miles</td>\n",
       "      <td>January</td>\n",
       "      <td>geico</td>\n",
       "      <td>toyota</td>\n",
       "      <td>yes</td>\n",
       "      <td>yes</td>\n",
       "    </tr>\n",
       "  </tbody>\n",
       "</table>\n",
       "</div>"
      ],
      "text/plain": [
       "         x3        x7                 x19     x24  x31        x33         x39  \\\n",
       "0       Wed   0.0062%  $-908.650758424405  female   no   Colorado  5-10 miles   \n",
       "1    Friday   0.0064%   $-1864.9622875143    male   no  Tennessee  5-10 miles   \n",
       "2  Thursday   -8e-04%  $-543.187402955527    male   no      Texas  5-10 miles   \n",
       "3   Tuesday  -0.0057%  $-182.626380634258    male   no  Minnesota  5-10 miles   \n",
       "4    Sunday   0.0109%   $967.007090837503    male  yes   New York  5-10 miles   \n",
       "\n",
       "         x60       x65       x77  x93  x99  \n",
       "0     August   farmers  mercedes   no  yes  \n",
       "1      April  allstate  mercedes   no  yes  \n",
       "2  September     geico    subaru   no  yes  \n",
       "3  September     geico    nissan   no  yes  \n",
       "4    January     geico    toyota  yes  yes  "
      ]
     },
     "execution_count": 19,
     "metadata": {},
     "output_type": "execute_result"
    }
   ],
   "source": [
    "df_cat.head()"
   ]
  },
  {
   "cell_type": "code",
   "execution_count": 20,
   "id": "7e38d146",
   "metadata": {},
   "outputs": [
    {
     "data": {
      "text/plain": [
       "Index(['x24', 'x33', 'x77', 'x99'], dtype='object')"
      ]
     },
     "execution_count": 20,
     "metadata": {},
     "output_type": "execute_result"
    }
   ],
   "source": [
    "df_cat.columns[df_cat.isna().any()]"
   ]
  },
  {
   "cell_type": "code",
   "execution_count": 21,
   "id": "a7400290",
   "metadata": {},
   "outputs": [
    {
     "data": {
      "text/plain": [
       "Wednesday    12.3250\n",
       "Monday       10.3600\n",
       "Friday        9.9375\n",
       "Tuesday       9.7875\n",
       "Sunday        9.0250\n",
       "Saturday      8.9900\n",
       "Tue           7.3700\n",
       "Thursday      6.9775\n",
       "Mon           5.5000\n",
       "Wed           5.1075\n",
       "Sat           4.4675\n",
       "Thur          4.1075\n",
       "Fri           4.0500\n",
       "Sun           1.9950\n",
       "Name: x3, dtype: float64"
      ]
     },
     "execution_count": 21,
     "metadata": {},
     "output_type": "execute_result"
    }
   ],
   "source": [
    "df_cat['x3'].value_counts(dropna=False, normalize=True)*100\n",
    "#Need to merge same day in different format"
   ]
  },
  {
   "cell_type": "code",
   "execution_count": 22,
   "id": "d12ab321",
   "metadata": {},
   "outputs": [],
   "source": [
    "#DF map/ replace Mon, Tue etc., to Monday, Tuesday \n",
    "#df['x3']=df['x3'].replace(['Mon','Tue', 'Wed','Thur','Fri','Sat','Sun'],['Monday','Tuesday','Wednesday','Thursday','Friday','Saturday',\n",
    "#                            'Sunday'])"
   ]
  },
  {
   "cell_type": "code",
   "execution_count": 23,
   "id": "0a1d8145",
   "metadata": {},
   "outputs": [
    {
     "data": {
      "text/plain": [
       "array(['0.0062%', '0.0064%', '-8e-04%', '-0.0057%', '0.0109%', '0.0079%',\n",
       "       '0.0174%', '-0.0106%', '0.0032%', '0.0091%', '-0.0052%',\n",
       "       '-0.0025%', '-0.0045%', '0.0068%', '-0.0137%', '-0.0014%',\n",
       "       '-0.0013%', '0.0066%', '0.0097%', '-0.0086%'], dtype=object)"
      ]
     },
     "execution_count": 23,
     "metadata": {},
     "output_type": "execute_result"
    }
   ],
   "source": [
    "df_cat['x7'].unique()[:20]\n",
    "# remove ''%'' and convert the column to float"
   ]
  },
  {
   "cell_type": "code",
   "execution_count": 24,
   "id": "4db76db4",
   "metadata": {},
   "outputs": [],
   "source": [
    "#df['x7']= df['x7'].str.replace('%', \"\").astype('float64')"
   ]
  },
  {
   "cell_type": "code",
   "execution_count": 25,
   "id": "e3aa17e6",
   "metadata": {},
   "outputs": [
    {
     "data": {
      "text/plain": [
       "array(['$-908.650758424405', '$-1864.9622875143', '$-543.187402955527',\n",
       "       ..., '$834.95775080472', '$-48.1031003332715', '$96.0017151741518'],\n",
       "      dtype=object)"
      ]
     },
     "execution_count": 25,
     "metadata": {},
     "output_type": "execute_result"
    }
   ],
   "source": [
    "df_cat['x19'].unique()\n",
    "# remove '$' and convert the column to float"
   ]
  },
  {
   "cell_type": "code",
   "execution_count": 26,
   "id": "375e82bd",
   "metadata": {},
   "outputs": [],
   "source": [
    "#df['x19']= df['x19'].str.replace('$', \"\").astype('float64')"
   ]
  },
  {
   "cell_type": "code",
   "execution_count": 27,
   "id": "67095628",
   "metadata": {},
   "outputs": [
    {
     "data": {
      "text/plain": [
       "array(['female', 'male', nan], dtype=object)"
      ]
     },
     "execution_count": 27,
     "metadata": {},
     "output_type": "execute_result"
    }
   ],
   "source": [
    "df_cat['x24'].unique()"
   ]
  },
  {
   "cell_type": "code",
   "execution_count": 28,
   "id": "7cc19ac5",
   "metadata": {},
   "outputs": [
    {
     "name": "stdout",
     "output_type": "stream",
     "text": [
      "female    45.395\n",
      "male      44.965\n",
      "NaN        9.640\n",
      "Name: x24, dtype: float64\n"
     ]
    },
    {
     "data": {
      "image/png": "[encoded data removed]",
      "text/plain": [
       "<Figure size 432x288 with 1 Axes>"
      ]
     },
     "metadata": {
      "needs_background": "light"
     },
     "output_type": "display_data"
    }
   ],
   "source": [
    "sns.countplot(data=df_cat, x=\"x24\")\n",
    "print(df_cat['x24'].value_counts(dropna=False, normalize=True)*100)\n",
    "# need to imput/fill NaN values and apply OneHotEncoding "
   ]
  },
  {
   "cell_type": "code",
   "execution_count": 29,
   "id": "dcb8b5d9",
   "metadata": {},
   "outputs": [],
   "source": [
    "# gender=df['x24'].mode()\n",
    "# df[\"x24\"]=df[\"x24\"].fillna(gender)"
   ]
  },
  {
   "cell_type": "code",
   "execution_count": 30,
   "id": "5b2713e2",
   "metadata": {},
   "outputs": [],
   "source": [
    "# df_cat['x31'].value_counts(dropna=False, normalize=True)*100\n",
    "# #need to apply OneHotEncoding"
   ]
  },
  {
   "cell_type": "code",
   "execution_count": 31,
   "id": "702b3e0e",
   "metadata": {
    "scrolled": false
   },
   "outputs": [
    {
     "data": {
      "text/plain": [
       "NaN               17.9275\n",
       "California         8.4825\n",
       "Texas              5.6300\n",
       "Florida            4.5050\n",
       "New York           4.2850\n",
       "Illinois           3.1000\n",
       "Pennsylvania       3.0825\n",
       "Ohio               2.7850\n",
       "Michigan           2.4550\n",
       "Georgia            2.2950\n",
       "North Carolina     2.2750\n",
       "New Jersey         2.1750\n",
       "Virginia           1.9775\n",
       "Washington         1.8750\n",
       "Tennessee          1.7250\n",
       "Indiana            1.6850\n",
       "Arizona            1.6625\n",
       "Massachusetts      1.5950\n",
       "Wisconsin          1.5875\n",
       "Missouri           1.5850\n",
       "Minnesota          1.5275\n",
       "Maryland           1.4525\n",
       "Alabama            1.3850\n",
       "Colorado           1.3250\n",
       "Louisiana          1.2525\n",
       "South Carolina     1.2275\n",
       "Kentucky           1.1950\n",
       "Oregon             1.1300\n",
       "Connecticut        1.0550\n",
       "Oklahoma           0.9925\n",
       "Kansas             0.9450\n",
       "Nevada             0.9325\n",
       "Utah               0.9250\n",
       "Mississippi        0.9025\n",
       "Iowa               0.8825\n",
       "Arkansas           0.8650\n",
       "New Mexico         0.8325\n",
       "Nebraska           0.8075\n",
       "West Virginia      0.7625\n",
       "Hawaii             0.7050\n",
       "Idaho              0.6925\n",
       "Maine              0.6175\n",
       "Rhode Island       0.6150\n",
       "New Hampshire      0.5775\n",
       "Montana            0.4875\n",
       "Vermont            0.4875\n",
       "Wyoming            0.4725\n",
       "DC                 0.4650\n",
       "South Dakota       0.4575\n",
       "North Dakota       0.4525\n",
       "Delaware           0.4425\n",
       "Alaska             0.4400\n",
       "Name: x33, dtype: float64"
      ]
     },
     "execution_count": 31,
     "metadata": {},
     "output_type": "execute_result"
    }
   ],
   "source": [
    "df_cat['x33'].value_counts(dropna=False, normalize=True)*100\n",
    "# need to imput/fill NaN values and apply OneHotEncoding "
   ]
  },
  {
   "cell_type": "code",
   "execution_count": 32,
   "id": "18300187",
   "metadata": {},
   "outputs": [
    {
     "data": {
      "image/png": "[encoded data removed]",
      "text/plain": [
       "<Figure size 1440x1080 with 1 Axes>"
      ]
     },
     "metadata": {
      "needs_background": "light"
     },
     "output_type": "display_data"
    }
   ],
   "source": [
    "plt.figure(figsize=(20,15))\n",
    "chart=sns.countplot(data=df_cat, x=\"x33\")\n",
    "chart.set_xticklabels(chart.get_xticklabels(),rotation=90)\n",
    "plt.show()"
   ]
  },
  {
   "cell_type": "code",
   "execution_count": 33,
   "id": "676046e9",
   "metadata": {},
   "outputs": [
    {
     "data": {
      "text/plain": [
       "5-10 miles    100.0\n",
       "Name: x39, dtype: float64"
      ]
     },
     "execution_count": 33,
     "metadata": {},
     "output_type": "execute_result"
    }
   ],
   "source": [
    "df_cat['x39'].value_counts(dropna=False, normalize=True)*100\n",
    "# no variance- drop this column "
   ]
  },
  {
   "cell_type": "code",
   "execution_count": 34,
   "id": "8bee447f",
   "metadata": {},
   "outputs": [
    {
     "data": {
      "text/plain": [
       "December     20.3400\n",
       "January      19.8050\n",
       "July         19.7800\n",
       "August       19.7675\n",
       "June          3.1800\n",
       "September     3.1125\n",
       "February      3.0325\n",
       "November      2.6075\n",
       "April         2.3775\n",
       "March         2.0175\n",
       "May           1.9975\n",
       "October       1.9825\n",
       "Name: x60, dtype: float64"
      ]
     },
     "execution_count": 34,
     "metadata": {},
     "output_type": "execute_result"
    }
   ],
   "source": [
    "df_cat['x60'].value_counts(dropna=False, normalize=True)*100\n",
    "# need to apply OneHotEncoding "
   ]
  },
  {
   "cell_type": "code",
   "execution_count": 35,
   "id": "860018da",
   "metadata": {},
   "outputs": [
    {
     "data": {
      "text/plain": [
       "progressive    27.1925\n",
       "allstate       27.1475\n",
       "esurance       17.8600\n",
       "farmers        14.0000\n",
       "geico          13.8000\n",
       "Name: x65, dtype: float64"
      ]
     },
     "execution_count": 35,
     "metadata": {},
     "output_type": "execute_result"
    }
   ],
   "source": [
    "df_cat['x65'].value_counts(dropna=False, normalize=True)*100\n",
    "# need to apply OneHotEncoding "
   ]
  },
  {
   "cell_type": "code",
   "execution_count": 36,
   "id": "b70720e5",
   "metadata": {},
   "outputs": [
    {
     "data": {
      "text/plain": [
       "NaN          23.1425\n",
       "ford         22.5125\n",
       "subaru       12.6175\n",
       "chevrolet    12.5275\n",
       "mercedes     11.2350\n",
       "toyota        8.8875\n",
       "nissan        6.4375\n",
       "buick         2.6400\n",
       "Name: x77, dtype: float64"
      ]
     },
     "execution_count": 36,
     "metadata": {},
     "output_type": "execute_result"
    }
   ],
   "source": [
    "df_cat['x77'].value_counts(dropna=False, normalize=True)*100\n",
    "# need to impute/fill NaN and apply OneHotEncoding "
   ]
  },
  {
   "cell_type": "code",
   "execution_count": 37,
   "id": "222407c2",
   "metadata": {},
   "outputs": [
    {
     "data": {
      "text/plain": [
       "no     88.765\n",
       "yes    11.235\n",
       "Name: x93, dtype: float64"
      ]
     },
     "execution_count": 37,
     "metadata": {},
     "output_type": "execute_result"
    }
   ],
   "source": [
    "df_cat['x93'].value_counts(dropna=False, normalize=True)*100\n",
    "# need to apply OneHotEncoding "
   ]
  },
  {
   "cell_type": "code",
   "execution_count": 38,
   "id": "93c8ee14",
   "metadata": {},
   "outputs": [
    {
     "data": {
      "text/plain": [
       "array(['yes', nan], dtype=object)"
      ]
     },
     "execution_count": 38,
     "metadata": {},
     "output_type": "execute_result"
    }
   ],
   "source": [
    "df_cat['x99'].unique()\n"
   ]
  },
  {
   "cell_type": "code",
   "execution_count": 39,
   "id": "443d246e",
   "metadata": {},
   "outputs": [
    {
     "data": {
      "text/plain": [
       "yes    67.91\n",
       "NaN    32.09\n",
       "Name: x99, dtype: float64"
      ]
     },
     "execution_count": 39,
     "metadata": {},
     "output_type": "execute_result"
    }
   ],
   "source": [
    "df_cat['x99'].value_counts(dropna=False, normalize=True)*100\n",
    "# not useful for analysis as no variation in column"
   ]
  },
  {
   "cell_type": "markdown",
   "id": "f9068fd8",
   "metadata": {},
   "source": [
    "# # Numeric Variables "
   ]
  },
  {
   "cell_type": "code",
   "execution_count": 40,
   "id": "f4584652",
   "metadata": {},
   "outputs": [
    {
     "data": {
      "text/html": [
       "<div>\n",
       "<style scoped>\n",
       "    .dataframe tbody tr th:only-of-type {\n",
       "        vertical-align: middle;\n",
       "    }\n",
       "\n",
       "    .dataframe tbody tr th {\n",
       "        vertical-align: top;\n",
       "    }\n",
       "\n",
       "    .dataframe thead th {\n",
       "        text-align: right;\n",
       "    }\n",
       "</style>\n",
       "<table border=\"1\" class=\"dataframe\">\n",
       "  <thead>\n",
       "    <tr style=\"text-align: right;\">\n",
       "      <th></th>\n",
       "      <th>y</th>\n",
       "      <th>x1</th>\n",
       "      <th>x2</th>\n",
       "      <th>x4</th>\n",
       "      <th>x5</th>\n",
       "      <th>x6</th>\n",
       "      <th>x8</th>\n",
       "      <th>x9</th>\n",
       "      <th>x10</th>\n",
       "      <th>x11</th>\n",
       "      <th>...</th>\n",
       "      <th>x89</th>\n",
       "      <th>x90</th>\n",
       "      <th>x91</th>\n",
       "      <th>x92</th>\n",
       "      <th>x94</th>\n",
       "      <th>x95</th>\n",
       "      <th>x96</th>\n",
       "      <th>x97</th>\n",
       "      <th>x98</th>\n",
       "      <th>x100</th>\n",
       "    </tr>\n",
       "  </thead>\n",
       "  <tbody>\n",
       "    <tr>\n",
       "      <th>0</th>\n",
       "      <td>0</td>\n",
       "      <td>0.165254</td>\n",
       "      <td>18.060003</td>\n",
       "      <td>1.077380</td>\n",
       "      <td>-1.339233</td>\n",
       "      <td>-1.584341</td>\n",
       "      <td>0.220784</td>\n",
       "      <td>1.816481</td>\n",
       "      <td>1.171788</td>\n",
       "      <td>109.626841</td>\n",
       "      <td>...</td>\n",
       "      <td>10.602395</td>\n",
       "      <td>2.770844</td>\n",
       "      <td>-0.397427</td>\n",
       "      <td>0.909479</td>\n",
       "      <td>5.492487</td>\n",
       "      <td>NaN</td>\n",
       "      <td>10.255579</td>\n",
       "      <td>7.627730</td>\n",
       "      <td>0</td>\n",
       "      <td>104.251338</td>\n",
       "    </tr>\n",
       "    <tr>\n",
       "      <th>1</th>\n",
       "      <td>1</td>\n",
       "      <td>2.441471</td>\n",
       "      <td>18.416307</td>\n",
       "      <td>1.482586</td>\n",
       "      <td>0.920817</td>\n",
       "      <td>-0.759931</td>\n",
       "      <td>1.192441</td>\n",
       "      <td>3.513950</td>\n",
       "      <td>1.419900</td>\n",
       "      <td>84.079367</td>\n",
       "      <td>...</td>\n",
       "      <td>10.408146</td>\n",
       "      <td>3.703013</td>\n",
       "      <td>0.656651</td>\n",
       "      <td>9.093466</td>\n",
       "      <td>3.346429</td>\n",
       "      <td>4.321172</td>\n",
       "      <td>NaN</td>\n",
       "      <td>10.505284</td>\n",
       "      <td>1</td>\n",
       "      <td>101.230645</td>\n",
       "    </tr>\n",
       "    <tr>\n",
       "      <th>2</th>\n",
       "      <td>1</td>\n",
       "      <td>4.427278</td>\n",
       "      <td>19.188092</td>\n",
       "      <td>0.145652</td>\n",
       "      <td>0.366093</td>\n",
       "      <td>0.709962</td>\n",
       "      <td>0.952323</td>\n",
       "      <td>0.782974</td>\n",
       "      <td>-1.247022</td>\n",
       "      <td>95.375221</td>\n",
       "      <td>...</td>\n",
       "      <td>NaN</td>\n",
       "      <td>3.997183</td>\n",
       "      <td>2.059615</td>\n",
       "      <td>0.305170</td>\n",
       "      <td>4.456565</td>\n",
       "      <td>NaN</td>\n",
       "      <td>8.754572</td>\n",
       "      <td>7.810979</td>\n",
       "      <td>0</td>\n",
       "      <td>109.345215</td>\n",
       "    </tr>\n",
       "    <tr>\n",
       "      <th>3</th>\n",
       "      <td>0</td>\n",
       "      <td>3.925235</td>\n",
       "      <td>19.901257</td>\n",
       "      <td>1.763602</td>\n",
       "      <td>-0.251926</td>\n",
       "      <td>-0.827461</td>\n",
       "      <td>-0.520756</td>\n",
       "      <td>1.825586</td>\n",
       "      <td>2.223038</td>\n",
       "      <td>96.420382</td>\n",
       "      <td>...</td>\n",
       "      <td>NaN</td>\n",
       "      <td>2.933707</td>\n",
       "      <td>0.899392</td>\n",
       "      <td>5.971782</td>\n",
       "      <td>4.100022</td>\n",
       "      <td>1.151085</td>\n",
       "      <td>NaN</td>\n",
       "      <td>9.178325</td>\n",
       "      <td>1</td>\n",
       "      <td>103.021970</td>\n",
       "    </tr>\n",
       "    <tr>\n",
       "      <th>4</th>\n",
       "      <td>0</td>\n",
       "      <td>2.868802</td>\n",
       "      <td>22.202473</td>\n",
       "      <td>3.405119</td>\n",
       "      <td>0.083162</td>\n",
       "      <td>1.381504</td>\n",
       "      <td>-0.732739</td>\n",
       "      <td>2.151990</td>\n",
       "      <td>-0.275406</td>\n",
       "      <td>90.769952</td>\n",
       "      <td>...</td>\n",
       "      <td>NaN</td>\n",
       "      <td>2.922302</td>\n",
       "      <td>3.003595</td>\n",
       "      <td>1.046096</td>\n",
       "      <td>3.234033</td>\n",
       "      <td>2.074927</td>\n",
       "      <td>9.987006</td>\n",
       "      <td>11.702664</td>\n",
       "      <td>0</td>\n",
       "      <td>92.925935</td>\n",
       "    </tr>\n",
       "    <tr>\n",
       "      <th>...</th>\n",
       "      <td>...</td>\n",
       "      <td>...</td>\n",
       "      <td>...</td>\n",
       "      <td>...</td>\n",
       "      <td>...</td>\n",
       "      <td>...</td>\n",
       "      <td>...</td>\n",
       "      <td>...</td>\n",
       "      <td>...</td>\n",
       "      <td>...</td>\n",
       "      <td>...</td>\n",
       "      <td>...</td>\n",
       "      <td>...</td>\n",
       "      <td>...</td>\n",
       "      <td>...</td>\n",
       "      <td>...</td>\n",
       "      <td>...</td>\n",
       "      <td>...</td>\n",
       "      <td>...</td>\n",
       "      <td>...</td>\n",
       "      <td>...</td>\n",
       "    </tr>\n",
       "    <tr>\n",
       "      <th>39995</th>\n",
       "      <td>0</td>\n",
       "      <td>1.593480</td>\n",
       "      <td>19.628352</td>\n",
       "      <td>0.794697</td>\n",
       "      <td>-0.825849</td>\n",
       "      <td>0.608774</td>\n",
       "      <td>2.183834</td>\n",
       "      <td>3.202119</td>\n",
       "      <td>-0.723356</td>\n",
       "      <td>94.820410</td>\n",
       "      <td>...</td>\n",
       "      <td>NaN</td>\n",
       "      <td>3.017092</td>\n",
       "      <td>-1.640259</td>\n",
       "      <td>5.051545</td>\n",
       "      <td>5.798509</td>\n",
       "      <td>NaN</td>\n",
       "      <td>10.854903</td>\n",
       "      <td>9.505529</td>\n",
       "      <td>1</td>\n",
       "      <td>98.855726</td>\n",
       "    </tr>\n",
       "    <tr>\n",
       "      <th>39996</th>\n",
       "      <td>0</td>\n",
       "      <td>1.708685</td>\n",
       "      <td>17.132638</td>\n",
       "      <td>-2.676659</td>\n",
       "      <td>1.153851</td>\n",
       "      <td>0.465905</td>\n",
       "      <td>-0.048613</td>\n",
       "      <td>3.989567</td>\n",
       "      <td>1.468074</td>\n",
       "      <td>115.785563</td>\n",
       "      <td>...</td>\n",
       "      <td>8.706170</td>\n",
       "      <td>4.406889</td>\n",
       "      <td>-0.195783</td>\n",
       "      <td>2.020510</td>\n",
       "      <td>5.285345</td>\n",
       "      <td>-1.408117</td>\n",
       "      <td>8.867221</td>\n",
       "      <td>9.077493</td>\n",
       "      <td>0</td>\n",
       "      <td>101.880335</td>\n",
       "    </tr>\n",
       "    <tr>\n",
       "      <th>39997</th>\n",
       "      <td>0</td>\n",
       "      <td>1.704132</td>\n",
       "      <td>17.824399</td>\n",
       "      <td>-0.581360</td>\n",
       "      <td>NaN</td>\n",
       "      <td>0.467339</td>\n",
       "      <td>0.904643</td>\n",
       "      <td>2.975563</td>\n",
       "      <td>0.228908</td>\n",
       "      <td>107.939412</td>\n",
       "      <td>...</td>\n",
       "      <td>7.275794</td>\n",
       "      <td>4.537489</td>\n",
       "      <td>-0.071581</td>\n",
       "      <td>6.250353</td>\n",
       "      <td>4.729509</td>\n",
       "      <td>-1.118486</td>\n",
       "      <td>12.244620</td>\n",
       "      <td>7.663763</td>\n",
       "      <td>1</td>\n",
       "      <td>100.022536</td>\n",
       "    </tr>\n",
       "    <tr>\n",
       "      <th>39998</th>\n",
       "      <td>0</td>\n",
       "      <td>3.963408</td>\n",
       "      <td>20.285597</td>\n",
       "      <td>0.430116</td>\n",
       "      <td>0.050189</td>\n",
       "      <td>1.821565</td>\n",
       "      <td>-0.401259</td>\n",
       "      <td>-0.247649</td>\n",
       "      <td>-0.499294</td>\n",
       "      <td>93.314126</td>\n",
       "      <td>...</td>\n",
       "      <td>NaN</td>\n",
       "      <td>4.724964</td>\n",
       "      <td>-1.248535</td>\n",
       "      <td>8.928009</td>\n",
       "      <td>6.803781</td>\n",
       "      <td>NaN</td>\n",
       "      <td>9.876172</td>\n",
       "      <td>8.644538</td>\n",
       "      <td>0</td>\n",
       "      <td>109.460219</td>\n",
       "    </tr>\n",
       "    <tr>\n",
       "      <th>39999</th>\n",
       "      <td>0</td>\n",
       "      <td>2.574164</td>\n",
       "      <td>16.442850</td>\n",
       "      <td>-1.166067</td>\n",
       "      <td>-1.198482</td>\n",
       "      <td>0.180549</td>\n",
       "      <td>-0.273818</td>\n",
       "      <td>10.333122</td>\n",
       "      <td>1.648048</td>\n",
       "      <td>107.167219</td>\n",
       "      <td>...</td>\n",
       "      <td>NaN</td>\n",
       "      <td>5.231273</td>\n",
       "      <td>1.883730</td>\n",
       "      <td>3.781097</td>\n",
       "      <td>4.040118</td>\n",
       "      <td>-1.030703</td>\n",
       "      <td>8.747683</td>\n",
       "      <td>12.525860</td>\n",
       "      <td>1</td>\n",
       "      <td>110.334978</td>\n",
       "    </tr>\n",
       "  </tbody>\n",
       "</table>\n",
       "<p>40000 rows × 89 columns</p>\n",
       "</div>"
      ],
      "text/plain": [
       "       y        x1         x2        x4        x5        x6        x8  \\\n",
       "0      0  0.165254  18.060003  1.077380 -1.339233 -1.584341  0.220784   \n",
       "1      1  2.441471  18.416307  1.482586  0.920817 -0.759931  1.192441   \n",
       "2      1  4.427278  19.188092  0.145652  0.366093  0.709962  0.952323   \n",
       "3      0  3.925235  19.901257  1.763602 -0.251926 -0.827461 -0.520756   \n",
       "4      0  2.868802  22.202473  3.405119  0.083162  1.381504 -0.732739   \n",
       "...   ..       ...        ...       ...       ...       ...       ...   \n",
       "39995  0  1.593480  19.628352  0.794697 -0.825849  0.608774  2.183834   \n",
       "39996  0  1.708685  17.132638 -2.676659  1.153851  0.465905 -0.048613   \n",
       "39997  0  1.704132  17.824399 -0.581360       NaN  0.467339  0.904643   \n",
       "39998  0  3.963408  20.285597  0.430116  0.050189  1.821565 -0.401259   \n",
       "39999  0  2.574164  16.442850 -1.166067 -1.198482  0.180549 -0.273818   \n",
       "\n",
       "              x9       x10         x11  ...        x89       x90       x91  \\\n",
       "0       1.816481  1.171788  109.626841  ...  10.602395  2.770844 -0.397427   \n",
       "1       3.513950  1.419900   84.079367  ...  10.408146  3.703013  0.656651   \n",
       "2       0.782974 -1.247022   95.375221  ...        NaN  3.997183  2.059615   \n",
       "3       1.825586  2.223038   96.420382  ...        NaN  2.933707  0.899392   \n",
       "4       2.151990 -0.275406   90.769952  ...        NaN  2.922302  3.003595   \n",
       "...          ...       ...         ...  ...        ...       ...       ...   \n",
       "39995   3.202119 -0.723356   94.820410  ...        NaN  3.017092 -1.640259   \n",
       "39996   3.989567  1.468074  115.785563  ...   8.706170  4.406889 -0.195783   \n",
       "39997   2.975563  0.228908  107.939412  ...   7.275794  4.537489 -0.071581   \n",
       "39998  -0.247649 -0.499294   93.314126  ...        NaN  4.724964 -1.248535   \n",
       "39999  10.333122  1.648048  107.167219  ...        NaN  5.231273  1.883730   \n",
       "\n",
       "            x92       x94       x95        x96        x97  x98        x100  \n",
       "0      0.909479  5.492487       NaN  10.255579   7.627730    0  104.251338  \n",
       "1      9.093466  3.346429  4.321172        NaN  10.505284    1  101.230645  \n",
       "2      0.305170  4.456565       NaN   8.754572   7.810979    0  109.345215  \n",
       "3      5.971782  4.100022  1.151085        NaN   9.178325    1  103.021970  \n",
       "4      1.046096  3.234033  2.074927   9.987006  11.702664    0   92.925935  \n",
       "...         ...       ...       ...        ...        ...  ...         ...  \n",
       "39995  5.051545  5.798509       NaN  10.854903   9.505529    1   98.855726  \n",
       "39996  2.020510  5.285345 -1.408117   8.867221   9.077493    0  101.880335  \n",
       "39997  6.250353  4.729509 -1.118486  12.244620   7.663763    1  100.022536  \n",
       "39998  8.928009  6.803781       NaN   9.876172   8.644538    0  109.460219  \n",
       "39999  3.781097  4.040118 -1.030703   8.747683  12.525860    1  110.334978  \n",
       "\n",
       "[40000 rows x 89 columns]"
      ]
     },
     "execution_count": 40,
     "metadata": {},
     "output_type": "execute_result"
    }
   ],
   "source": [
    "df_num=df.select_dtypes(exclude=['object'])\n",
    "df_num"
   ]
  },
  {
   "cell_type": "code",
   "execution_count": 41,
   "id": "aa1da0f6",
   "metadata": {},
   "outputs": [
    {
     "data": {
      "image/png": "[encoded data removed]",
      "text/plain": [
       "<Figure size 432x288 with 1 Axes>"
      ]
     },
     "metadata": {
      "needs_background": "light"
     },
     "output_type": "display_data"
    },
    {
     "name": "stdout",
     "output_type": "stream",
     "text": [
      "0    85.4925\n",
      "1    14.5075\n",
      "Name: y, dtype: float64\n"
     ]
    }
   ],
   "source": [
    "sns.countplot(data=df_num, x=\"y\")\n",
    "plt.show()\n",
    "# Target variable is biased\n",
    "print(df_num['y'].value_counts(normalize=True)*100)\n"
   ]
  },
  {
   "cell_type": "code",
   "execution_count": 42,
   "id": "b33f6031",
   "metadata": {},
   "outputs": [
    {
     "data": {
      "text/html": [
       "<div>\n",
       "<style scoped>\n",
       "    .dataframe tbody tr th:only-of-type {\n",
       "        vertical-align: middle;\n",
       "    }\n",
       "\n",
       "    .dataframe tbody tr th {\n",
       "        vertical-align: top;\n",
       "    }\n",
       "\n",
       "    .dataframe thead th {\n",
       "        text-align: right;\n",
       "    }\n",
       "</style>\n",
       "<table border=\"1\" class=\"dataframe\">\n",
       "  <thead>\n",
       "    <tr style=\"text-align: right;\">\n",
       "      <th></th>\n",
       "      <th>y</th>\n",
       "    </tr>\n",
       "  </thead>\n",
       "  <tbody>\n",
       "    <tr>\n",
       "      <th>y</th>\n",
       "      <td>1.000000</td>\n",
       "    </tr>\n",
       "    <tr>\n",
       "      <th>x1</th>\n",
       "      <td>0.012335</td>\n",
       "    </tr>\n",
       "    <tr>\n",
       "      <th>x2</th>\n",
       "      <td>0.008695</td>\n",
       "    </tr>\n",
       "    <tr>\n",
       "      <th>x4</th>\n",
       "      <td>-0.003196</td>\n",
       "    </tr>\n",
       "    <tr>\n",
       "      <th>x5</th>\n",
       "      <td>-0.022691</td>\n",
       "    </tr>\n",
       "    <tr>\n",
       "      <th>...</th>\n",
       "      <td>...</td>\n",
       "    </tr>\n",
       "    <tr>\n",
       "      <th>x95</th>\n",
       "      <td>0.045970</td>\n",
       "    </tr>\n",
       "    <tr>\n",
       "      <th>x96</th>\n",
       "      <td>-0.050843</td>\n",
       "    </tr>\n",
       "    <tr>\n",
       "      <th>x97</th>\n",
       "      <td>0.007611</td>\n",
       "    </tr>\n",
       "    <tr>\n",
       "      <th>x98</th>\n",
       "      <td>-0.010771</td>\n",
       "    </tr>\n",
       "    <tr>\n",
       "      <th>x100</th>\n",
       "      <td>0.006104</td>\n",
       "    </tr>\n",
       "  </tbody>\n",
       "</table>\n",
       "<p>89 rows × 1 columns</p>\n",
       "</div>"
      ],
      "text/plain": [
       "             y\n",
       "y     1.000000\n",
       "x1    0.012335\n",
       "x2    0.008695\n",
       "x4   -0.003196\n",
       "x5   -0.022691\n",
       "...        ...\n",
       "x95   0.045970\n",
       "x96  -0.050843\n",
       "x97   0.007611\n",
       "x98  -0.010771\n",
       "x100  0.006104\n",
       "\n",
       "[89 rows x 1 columns]"
      ]
     },
     "execution_count": 42,
     "metadata": {},
     "output_type": "execute_result"
    }
   ],
   "source": [
    "#Correlation between the features wrt y to find the features that are closely correlated\n",
    "cor = df_num.corr()\n",
    "cor[['y']]"
   ]
  },
  {
   "cell_type": "code",
   "execution_count": 43,
   "id": "db1838a6",
   "metadata": {},
   "outputs": [],
   "source": [
    "num_list=df_num.columns\n",
    "#num_list"
   ]
  },
  {
   "cell_type": "code",
   "execution_count": 44,
   "id": "a6ea5af2",
   "metadata": {},
   "outputs": [
    {
     "data": {
      "image/png": "[encoded data removed]",
      "text/plain": [
       "<Figure size 1440x2160 with 89 Axes>"
      ]
     },
     "metadata": {
      "needs_background": "light"
     },
     "output_type": "display_data"
    }
   ],
   "source": [
    "plt.figure(figsize=(20,30))\n",
    "\n",
    "for i, col in zip(range(1,100), num_list):\n",
    "    plt.subplot(20,5,i)\n",
    "    plt.ylabel(col)\n",
    "    df_num[col].hist()\n",
    "               \n",
    "plt.tight_layout()\n",
    "plt.show()\n",
    "\n"
   ]
  },
  {
   "cell_type": "code",
   "execution_count": 45,
   "id": "f523df3f",
   "metadata": {},
   "outputs": [
    {
     "name": "stdout",
     "output_type": "stream",
     "text": [
      "y = [0 1]\n",
      "x59 = [0 1]\n",
      "x79 = [ 1. nan  0.]\n",
      "x98 = [0 1]\n"
     ]
    }
   ],
   "source": [
    "# from above plots its evident that some of the columns has only 2 unique values\n",
    "for i in df_num.columns[(df_num.nunique())<3]:\n",
    "    print(i,\"=\", df_num[i].unique()) # \"\\nval\",\"\\n\",df_num[i].value_counts(dropna=False, normalize=True)*100)\n",
    "    "
   ]
  },
  {
   "cell_type": "code",
   "execution_count": 46,
   "id": "8f6521c1",
   "metadata": {
    "scrolled": true
   },
   "outputs": [
    {
     "data": {
      "image/png": "[encoded data removed]",
      "text/plain": [
       "<Figure size 1440x2160 with 89 Axes>"
      ]
     },
     "metadata": {
      "needs_background": "light"
     },
     "output_type": "display_data"
    }
   ],
   "source": [
    "plt.figure(figsize=(20,30))\n",
    "\n",
    "for i, col in zip(range(1,100), num_list):\n",
    "    plt.subplot(10,10,i)\n",
    "    plt.ylabel(col)\n",
    "    plt.boxplot(df[col], vert=True)\n",
    "               \n",
    "plt.tight_layout()\n",
    "plt.show()"
   ]
  },
  {
   "cell_type": "code",
   "execution_count": 47,
   "id": "a56e5c02",
   "metadata": {},
   "outputs": [],
   "source": [
    "import statsmodels.api as sm\n",
    "from scipy.stats import norm\n",
    "import pylab\n",
    "\n",
    "# plt.figure(figsize=(20,30))\n",
    "\n",
    "# for i, col in zip(range(1,100), num_list[:5]):\n",
    "#     #plt.subplot(20,5,i)\n",
    "#     sm.qqplot(df_num[col], line='45')\n",
    "#     pylab.show()\n",
    "   \n",
    "               \n",
    "# plt.tight_layout()\n"
   ]
  },
  {
   "cell_type": "markdown",
   "id": "84a3a01d",
   "metadata": {},
   "source": [
    "\n"
   ]
  },
  {
   "cell_type": "code",
   "execution_count": 48,
   "id": "c6efb8af",
   "metadata": {},
   "outputs": [
    {
     "data": {
      "text/html": [
       "<div>\n",
       "<style scoped>\n",
       "    .dataframe tbody tr th:only-of-type {\n",
       "        vertical-align: middle;\n",
       "    }\n",
       "\n",
       "    .dataframe tbody tr th {\n",
       "        vertical-align: top;\n",
       "    }\n",
       "\n",
       "    .dataframe thead th {\n",
       "        text-align: right;\n",
       "    }\n",
       "</style>\n",
       "<table border=\"1\" class=\"dataframe\">\n",
       "  <thead>\n",
       "    <tr style=\"text-align: right;\">\n",
       "      <th></th>\n",
       "      <th>count</th>\n",
       "      <th>mean</th>\n",
       "      <th>std</th>\n",
       "      <th>min</th>\n",
       "      <th>25%</th>\n",
       "      <th>50%</th>\n",
       "      <th>75%</th>\n",
       "      <th>max</th>\n",
       "      <th>range</th>\n",
       "      <th>variation coefficient</th>\n",
       "      <th>skew</th>\n",
       "      <th>kurtosis</th>\n",
       "    </tr>\n",
       "  </thead>\n",
       "  <tbody>\n",
       "    <tr>\n",
       "      <th>y</th>\n",
       "      <td>40000.0</td>\n",
       "      <td>0.145075</td>\n",
       "      <td>0.352181</td>\n",
       "      <td>0.000000</td>\n",
       "      <td>0.000000</td>\n",
       "      <td>0.000000</td>\n",
       "      <td>0.000000</td>\n",
       "      <td>1.000000</td>\n",
       "      <td>1.000000</td>\n",
       "      <td>2.427578</td>\n",
       "      <td>2.015685</td>\n",
       "      <td>2.063088</td>\n",
       "    </tr>\n",
       "    <tr>\n",
       "      <th>x1</th>\n",
       "      <td>40000.0</td>\n",
       "      <td>2.999958</td>\n",
       "      <td>1.994490</td>\n",
       "      <td>-3.648431</td>\n",
       "      <td>1.592714</td>\n",
       "      <td>2.875892</td>\n",
       "      <td>4.270295</td>\n",
       "      <td>13.837591</td>\n",
       "      <td>17.486022</td>\n",
       "      <td>0.664839</td>\n",
       "      <td>0.382880</td>\n",
       "      <td>0.198652</td>\n",
       "    </tr>\n",
       "    <tr>\n",
       "      <th>x2</th>\n",
       "      <td>40000.0</td>\n",
       "      <td>20.004865</td>\n",
       "      <td>1.604291</td>\n",
       "      <td>13.714945</td>\n",
       "      <td>18.921388</td>\n",
       "      <td>20.005944</td>\n",
       "      <td>21.083465</td>\n",
       "      <td>27.086468</td>\n",
       "      <td>13.371523</td>\n",
       "      <td>0.080195</td>\n",
       "      <td>0.010218</td>\n",
       "      <td>-0.005302</td>\n",
       "    </tr>\n",
       "    <tr>\n",
       "      <th>x4</th>\n",
       "      <td>40000.0</td>\n",
       "      <td>0.002950</td>\n",
       "      <td>1.462185</td>\n",
       "      <td>-5.137161</td>\n",
       "      <td>-1.026798</td>\n",
       "      <td>0.002263</td>\n",
       "      <td>1.043354</td>\n",
       "      <td>5.150153</td>\n",
       "      <td>10.287314</td>\n",
       "      <td>495.650951</td>\n",
       "      <td>0.007023</td>\n",
       "      <td>-0.328269</td>\n",
       "    </tr>\n",
       "    <tr>\n",
       "      <th>x5</th>\n",
       "      <td>37572.0</td>\n",
       "      <td>0.005396</td>\n",
       "      <td>1.297952</td>\n",
       "      <td>-5.616412</td>\n",
       "      <td>-0.872354</td>\n",
       "      <td>0.008822</td>\n",
       "      <td>0.892467</td>\n",
       "      <td>5.698128</td>\n",
       "      <td>11.314540</td>\n",
       "      <td>240.536141</td>\n",
       "      <td>-0.005447</td>\n",
       "      <td>-0.001788</td>\n",
       "    </tr>\n",
       "    <tr>\n",
       "      <th>...</th>\n",
       "      <td>...</td>\n",
       "      <td>...</td>\n",
       "      <td>...</td>\n",
       "      <td>...</td>\n",
       "      <td>...</td>\n",
       "      <td>...</td>\n",
       "      <td>...</td>\n",
       "      <td>...</td>\n",
       "      <td>...</td>\n",
       "      <td>...</td>\n",
       "      <td>...</td>\n",
       "      <td>...</td>\n",
       "    </tr>\n",
       "    <tr>\n",
       "      <th>x95</th>\n",
       "      <td>27396.0</td>\n",
       "      <td>0.031886</td>\n",
       "      <td>1.823091</td>\n",
       "      <td>-6.885150</td>\n",
       "      <td>-1.190682</td>\n",
       "      <td>0.001523</td>\n",
       "      <td>1.248742</td>\n",
       "      <td>7.631773</td>\n",
       "      <td>14.516923</td>\n",
       "      <td>57.175635</td>\n",
       "      <td>0.049023</td>\n",
       "      <td>0.009103</td>\n",
       "    </tr>\n",
       "    <tr>\n",
       "      <th>x96</th>\n",
       "      <td>33362.0</td>\n",
       "      <td>10.525530</td>\n",
       "      <td>1.437581</td>\n",
       "      <td>8.210456</td>\n",
       "      <td>9.397548</td>\n",
       "      <td>10.358355</td>\n",
       "      <td>11.448559</td>\n",
       "      <td>18.725468</td>\n",
       "      <td>10.515012</td>\n",
       "      <td>0.136580</td>\n",
       "      <td>0.632746</td>\n",
       "      <td>0.118909</td>\n",
       "    </tr>\n",
       "    <tr>\n",
       "      <th>x97</th>\n",
       "      <td>40000.0</td>\n",
       "      <td>10.002814</td>\n",
       "      <td>1.986984</td>\n",
       "      <td>1.911272</td>\n",
       "      <td>8.665103</td>\n",
       "      <td>9.994318</td>\n",
       "      <td>11.342574</td>\n",
       "      <td>17.861580</td>\n",
       "      <td>15.950308</td>\n",
       "      <td>0.198642</td>\n",
       "      <td>0.019503</td>\n",
       "      <td>0.037706</td>\n",
       "    </tr>\n",
       "    <tr>\n",
       "      <th>x98</th>\n",
       "      <td>40000.0</td>\n",
       "      <td>0.497650</td>\n",
       "      <td>0.500001</td>\n",
       "      <td>0.000000</td>\n",
       "      <td>0.000000</td>\n",
       "      <td>0.000000</td>\n",
       "      <td>1.000000</td>\n",
       "      <td>1.000000</td>\n",
       "      <td>1.000000</td>\n",
       "      <td>1.004724</td>\n",
       "      <td>0.009400</td>\n",
       "      <td>-2.000012</td>\n",
       "    </tr>\n",
       "    <tr>\n",
       "      <th>x100</th>\n",
       "      <td>40000.0</td>\n",
       "      <td>100.024743</td>\n",
       "      <td>5.247514</td>\n",
       "      <td>78.340735</td>\n",
       "      <td>96.516856</td>\n",
       "      <td>100.024977</td>\n",
       "      <td>103.558762</td>\n",
       "      <td>122.406809</td>\n",
       "      <td>44.066074</td>\n",
       "      <td>0.052462</td>\n",
       "      <td>-0.010159</td>\n",
       "      <td>0.013053</td>\n",
       "    </tr>\n",
       "  </tbody>\n",
       "</table>\n",
       "<p>89 rows × 12 columns</p>\n",
       "</div>"
      ],
      "text/plain": [
       "        count        mean       std        min        25%         50%  \\\n",
       "y     40000.0    0.145075  0.352181   0.000000   0.000000    0.000000   \n",
       "x1    40000.0    2.999958  1.994490  -3.648431   1.592714    2.875892   \n",
       "x2    40000.0   20.004865  1.604291  13.714945  18.921388   20.005944   \n",
       "x4    40000.0    0.002950  1.462185  -5.137161  -1.026798    0.002263   \n",
       "x5    37572.0    0.005396  1.297952  -5.616412  -0.872354    0.008822   \n",
       "...       ...         ...       ...        ...        ...         ...   \n",
       "x95   27396.0    0.031886  1.823091  -6.885150  -1.190682    0.001523   \n",
       "x96   33362.0   10.525530  1.437581   8.210456   9.397548   10.358355   \n",
       "x97   40000.0   10.002814  1.986984   1.911272   8.665103    9.994318   \n",
       "x98   40000.0    0.497650  0.500001   0.000000   0.000000    0.000000   \n",
       "x100  40000.0  100.024743  5.247514  78.340735  96.516856  100.024977   \n",
       "\n",
       "             75%         max      range  variation coefficient      skew  \\\n",
       "y       0.000000    1.000000   1.000000               2.427578  2.015685   \n",
       "x1      4.270295   13.837591  17.486022               0.664839  0.382880   \n",
       "x2     21.083465   27.086468  13.371523               0.080195  0.010218   \n",
       "x4      1.043354    5.150153  10.287314             495.650951  0.007023   \n",
       "x5      0.892467    5.698128  11.314540             240.536141 -0.005447   \n",
       "...          ...         ...        ...                    ...       ...   \n",
       "x95     1.248742    7.631773  14.516923              57.175635  0.049023   \n",
       "x96    11.448559   18.725468  10.515012               0.136580  0.632746   \n",
       "x97    11.342574   17.861580  15.950308               0.198642  0.019503   \n",
       "x98     1.000000    1.000000   1.000000               1.004724  0.009400   \n",
       "x100  103.558762  122.406809  44.066074               0.052462 -0.010159   \n",
       "\n",
       "      kurtosis  \n",
       "y     2.063088  \n",
       "x1    0.198652  \n",
       "x2   -0.005302  \n",
       "x4   -0.328269  \n",
       "x5   -0.001788  \n",
       "...        ...  \n",
       "x95   0.009103  \n",
       "x96   0.118909  \n",
       "x97   0.037706  \n",
       "x98  -2.000012  \n",
       "x100  0.013053  \n",
       "\n",
       "[89 rows x 12 columns]"
      ]
     },
     "execution_count": 48,
     "metadata": {},
     "output_type": "execute_result"
    }
   ],
   "source": [
    "#Categorical and Numeric variable list\n",
    "category_list=[]\n",
    "num_list=[]\n",
    "for col in df.columns:\n",
    "    if df[col].dtype=='object':\n",
    "        category_list.append(col)\n",
    "    else:\n",
    "        num_list.append(col)\n",
    "        \n",
    "num_var=df[num_list]\n",
    "\n",
    "describe = num_var.describe().T\n",
    "describe['range'] = (num_var.max() - num_var.min()).tolist()\n",
    "describe['variation coefficient'] = (num_var.std() / num_var.mean()).tolist()\n",
    "describe['skew'] = num_var.skew().tolist()\n",
    "describe['kurtosis'] = num_var.kurtosis().tolist()\n",
    "describe        \n",
    "        "
   ]
  },
  {
   "cell_type": "code",
   "execution_count": 49,
   "id": "e09ec0b3",
   "metadata": {},
   "outputs": [],
   "source": [
    "high_skew = []\n",
    "\n",
    "df_num_indep=df_num.drop([\"y\"], axis=1)\n",
    "\n",
    "for i, col in enumerate(df_num_indep.columns):    \n",
    "    if df_num_indep.skew()[i]>1 or df_num_indep.skew()[i]<-1:\n",
    "        high_skew.append(col)\n"
   ]
  },
  {
   "cell_type": "code",
   "execution_count": 50,
   "id": "5a1dfae5",
   "metadata": {},
   "outputs": [
    {
     "name": "stdout",
     "output_type": "stream",
     "text": [
      "['x13', 'x21', 'x32', 'x35', 'x44', 'x59', 'x67', 'x73', 'x75', 'x79', 'x84', 'x89']\n"
     ]
    }
   ],
   "source": [
    "print(high_skew)"
   ]
  },
  {
   "cell_type": "code",
   "execution_count": 52,
   "id": "f6c7308d",
   "metadata": {},
   "outputs": [],
   "source": [
    "# separating X and y variables\n",
    "X =df.drop(\"y\", axis=1)\n",
    "y = df.loc[:,\"y\"].values.ravel()"
   ]
  },
  {
   "cell_type": "code",
   "execution_count": 53,
   "id": "e30e559c",
   "metadata": {},
   "outputs": [],
   "source": [
    "#Sampling\n",
    "from sklearn.model_selection import train_test_split\n",
    "\n",
    "X_train, X_test, y_train, y_test = train_test_split(X, y, test_size = 0.2, random_state=20)"
   ]
  },
  {
   "cell_type": "code",
   "execution_count": 54,
   "id": "2b014986",
   "metadata": {},
   "outputs": [],
   "source": [
    "X_train_num=X_train.select_dtypes(exclude=['object'])\n",
    "X_train_cat=X_train.select_dtypes(include=['object'])\n",
    "X_test_num=X_test.select_dtypes(exclude=['object'])\n",
    "X_test_cat=X_test.select_dtypes(include=['object'])"
   ]
  },
  {
   "cell_type": "code",
   "execution_count": 55,
   "id": "762c5d0d",
   "metadata": {},
   "outputs": [],
   "source": [
    "\n",
    "num_imputer = SimpleImputer(missing_values=np.nan, strategy='mean')\n",
    "cat_imputer= SimpleImputer(missing_values=np.nan, strategy=\"most_frequent\")\n",
    "\n",
    "num_mean_imputer = num_imputer.fit(X_train_num)\n",
    "cat_mean_imputer= cat_imputer.fit(X_train_cat)\n",
    "\n",
    "X_train_inum = num_mean_imputer.transform(X_train_num)\n",
    "\n",
    "X_test_inum=num_mean_imputer.transform(X_test_num)\n"
   ]
  },
  {
   "cell_type": "code",
   "execution_count": 56,
   "id": "1067f824",
   "metadata": {
    "scrolled": true
   },
   "outputs": [
    {
     "data": {
      "text/plain": [
       "0         Wed\n",
       "1      Friday\n",
       "2    Thursday\n",
       "3     Tuesday\n",
       "4      Sunday\n",
       "Name: x3, dtype: object"
      ]
     },
     "execution_count": 56,
     "metadata": {},
     "output_type": "execute_result"
    }
   ],
   "source": [
    "X['x3'].head()"
   ]
  },
  {
   "cell_type": "code",
   "execution_count": 57,
   "id": "fe685b66",
   "metadata": {
    "scrolled": true
   },
   "outputs": [],
   "source": [
    "#ct.fit_transform(X)"
   ]
  },
  {
   "cell_type": "code",
   "execution_count": 58,
   "id": "f084e5ed",
   "metadata": {},
   "outputs": [],
   "source": [
    "# x3_pipe = make_pipeline(x3_week_fun, SimpleImputer(strategy=\"most_frequent\"), OneHotEncoder())\n",
    "# ct = make_column_transformer((x3_pipe, ['x3']))\n",
    "# ct.fit_transform(X).toarray()[0].size"
   ]
  },
  {
   "cell_type": "code",
   "execution_count": 59,
   "id": "a88e97f6",
   "metadata": {},
   "outputs": [],
   "source": [
    "#ct.fit_transform(df).toarray()[0].size\n"
   ]
  },
  {
   "cell_type": "markdown",
   "id": "9091dc58",
   "metadata": {},
   "source": [
    "# Coulmn Transform  and Pipelines"
   ]
  },
  {
   "cell_type": "code",
   "execution_count": 60,
   "id": "525e4576",
   "metadata": {},
   "outputs": [],
   "source": [
    "## Functions and tranformation "
   ]
  },
  {
   "cell_type": "code",
   "execution_count": 61,
   "id": "7035b2ed",
   "metadata": {},
   "outputs": [],
   "source": [
    "\n",
    "def week_day(df):    \n",
    "    df['x3']=df['x3'].replace(['Mon','Tue', 'Wed','Thur','Fri','Sat','Sun'],['Monday','Tuesday','Wednesday','Thursday','Friday','Saturday',\n",
    "                            'Sunday'])    \n",
    "    return df\n",
    "\n",
    "x3_week_fun=FunctionTransformer(week_day)     "
   ]
  },
  {
   "cell_type": "code",
   "execution_count": 62,
   "id": "3422ccfe",
   "metadata": {},
   "outputs": [],
   "source": [
    "def col_x7(df):\n",
    "    df = df.apply(lambda x: x.str.replace('%',\"\"))\n",
    "\n",
    "    return (np.float_(df))\n"
   ]
  },
  {
   "cell_type": "code",
   "execution_count": 63,
   "id": "089267ba",
   "metadata": {},
   "outputs": [],
   "source": [
    "def col_x19(df):\n",
    "    df = df.apply(lambda x: x.str.replace('$',\"\"))\n",
    "\n",
    "    return (np.float_(df))\n"
   ]
  },
  {
   "cell_type": "code",
   "execution_count": 64,
   "id": "64d73a5e",
   "metadata": {},
   "outputs": [],
   "source": [
    "class columnDropperTransformer():\n",
    "    def __init__(self,columns):\n",
    "        self.columns=columns\n",
    "\n",
    "    def transform(self,X,y=None):\n",
    "        return X.drop(self.columns,axis=1)\n",
    "\n",
    "    def fit(self, X, y=None):\n",
    "        return self "
   ]
  },
  {
   "cell_type": "code",
   "execution_count": 65,
   "id": "8ad096b8",
   "metadata": {},
   "outputs": [],
   "source": [
    "# x3 pipeline\n",
    "x3_pipe = Pipeline([('x3_week_fun', x3_week_fun), \n",
    "                   ('simple_imputer', SimpleImputer(strategy=\"most_frequent\")), \n",
    "                   ('ohe', OneHotEncoder())])"
   ]
  },
  {
   "cell_type": "code",
   "execution_count": 66,
   "id": "d4a39349",
   "metadata": {},
   "outputs": [],
   "source": [
    "cat_var_pipe = Pipeline([('simple_imputer', SimpleImputer(strategy=\"most_frequent\")), \n",
    "                                                     ('ohe',OneHotEncoder())])"
   ]
  },
  {
   "cell_type": "code",
   "execution_count": 67,
   "id": "1bc0718e",
   "metadata": {},
   "outputs": [],
   "source": [
    "# numeric columns with skewness pipeline\n",
    "num_skewness_pipe = Pipeline([('simple_imputer',SimpleImputer(strategy=\"mean\")), \n",
    "                               ('scaler',StandardScaler()),\n",
    "                                ('pow_tf',PowerTransformer())])"
   ]
  },
  {
   "cell_type": "code",
   "execution_count": 68,
   "id": "2043650a",
   "metadata": {},
   "outputs": [],
   "source": [
    "# custom x7 pipeline\n",
    "col_x7_tf = FunctionTransformer(col_x7)\n",
    "x7_pipe=Pipeline([('col_x7_tf',col_x7_tf ),\n",
    "                ('scaler',StandardScaler())])\n",
    "# custom x19 pipeline\n",
    "col_x19_tf = FunctionTransformer(col_x19)\n",
    "x19_pipe=Pipeline([('col_x19_tf',col_x19_tf ),\n",
    "                ('scaler',StandardScaler())])\n"
   ]
  },
  {
   "cell_type": "code",
   "execution_count": 69,
   "id": "81c7045a",
   "metadata": {},
   "outputs": [
    {
     "name": "stdout",
     "output_type": "stream",
     "text": [
      "['x1', 'x2', 'x4', 'x5', 'x6', 'x8', 'x9', 'x10', 'x11', 'x12', 'x14', 'x15', 'x16', 'x17', 'x18', 'x20', 'x21', 'x23', 'x25', 'x26', 'x27', 'x28', 'x29', 'x30', 'x32', 'x35', 'x37', 'x38', 'x40', 'x41', 'x42', 'x43', 'x44', 'x46', 'x47', 'x48', 'x49', 'x50', 'x51', 'x52', 'x53', 'x54', 'x55', 'x56', 'x57', 'x58', 'x59', 'x62', 'x63', 'x64', 'x66', 'x67', 'x69', 'x70', 'x71', 'x72', 'x73', 'x75', 'x78', 'x79', 'x81', 'x82', 'x83', 'x84', 'x86', 'x87', 'x88', 'x89', 'x91', 'x92', 'x94', 'x95', 'x96', 'x97', 'x98', 'x100']\n"
     ]
    }
   ],
   "source": [
    "#['x13', 'x22', 'x34', 'x36', 'x45', 'x61', 'x68', 'x74', 'x76', 'x80', 'x85', 'x90']\n",
    "non_skew_num_var = []\n",
    "for col in df.select_dtypes(exclude=['object']):\n",
    "    if col not in  ['y','x13', 'x22', 'x34', 'x36', 'x45', 'x61', 'x68', 'x74', 'x76', 'x80', 'x85', 'x90']:\n",
    "        non_skew_num_var.append(col)\n",
    "        \n",
    "print(non_skew_num_var)  "
   ]
  },
  {
   "cell_type": "code",
   "execution_count": 70,
   "id": "3a9f64ab",
   "metadata": {},
   "outputs": [],
   "source": [
    "# Non_Skew columns transfer pipeline\n",
    "\n",
    "non_skew_numeric_var_pipe = Pipeline([('imp',SimpleImputer(strategy=\"mean\")), \n",
    "                               ('scaler',StandardScaler())\n",
    "                                     ])\n"
   ]
  },
  {
   "cell_type": "code",
   "execution_count": 71,
   "id": "9f262690",
   "metadata": {},
   "outputs": [],
   "source": [
    "#columns with more than 60 % null value\n",
    "null_col=['x30','x44','x57','x39','x99']"
   ]
  },
  {
   "cell_type": "code",
   "execution_count": 72,
   "id": "18ed9398",
   "metadata": {},
   "outputs": [],
   "source": [
    "# null columns tranfer pipeline\n",
    "\n",
    "null_pipe = Pipeline([\n",
    "    (\"columnDropper\", columnDropperTransformer(null_col))\n",
    "])"
   ]
  },
  {
   "cell_type": "code",
   "execution_count": 73,
   "id": "0f2eb92f",
   "metadata": {},
   "outputs": [],
   "source": [
    "\n",
    "preprocessor = make_column_transformer(\n",
    "                             # categorical features : null values handeling , OneHotEncoding \n",
    "                            (x3_pipe, ['x3']),\n",
    "                            (cat_var_pipe, ['x24','x31','x33','x60','x65','x77','x93']),\n",
    "    \n",
    "                             # categorical features: text process and transform to numerical features\n",
    "                             (x7_pipe, ['x7']),\n",
    "                             (x19_pipe, ['x19']),\n",
    "                            \n",
    "                             \n",
    "                             # Numeric features with high skewness \n",
    "                            (num_skewness_pipe, ['x13', 'x22', 'x34', 'x36', 'x45', 'x61', 'x68', 'x74', 'x76', 'x80', 'x85', 'x90']),\n",
    "                                                         \n",
    "                             \n",
    "                             # Remaing numeric features\n",
    "                             (non_skew_numeric_var_pipe, non_skew_num_var),\n",
    "                                       \n",
    "                             #drop column with more than 60% null         \n",
    "                             (null_pipe, null_col)\n",
    "                             )\n",
    "\n"
   ]
  },
  {
   "cell_type": "code",
   "execution_count": 74,
   "id": "e9a459b9",
   "metadata": {},
   "outputs": [],
   "source": [
    "data=pd.read_csv(\"exercise_40_train.csv\")"
   ]
  },
  {
   "cell_type": "code",
   "execution_count": 75,
   "id": "7d0403fa",
   "metadata": {},
   "outputs": [],
   "source": [
    "#drop--'x30','x44','x57'- null values and 'x39','x99'- same value\n",
    "X= data.drop(['y'], axis=1)\n",
    "y = data['y']"
   ]
  },
  {
   "cell_type": "code",
   "execution_count": 76,
   "id": "df6dd097",
   "metadata": {},
   "outputs": [
    {
     "data": {
      "text/plain": [
       "Index(['x1', 'x2', 'x3', 'x4', 'x5', 'x6', 'x7', 'x8', 'x9', 'x10', 'x11',\n",
       "       'x12', 'x13', 'x14', 'x15', 'x16', 'x17', 'x18', 'x19', 'x20', 'x21',\n",
       "       'x22', 'x23', 'x24', 'x25', 'x26', 'x27', 'x28', 'x29', 'x30', 'x31',\n",
       "       'x32', 'x33', 'x34', 'x35', 'x36', 'x37', 'x38', 'x39', 'x40', 'x41',\n",
       "       'x42', 'x43', 'x44', 'x45', 'x46', 'x47', 'x48', 'x49', 'x50', 'x51',\n",
       "       'x52', 'x53', 'x54', 'x55', 'x56', 'x57', 'x58', 'x59', 'x60', 'x61',\n",
       "       'x62', 'x63', 'x64', 'x65', 'x66', 'x67', 'x68', 'x69', 'x70', 'x71',\n",
       "       'x72', 'x73', 'x74', 'x75', 'x76', 'x77', 'x78', 'x79', 'x80', 'x81',\n",
       "       'x82', 'x83', 'x84', 'x85', 'x86', 'x87', 'x88', 'x89', 'x90', 'x91',\n",
       "       'x92', 'x93', 'x94', 'x95', 'x96', 'x97', 'x98', 'x99', 'x100'],\n",
       "      dtype='object')"
      ]
     },
     "execution_count": 76,
     "metadata": {},
     "output_type": "execute_result"
    }
   ],
   "source": [
    "X.columns"
   ]
  },
  {
   "cell_type": "markdown",
   "id": "58752cae",
   "metadata": {},
   "source": [
    "# Logistic Regression"
   ]
  },
  {
   "cell_type": "code",
   "execution_count": 77,
   "id": "02c6b9c8",
   "metadata": {},
   "outputs": [
    {
     "name": "stdout",
     "output_type": "stream",
     "text": [
      "0    85.4925\n",
      "1    14.5075\n",
      "Name: y, dtype: float64\n"
     ]
    }
   ],
   "source": [
    "print(y.value_counts(normalize=True)*100)\n",
    "#approx 6:1"
   ]
  },
  {
   "cell_type": "code",
   "execution_count": 78,
   "id": "e121b527",
   "metadata": {},
   "outputs": [
    {
     "data": {
      "text/plain": [
       "Pipeline(steps=[('preprocessor',\n",
       "                 ColumnTransformer(transformers=[('pipeline-1',\n",
       "                                                  Pipeline(steps=[('x3_week_fun',\n",
       "                                                                   FunctionTransformer(func=<function week_day at 0x0000028B63EC9F70>)),\n",
       "                                                                  ('simple_imputer',\n",
       "                                                                   SimpleImputer(strategy='most_frequent')),\n",
       "                                                                  ('ohe',\n",
       "                                                                   OneHotEncoder())]),\n",
       "                                                  ['x3']),\n",
       "                                                 ('pipeline-2',\n",
       "                                                  Pipeline(steps=[('simple_imputer',\n",
       "                                                                   SimpleImputer(strategy='most_frequ...\n",
       "                                                   'x12', 'x14', 'x15', 'x16',\n",
       "                                                   'x17', 'x18', 'x20', 'x21',\n",
       "                                                   'x23', 'x25', 'x26', 'x27',\n",
       "                                                   'x28', 'x29', 'x30', 'x32',\n",
       "                                                   'x35', 'x37', 'x38', 'x40',\n",
       "                                                   'x41', ...]),\n",
       "                                                 ('pipeline-7',\n",
       "                                                  Pipeline(steps=[('columnDropper',\n",
       "                                                                   <__main__.columnDropperTransformer object at 0x0000028B63E63970>)]),\n",
       "                                                  ['x30', 'x44', 'x57', 'x39',\n",
       "                                                   'x99'])])),\n",
       "                ('classiffier',\n",
       "                 LogisticRegression(class_weight={0: 1, 1: 6},\n",
       "                                    random_state=20))])"
      ]
     },
     "execution_count": 78,
     "metadata": {},
     "output_type": "execute_result"
    }
   ],
   "source": [
    "w = {0:1, 1:6}\n",
    "lg = LogisticRegression(class_weight=w, random_state=20)\n",
    "\n",
    "LG_pipe = Pipeline(steps=[('preprocessor', preprocessor),\n",
    "                             ('classiffier', lg)])\n",
    "\n",
    "LG_pipe.fit(X,y)"
   ]
  },
  {
   "cell_type": "code",
   "execution_count": 79,
   "id": "2365c5c9",
   "metadata": {},
   "outputs": [
    {
     "name": "stdout",
     "output_type": "stream",
     "text": [
      "Accuracy Score: 0.68835\n"
     ]
    }
   ],
   "source": [
    "lg_y_pred = LG_pipe.predict(X)\n",
    "print(f'Accuracy Score: {accuracy_score(y,lg_y_pred)}')\n"
   ]
  },
  {
   "cell_type": "code",
   "execution_count": 80,
   "id": "037164d3",
   "metadata": {},
   "outputs": [
    {
     "name": "stdout",
     "output_type": "stream",
     "text": [
      "[[23393 10804]\n",
      " [ 1662  4141]] \n",
      "\n",
      "              precision    recall  f1-score   support\n",
      "\n",
      "           0       0.93      0.68      0.79     34197\n",
      "           1       0.28      0.71      0.40      5803\n",
      "\n",
      "    accuracy                           0.69     40000\n",
      "   macro avg       0.61      0.70      0.59     40000\n",
      "weighted avg       0.84      0.69      0.73     40000\n",
      "\n"
     ]
    }
   ],
   "source": [
    "lg_cm=confusion_matrix(y,lg_y_pred)\n",
    "lg_cr=classification_report(y,lg_y_pred)\n",
    "print(lg_cm,\"\\n\")\n",
    "print(lg_cr)"
   ]
  },
  {
   "cell_type": "code",
   "execution_count": 99,
   "id": "1a5d25a3",
   "metadata": {},
   "outputs": [
    {
     "data": {
      "image/png": "[encoded data removed]",
      "text/plain": [
       "<Figure size 360x360 with 2 Axes>"
      ]
     },
     "metadata": {
      "needs_background": "light"
     },
     "output_type": "display_data"
    }
   ],
   "source": [
    "# plotting confusion metrix\n",
    "plt.figure(figsize=(4,4), dpi=90)\n",
    "sns.heatmap(lg_cm, annot=True, fmt=\".1f\")\n",
    "plt.title(\"Confusion Matrix\")\n",
    "plt.ylabel(\"Actual Values\")\n",
    "plt.xlabel(\"Predict Values\")\n",
    "plt.show()"
   ]
  },
  {
   "cell_type": "code",
   "execution_count": 82,
   "id": "373f5eaf",
   "metadata": {},
   "outputs": [
    {
     "data": {
      "image/png": "[encoded data removed]",
      "text/plain": [
       "<Figure size 432x288 with 1 Axes>"
      ]
     },
     "metadata": {
      "needs_background": "light"
     },
     "output_type": "display_data"
    }
   ],
   "source": [
    "plot_roc_curve(y,lg_y_pred)"
   ]
  },
  {
   "cell_type": "markdown",
   "id": "07e0693d",
   "metadata": {},
   "source": [
    "# XG Boost"
   ]
  },
  {
   "cell_type": "code",
   "execution_count": 83,
   "id": "68fd490a",
   "metadata": {},
   "outputs": [],
   "source": [
    "xgb=XGBClassifier( scale_pos_weight=6,eval_metric='mlogloss',n_estimators=150, learning_rate=1, max_depth=3, random_state=20)"
   ]
  },
  {
   "cell_type": "code",
   "execution_count": 84,
   "id": "90a493d8",
   "metadata": {
    "scrolled": true
   },
   "outputs": [
    {
     "data": {
      "text/plain": [
       "Pipeline(steps=[('preprocessor',\n",
       "                 ColumnTransformer(transformers=[('pipeline-1',\n",
       "                                                  Pipeline(steps=[('x3_week_fun',\n",
       "                                                                   FunctionTransformer(func=<function week_day at 0x0000028B63EC9F70>)),\n",
       "                                                                  ('simple_imputer',\n",
       "                                                                   SimpleImputer(strategy='most_frequent')),\n",
       "                                                                  ('ohe',\n",
       "                                                                   OneHotEncoder())]),\n",
       "                                                  ['x3']),\n",
       "                                                 ('pipeline-2',\n",
       "                                                  Pipeline(steps=[('simple_imputer',\n",
       "                                                                   SimpleImputer(strategy='most_frequ...\n",
       "                               eval_metric='mlogloss', gamma=0, gpu_id=-1,\n",
       "                               importance_type=None, interaction_constraints='',\n",
       "                               learning_rate=1, max_delta_step=0, max_depth=3,\n",
       "                               min_child_weight=1, missing=nan,\n",
       "                               monotone_constraints='()', n_estimators=150,\n",
       "                               n_jobs=8, num_parallel_tree=1, predictor='auto',\n",
       "                               random_state=20, reg_alpha=0, reg_lambda=1,\n",
       "                               scale_pos_weight=6, subsample=1,\n",
       "                               tree_method='exact', validate_parameters=1,\n",
       "                               verbosity=None))])"
      ]
     },
     "execution_count": 84,
     "metadata": {},
     "output_type": "execute_result"
    }
   ],
   "source": [
    "XGB_pipe = Pipeline(steps=[('preprocessor', preprocessor),\n",
    "                             \n",
    "                             ('classiffier', xgb)])\n",
    "\n",
    "XGB_pipe.fit(X,y)\n"
   ]
  },
  {
   "cell_type": "code",
   "execution_count": 85,
   "id": "c58360cc",
   "metadata": {},
   "outputs": [
    {
     "name": "stdout",
     "output_type": "stream",
     "text": [
      "Accuracy Score: 0.84045\n"
     ]
    }
   ],
   "source": [
    "y_pred = XGB_pipe.predict(X)\n",
    "print(f'Accuracy Score: {accuracy_score(y,y_pred)}')\n"
   ]
  },
  {
   "cell_type": "code",
   "execution_count": 86,
   "id": "f8bd1e3f",
   "metadata": {},
   "outputs": [
    {
     "name": "stdout",
     "output_type": "stream",
     "text": [
      "[[28328  5869]\n",
      " [  513  5290]] \n",
      "\n",
      "              precision    recall  f1-score   support\n",
      "\n",
      "           0       0.98      0.83      0.90     34197\n",
      "           1       0.47      0.91      0.62      5803\n",
      "\n",
      "    accuracy                           0.84     40000\n",
      "   macro avg       0.73      0.87      0.76     40000\n",
      "weighted avg       0.91      0.84      0.86     40000\n",
      "\n"
     ]
    }
   ],
   "source": [
    "# Evaluation \n",
    "\n",
    "xgb_cm=confusion_matrix(y,y_pred)\n",
    "xgb_cr=classification_report(y,y_pred)\n",
    "print(xgb_cm,\"\\n\")\n",
    "print(xgb_cr)\n"
   ]
  },
  {
   "cell_type": "code",
   "execution_count": 100,
   "id": "b90a8075",
   "metadata": {},
   "outputs": [
    {
     "data": {
      "image/png": "[encoded data removed]",
      "text/plain": [
       "<Figure size 360x360 with 2 Axes>"
      ]
     },
     "metadata": {
      "needs_background": "light"
     },
     "output_type": "display_data"
    }
   ],
   "source": [
    "# plotting confusion metrix\n",
    "plt.figure(figsize=(4,4), dpi=90)\n",
    "sns.heatmap(xgb_cm, annot=True, fmt=\".1f\")\n",
    "plt.title(\"Confusion Matrix\")\n",
    "plt.ylabel(\"Actual Values\")\n",
    "plt.xlabel(\"Predict Values\")\n",
    "plt.show()"
   ]
  },
  {
   "cell_type": "code",
   "execution_count": 88,
   "id": "eb0f7ef7",
   "metadata": {},
   "outputs": [
    {
     "data": {
      "image/png": "[encoded data removed]",
      "text/plain": [
       "<Figure size 432x288 with 1 Axes>"
      ]
     },
     "metadata": {
      "needs_background": "light"
     },
     "output_type": "display_data"
    }
   ],
   "source": [
    "plot_roc_curve(y,y_pred)"
   ]
  },
  {
   "cell_type": "markdown",
   "id": "c0683072",
   "metadata": {},
   "source": [
    "## TEST DATA: Class probabilities predictions"
   ]
  },
  {
   "cell_type": "code",
   "execution_count": 89,
   "id": "ece7c895",
   "metadata": {},
   "outputs": [],
   "source": [
    "df_test = pd.read_csv(\"test.csv\")"
   ]
  },
  {
   "cell_type": "code",
   "execution_count": 93,
   "id": "b81f69bb",
   "metadata": {},
   "outputs": [],
   "source": [
    "lg_glmresults = LG_pipe.predict_proba(df_test)\n",
    "lg_glmresults_pos = lg_glmresults[:,1]\n",
    "\n",
    "\n",
    "lg_glmresults_df = pd.DataFrame(lg_glmresults_pos)\n",
    "lg_glmresults_df.to_csv(\"glmres.csv\", index = False,header=False)"
   ]
  },
  {
   "cell_type": "code",
   "execution_count": 94,
   "id": "64ad042b",
   "metadata": {},
   "outputs": [],
   "source": [
    "xgb_nonglmresults = XGB_pipe.predict_proba(df_test)\n",
    "xgb_nonglmresults_pos = xgb_nonglmresults[:,1]\n",
    "\n",
    "xgb_nonglmresults_df = pd.DataFrame(xgb_nonglmresults_pos)\n",
    "xgb_nonglmresults_df.to_csv(\"nonglmres.csv\",index = False,header=False)"
   ]
  },
  {
   "cell_type": "code",
   "execution_count": 97,
   "id": "95384ca8",
   "metadata": {},
   "outputs": [
    {
     "data": {
      "text/plain": [
       "array([[0.86296392, 0.13703608],\n",
       "       [0.68975745, 0.31024255],\n",
       "       [0.33248135, 0.66751865],\n",
       "       ...,\n",
       "       [0.49573491, 0.50426509],\n",
       "       [0.30500939, 0.69499061],\n",
       "       [0.88682583, 0.11317417]])"
      ]
     },
     "execution_count": 97,
     "metadata": {},
     "output_type": "execute_result"
    }
   ],
   "source": [
    "lg_glmresults"
   ]
  },
  {
   "cell_type": "code",
   "execution_count": null,
   "id": "715529d9",
   "metadata": {},
   "outputs": [],
   "source": []
  }
 ],
 "metadata": {
  "kernelspec": {
   "display_name": "Python 3 (ipykernel)",
   "language": "python",
   "name": "python3"
  },
  "language_info": {
   "codemirror_mode": {
    "name": "ipython",
    "version": 3
   },
   "file_extension": ".py",
   "mimetype": "text/x-python",
   "name": "python",
   "nbconvert_exporter": "python",
   "pygments_lexer": "ipython3",
   "version": "3.9.7"
  }
 },
 "nbformat": 4,
 "nbformat_minor": 5
}
